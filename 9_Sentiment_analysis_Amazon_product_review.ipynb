{
  "nbformat": 4,
  "nbformat_minor": 0,
  "metadata": {
    "colab": {
      "provenance": []
    },
    "kernelspec": {
      "name": "python3",
      "display_name": "Python 3"
    },
    "language_info": {
      "name": "python"
    }
  },
  "cells": [
    {
      "cell_type": "code",
      "metadata": {
        "id": "SuRWQOfmfDGC"
      },
      "source": [
        "import pandas as pd\n",
        "import numpy as np\n",
        "import matplotlib.pyplot as plt\n",
        "import seaborn as sns"
      ],
      "execution_count": null,
      "outputs": []
    },
    {
      "cell_type": "code",
      "metadata": {
        "id": "Fj6-It4Vf2Zh",
        "colab": {
          "base_uri": "https://localhost:8080/"
        },
        "outputId": "4b735a44-4e15-4ff5-af11-10ba87f7a37d"
      },
      "source": [
        "from google.colab import drive\n",
        "drive.mount('/content/drive/') "
      ],
      "execution_count": null,
      "outputs": [
        {
          "output_type": "stream",
          "name": "stdout",
          "text": [
            "Drive already mounted at /content/drive/; to attempt to forcibly remount, call drive.mount(\"/content/drive/\", force_remount=True).\n"
          ]
        }
      ]
    },
    {
      "cell_type": "code",
      "metadata": {
        "id": "EXAhk1-Bi4bE",
        "colab": {
          "base_uri": "https://localhost:8080/"
        },
        "outputId": "771d6823-edf7-4be8-aeb1-3c6a7595bbc3"
      },
      "source": [
        "df = pd.read_csv('/content/drive/MyDrive/Sentiment analysis/final_dataset.csv', usecols = ['reviews.rating', 'reviews.text'],encoding= 'unicode_escape')"
      ],
      "execution_count": null,
      "outputs": [
        {
          "output_type": "stream",
          "name": "stderr",
          "text": [
            "/usr/local/lib/python3.7/dist-packages/IPython/core/interactiveshell.py:2718: DtypeWarning: Columns (18,20) have mixed types.Specify dtype option on import or set low_memory=False.\n",
            "  interactivity=interactivity, compiler=compiler, result=result)\n"
          ]
        }
      ]
    },
    {
      "cell_type": "code",
      "metadata": {
        "id": "UyYzQ3T0jHU3",
        "colab": {
          "base_uri": "https://localhost:8080/",
          "height": 357
        },
        "outputId": "63700f4d-8a83-45ec-941a-80d091418e9d"
      },
      "source": [
        "df.head(10)"
      ],
      "execution_count": null,
      "outputs": [
        {
          "output_type": "execute_result",
          "data": {
            "text/html": [
              "<div>\n",
              "<style scoped>\n",
              "    .dataframe tbody tr th:only-of-type {\n",
              "        vertical-align: middle;\n",
              "    }\n",
              "\n",
              "    .dataframe tbody tr th {\n",
              "        vertical-align: top;\n",
              "    }\n",
              "\n",
              "    .dataframe thead th {\n",
              "        text-align: right;\n",
              "    }\n",
              "</style>\n",
              "<table border=\"1\" class=\"dataframe\">\n",
              "  <thead>\n",
              "    <tr style=\"text-align: right;\">\n",
              "      <th></th>\n",
              "      <th>reviews.rating</th>\n",
              "      <th>reviews.text</th>\n",
              "    </tr>\n",
              "  </thead>\n",
              "  <tbody>\n",
              "    <tr>\n",
              "      <th>0</th>\n",
              "      <td>3</td>\n",
              "      <td>I thought it would be as big as small paper bu...</td>\n",
              "    </tr>\n",
              "    <tr>\n",
              "      <th>1</th>\n",
              "      <td>5</td>\n",
              "      <td>This kindle is light and easy to use especiall...</td>\n",
              "    </tr>\n",
              "    <tr>\n",
              "      <th>2</th>\n",
              "      <td>4</td>\n",
              "      <td>Didnt know how much i'd use a kindle so went f...</td>\n",
              "    </tr>\n",
              "    <tr>\n",
              "      <th>3</th>\n",
              "      <td>5</td>\n",
              "      <td>I am 100 happy with my purchase. I caught it o...</td>\n",
              "    </tr>\n",
              "    <tr>\n",
              "      <th>4</th>\n",
              "      <td>5</td>\n",
              "      <td>Solid entry level Kindle. Great for kids. Gift...</td>\n",
              "    </tr>\n",
              "    <tr>\n",
              "      <th>5</th>\n",
              "      <td>5</td>\n",
              "      <td>This make an excellent ebook reader. Don't exp...</td>\n",
              "    </tr>\n",
              "    <tr>\n",
              "      <th>6</th>\n",
              "      <td>5</td>\n",
              "      <td>I ordered this for my daughter, as I have the ...</td>\n",
              "    </tr>\n",
              "    <tr>\n",
              "      <th>7</th>\n",
              "      <td>4</td>\n",
              "      <td>I bought my Kindle about 2 months ago and the ...</td>\n",
              "    </tr>\n",
              "    <tr>\n",
              "      <th>8</th>\n",
              "      <td>5</td>\n",
              "      <td>amazon kindle is always the best ebook, upgrad...</td>\n",
              "    </tr>\n",
              "    <tr>\n",
              "      <th>9</th>\n",
              "      <td>5</td>\n",
              "      <td>It's beyond my expectation, and it can even sh...</td>\n",
              "    </tr>\n",
              "  </tbody>\n",
              "</table>\n",
              "</div>"
            ],
            "text/plain": [
              "  reviews.rating                                       reviews.text\n",
              "0              3  I thought it would be as big as small paper bu...\n",
              "1              5  This kindle is light and easy to use especiall...\n",
              "2              4  Didnt know how much i'd use a kindle so went f...\n",
              "3              5  I am 100 happy with my purchase. I caught it o...\n",
              "4              5  Solid entry level Kindle. Great for kids. Gift...\n",
              "5              5  This make an excellent ebook reader. Don't exp...\n",
              "6              5  I ordered this for my daughter, as I have the ...\n",
              "7              4  I bought my Kindle about 2 months ago and the ...\n",
              "8              5  amazon kindle is always the best ebook, upgrad...\n",
              "9              5  It's beyond my expectation, and it can even sh..."
            ]
          },
          "metadata": {},
          "execution_count": 8
        }
      ]
    },
    {
      "cell_type": "code",
      "metadata": {
        "id": "ELEEfaAojMA1",
        "colab": {
          "base_uri": "https://localhost:8080/",
          "height": 203
        },
        "outputId": "889b5785-19c9-41ff-9f80-ec6fa9c0c3a9"
      },
      "source": [
        "df.sample(5)"
      ],
      "execution_count": null,
      "outputs": [
        {
          "output_type": "execute_result",
          "data": {
            "text/html": [
              "<div>\n",
              "<style scoped>\n",
              "    .dataframe tbody tr th:only-of-type {\n",
              "        vertical-align: middle;\n",
              "    }\n",
              "\n",
              "    .dataframe tbody tr th {\n",
              "        vertical-align: top;\n",
              "    }\n",
              "\n",
              "    .dataframe thead th {\n",
              "        text-align: right;\n",
              "    }\n",
              "</style>\n",
              "<table border=\"1\" class=\"dataframe\">\n",
              "  <thead>\n",
              "    <tr style=\"text-align: right;\">\n",
              "      <th></th>\n",
              "      <th>reviews.rating</th>\n",
              "      <th>reviews.text</th>\n",
              "    </tr>\n",
              "  </thead>\n",
              "  <tbody>\n",
              "    <tr>\n",
              "      <th>7405</th>\n",
              "      <td>5</td>\n",
              "      <td>Great price and 2 day shipping.</td>\n",
              "    </tr>\n",
              "    <tr>\n",
              "      <th>52104</th>\n",
              "      <td>I love reading books this way. This is my 3rd ...</td>\n",
              "      <td>NaN</td>\n",
              "    </tr>\n",
              "    <tr>\n",
              "      <th>10032</th>\n",
              "      <td>5</td>\n",
              "      <td>They worked great and last ad long as or longe...</td>\n",
              "    </tr>\n",
              "    <tr>\n",
              "      <th>30094</th>\n",
              "      <td>5</td>\n",
              "      <td>This kindle is light and easy to use especiall...</td>\n",
              "    </tr>\n",
              "    <tr>\n",
              "      <th>40236</th>\n",
              "      <td>My son loves this thing hasn't put it down yet...</td>\n",
              "      <td>NaN</td>\n",
              "    </tr>\n",
              "  </tbody>\n",
              "</table>\n",
              "</div>"
            ],
            "text/plain": [
              "                                          reviews.rating                                       reviews.text\n",
              "7405                                                   5                    Great price and 2 day shipping.\n",
              "52104  I love reading books this way. This is my 3rd ...                                                NaN\n",
              "10032                                                  5  They worked great and last ad long as or longe...\n",
              "30094                                                  5  This kindle is light and easy to use especiall...\n",
              "40236  My son loves this thing hasn't put it down yet...                                                NaN"
            ]
          },
          "metadata": {},
          "execution_count": 9
        }
      ]
    },
    {
      "cell_type": "code",
      "metadata": {
        "id": "t6G0Q0vsneF2",
        "colab": {
          "base_uri": "https://localhost:8080/"
        },
        "outputId": "30b6ca7d-b3fd-45a8-9e34-49d8efb34c82"
      },
      "source": [
        "df['reviews.rating'].value_counts()"
      ],
      "execution_count": null,
      "outputs": [
        {
          "output_type": "execute_result",
          "data": {
            "text/plain": [
              "5                                                                                                                                                                                                                                                                                                        23023\n",
              "4                                                                                                                                                                                                                                                                                                         6696\n",
              "3                                                                                                                                                                                                                                                                                                         1376\n",
              "1                                                                                                                                                                                                                                                                                                         1015\n",
              "2                                                                                                                                                                                                                                                                                                          658\n",
              "                                                                                                                                                                                                                                                                                                         ...  \n",
              "I love Alexa! She is so helpful to have in my everyday life, and so entertaining too. And I love her smart home connections; I can control my smart home with my voice through her. My only complaint is that you can't give her two commands at once, but it's easy enough to separate the commands.        1\n",
              "Get up to the minute news traffic and weather reports. Answers general questions, and the speaker quality is great for music.                                                                                                                                                                                1\n",
              "We love the kindle. I intended to purchase a single unit for my husband, who had lost his, and ended up with one for each of us.                                                                                                                                                                             1\n",
              "Bought this for all four of my children and they loved it.                                                                                                                                                                                                                                                   1\n",
              "I love this tablet it works great. A great fit for me                                                                                                                                                                                                                                                        1\n",
              "Name: reviews.rating, Length: 34669, dtype: int64"
            ]
          },
          "metadata": {},
          "execution_count": 10
        }
      ]
    },
    {
      "cell_type": "code",
      "metadata": {
        "id": "nSFUmRD1nuy9",
        "colab": {
          "base_uri": "https://localhost:8080/"
        },
        "outputId": "a74391a9-3a25-4d37-d2e0-85ad4c23e3c5"
      },
      "source": [
        "! pip install git+https://github.com/laxmimerit/preprocess_kgptalkie.git --upgrade --force-reinstall"
      ],
      "execution_count": null,
      "outputs": [
        {
          "output_type": "stream",
          "name": "stdout",
          "text": [
            "Collecting git+https://github.com/laxmimerit/preprocess_kgptalkie.git\n",
            "  Cloning https://github.com/laxmimerit/preprocess_kgptalkie.git to /tmp/pip-req-build-mqbo5bmk\n",
            "  Running command git clone -q https://github.com/laxmimerit/preprocess_kgptalkie.git /tmp/pip-req-build-mqbo5bmk\n",
            "Building wheels for collected packages: preprocess-kgptalkie\n",
            "  Building wheel for preprocess-kgptalkie (setup.py) ... \u001b[?25l\u001b[?25hdone\n",
            "  Created wheel for preprocess-kgptalkie: filename=preprocess_kgptalkie-0.1.3-py3-none-any.whl size=11754 sha256=0cbd0183bd3b2475bfcdd43808e46013ccae7166eacbfde75197d5d1c41ea773\n",
            "  Stored in directory: /tmp/pip-ephem-wheel-cache-6mcfert_/wheels/0d/b3/29/bfe3deffda68980088d17b81331be6667e837ffb4a071bae82\n",
            "Successfully built preprocess-kgptalkie\n",
            "Installing collected packages: preprocess-kgptalkie\n",
            "Successfully installed preprocess-kgptalkie-0.1.3\n"
          ]
        }
      ]
    },
    {
      "cell_type": "code",
      "metadata": {
        "id": "AW2teqfkqICf"
      },
      "source": [
        "import preprocess_kgptalkie as ps\n",
        "import re"
      ],
      "execution_count": null,
      "outputs": []
    },
    {
      "cell_type": "code",
      "metadata": {
        "id": "Q3dr8zMEqpFw"
      },
      "source": [
        "def get_clean(x):\n",
        "    x = str(x).lower().replace('\\\\', '').replace('_', ' ')\n",
        "    x = ps.cont_exp(x)\n",
        "    x = ps.remove_emails(x)\n",
        "    x = ps.remove_urls(x)\n",
        "    x = ps.remove_html_tags(x)\n",
        "    x = ps.remove_accented_chars(x)\n",
        "    x = ps.remove_special_chars(x)\n",
        "    x = re.sub(\"(.)\\\\1{2,}\", \"\\\\1\", x)\n",
        "    return x"
      ],
      "execution_count": null,
      "outputs": []
    },
    {
      "cell_type": "code",
      "metadata": {
        "id": "2-DzNOziqrS0"
      },
      "source": [
        "df['reviews.text'] = df['reviews.text'].apply(lambda x: get_clean(x))"
      ],
      "execution_count": null,
      "outputs": []
    },
    {
      "cell_type": "code",
      "metadata": {
        "id": "eq6s-8ZdrJlZ",
        "colab": {
          "base_uri": "https://localhost:8080/",
          "height": 203
        },
        "outputId": "26a2b624-70ce-430f-8ac2-385ef0456d49"
      },
      "source": [
        " df.head()"
      ],
      "execution_count": null,
      "outputs": [
        {
          "output_type": "execute_result",
          "data": {
            "text/html": [
              "<div>\n",
              "<style scoped>\n",
              "    .dataframe tbody tr th:only-of-type {\n",
              "        vertical-align: middle;\n",
              "    }\n",
              "\n",
              "    .dataframe tbody tr th {\n",
              "        vertical-align: top;\n",
              "    }\n",
              "\n",
              "    .dataframe thead th {\n",
              "        text-align: right;\n",
              "    }\n",
              "</style>\n",
              "<table border=\"1\" class=\"dataframe\">\n",
              "  <thead>\n",
              "    <tr style=\"text-align: right;\">\n",
              "      <th></th>\n",
              "      <th>reviews.rating</th>\n",
              "      <th>reviews.text</th>\n",
              "    </tr>\n",
              "  </thead>\n",
              "  <tbody>\n",
              "    <tr>\n",
              "      <th>0</th>\n",
              "      <td>3</td>\n",
              "      <td>i thought it would be as big as small paper bu...</td>\n",
              "    </tr>\n",
              "    <tr>\n",
              "      <th>1</th>\n",
              "      <td>5</td>\n",
              "      <td>this kindle is light and easy to use especiall...</td>\n",
              "    </tr>\n",
              "    <tr>\n",
              "      <th>2</th>\n",
              "      <td>4</td>\n",
              "      <td>didnt know how much i would use a kindle so we...</td>\n",
              "    </tr>\n",
              "    <tr>\n",
              "      <th>3</th>\n",
              "      <td>5</td>\n",
              "      <td>i am 100 happy with my purchase i caught it on...</td>\n",
              "    </tr>\n",
              "    <tr>\n",
              "      <th>4</th>\n",
              "      <td>5</td>\n",
              "      <td>solid entry level kindle great for kids gifted...</td>\n",
              "    </tr>\n",
              "  </tbody>\n",
              "</table>\n",
              "</div>"
            ],
            "text/plain": [
              "  reviews.rating                                       reviews.text\n",
              "0              3  i thought it would be as big as small paper bu...\n",
              "1              5  this kindle is light and easy to use especiall...\n",
              "2              4  didnt know how much i would use a kindle so we...\n",
              "3              5  i am 100 happy with my purchase i caught it on...\n",
              "4              5  solid entry level kindle great for kids gifted..."
            ]
          },
          "metadata": {},
          "execution_count": 15
        }
      ]
    },
    {
      "cell_type": "markdown",
      "metadata": {
        "id": "wkx6pZ0AZybr"
      },
      "source": [
        "**SVM**"
      ]
    },
    {
      "cell_type": "code",
      "metadata": {
        "id": "PxSN4sSorYkh"
      },
      "source": [
        "from sklearn.feature_extraction.text import TfidfVectorizer\n",
        "from sklearn.model_selection import train_test_split\n",
        "from sklearn.svm import LinearSVC\n",
        "from sklearn.metrics import classification_report"
      ],
      "execution_count": null,
      "outputs": []
    },
    {
      "cell_type": "code",
      "metadata": {
        "id": "ng20RmF26Mev"
      },
      "source": [
        "tfidf = TfidfVectorizer(max_features=40000, ngram_range=(1,5), analyzer='char')"
      ],
      "execution_count": null,
      "outputs": []
    },
    {
      "cell_type": "code",
      "metadata": {
        "id": "4oFgG0Q36oBO"
      },
      "source": [
        "y = tfidf.fit_transform(df['reviews.text'])\n",
        "z = df['reviews.rating']"
      ],
      "execution_count": null,
      "outputs": []
    },
    {
      "cell_type": "code",
      "metadata": {
        "id": "Uele3U7V63ee",
        "colab": {
          "base_uri": "https://localhost:8080/"
        },
        "outputId": "fc00fa9a-ad67-45c0-e3c6-7d44732f3e49"
      },
      "source": [
        "y.shape, z.shape"
      ],
      "execution_count": null,
      "outputs": [
        {
          "output_type": "execute_result",
          "data": {
            "text/plain": [
              "((67992, 40000), (67992,))"
            ]
          },
          "metadata": {},
          "execution_count": 19
        }
      ]
    },
    {
      "cell_type": "code",
      "metadata": {
        "id": "QZhvdNMn681O"
      },
      "source": [
        "y_train, y_test, z_train, z_test = train_test_split(y, z, test_size = 0.2, random_state = 0)"
      ],
      "execution_count": null,
      "outputs": []
    },
    {
      "cell_type": "code",
      "metadata": {
        "id": "U6mPX1TC7xrQ",
        "colab": {
          "base_uri": "https://localhost:8080/"
        },
        "outputId": "e58afe5c-3d6b-4bf6-bb8c-281d66afe0a1"
      },
      "source": [
        "y_train.shape"
      ],
      "execution_count": null,
      "outputs": [
        {
          "output_type": "execute_result",
          "data": {
            "text/plain": [
              "(54393, 40000)"
            ]
          },
          "metadata": {},
          "execution_count": 21
        }
      ]
    },
    {
      "cell_type": "code",
      "metadata": {
        "id": "916QfsEN7zy3",
        "colab": {
          "base_uri": "https://localhost:8080/",
          "height": 320
        },
        "outputId": "35e0f6ed-a62f-45be-e4dc-357907783358"
      },
      "source": [
        "clf = LinearSVC(C=10, class_weight='balanced')\n",
        "clf.fit(y_train, z_train)"
      ],
      "execution_count": null,
      "outputs": [
        {
          "output_type": "error",
          "ename": "ValueError",
          "evalue": "ignored",
          "traceback": [
            "\u001b[0;31m---------------------------------------------------------------------------\u001b[0m",
            "\u001b[0;31mValueError\u001b[0m                                Traceback (most recent call last)",
            "\u001b[0;32m<ipython-input-22-44520bb0f6b6>\u001b[0m in \u001b[0;36m<module>\u001b[0;34m()\u001b[0m\n\u001b[1;32m      1\u001b[0m \u001b[0mclf\u001b[0m \u001b[0;34m=\u001b[0m \u001b[0mLinearSVC\u001b[0m\u001b[0;34m(\u001b[0m\u001b[0mC\u001b[0m\u001b[0;34m=\u001b[0m\u001b[0;36m10\u001b[0m\u001b[0;34m,\u001b[0m \u001b[0mclass_weight\u001b[0m\u001b[0;34m=\u001b[0m\u001b[0;34m'balanced'\u001b[0m\u001b[0;34m)\u001b[0m\u001b[0;34m\u001b[0m\u001b[0;34m\u001b[0m\u001b[0m\n\u001b[0;32m----> 2\u001b[0;31m \u001b[0mclf\u001b[0m\u001b[0;34m.\u001b[0m\u001b[0mfit\u001b[0m\u001b[0;34m(\u001b[0m\u001b[0my_train\u001b[0m\u001b[0;34m,\u001b[0m \u001b[0mz_train\u001b[0m\u001b[0;34m)\u001b[0m\u001b[0;34m\u001b[0m\u001b[0;34m\u001b[0m\u001b[0m\n\u001b[0m",
            "\u001b[0;32m/usr/local/lib/python3.7/dist-packages/sklearn/svm/_classes.py\u001b[0m in \u001b[0;36mfit\u001b[0;34m(self, X, y, sample_weight)\u001b[0m\n\u001b[1;32m    250\u001b[0m             \u001b[0mdtype\u001b[0m\u001b[0;34m=\u001b[0m\u001b[0mnp\u001b[0m\u001b[0;34m.\u001b[0m\u001b[0mfloat64\u001b[0m\u001b[0;34m,\u001b[0m\u001b[0;34m\u001b[0m\u001b[0;34m\u001b[0m\u001b[0m\n\u001b[1;32m    251\u001b[0m             \u001b[0morder\u001b[0m\u001b[0;34m=\u001b[0m\u001b[0;34m\"C\"\u001b[0m\u001b[0;34m,\u001b[0m\u001b[0;34m\u001b[0m\u001b[0;34m\u001b[0m\u001b[0m\n\u001b[0;32m--> 252\u001b[0;31m             \u001b[0maccept_large_sparse\u001b[0m\u001b[0;34m=\u001b[0m\u001b[0;32mFalse\u001b[0m\u001b[0;34m,\u001b[0m\u001b[0;34m\u001b[0m\u001b[0;34m\u001b[0m\u001b[0m\n\u001b[0m\u001b[1;32m    253\u001b[0m         )\n\u001b[1;32m    254\u001b[0m         \u001b[0mcheck_classification_targets\u001b[0m\u001b[0;34m(\u001b[0m\u001b[0my\u001b[0m\u001b[0;34m)\u001b[0m\u001b[0;34m\u001b[0m\u001b[0;34m\u001b[0m\u001b[0m\n",
            "\u001b[0;32m/usr/local/lib/python3.7/dist-packages/sklearn/base.py\u001b[0m in \u001b[0;36m_validate_data\u001b[0;34m(self, X, y, reset, validate_separately, **check_params)\u001b[0m\n\u001b[1;32m    574\u001b[0m                 \u001b[0my\u001b[0m \u001b[0;34m=\u001b[0m \u001b[0mcheck_array\u001b[0m\u001b[0;34m(\u001b[0m\u001b[0my\u001b[0m\u001b[0;34m,\u001b[0m \u001b[0;34m**\u001b[0m\u001b[0mcheck_y_params\u001b[0m\u001b[0;34m)\u001b[0m\u001b[0;34m\u001b[0m\u001b[0;34m\u001b[0m\u001b[0m\n\u001b[1;32m    575\u001b[0m             \u001b[0;32melse\u001b[0m\u001b[0;34m:\u001b[0m\u001b[0;34m\u001b[0m\u001b[0;34m\u001b[0m\u001b[0m\n\u001b[0;32m--> 576\u001b[0;31m                 \u001b[0mX\u001b[0m\u001b[0;34m,\u001b[0m \u001b[0my\u001b[0m \u001b[0;34m=\u001b[0m \u001b[0mcheck_X_y\u001b[0m\u001b[0;34m(\u001b[0m\u001b[0mX\u001b[0m\u001b[0;34m,\u001b[0m \u001b[0my\u001b[0m\u001b[0;34m,\u001b[0m \u001b[0;34m**\u001b[0m\u001b[0mcheck_params\u001b[0m\u001b[0;34m)\u001b[0m\u001b[0;34m\u001b[0m\u001b[0;34m\u001b[0m\u001b[0m\n\u001b[0m\u001b[1;32m    577\u001b[0m             \u001b[0mout\u001b[0m \u001b[0;34m=\u001b[0m \u001b[0mX\u001b[0m\u001b[0;34m,\u001b[0m \u001b[0my\u001b[0m\u001b[0;34m\u001b[0m\u001b[0;34m\u001b[0m\u001b[0m\n\u001b[1;32m    578\u001b[0m \u001b[0;34m\u001b[0m\u001b[0m\n",
            "\u001b[0;32m/usr/local/lib/python3.7/dist-packages/sklearn/utils/validation.py\u001b[0m in \u001b[0;36mcheck_X_y\u001b[0;34m(X, y, accept_sparse, accept_large_sparse, dtype, order, copy, force_all_finite, ensure_2d, allow_nd, multi_output, ensure_min_samples, ensure_min_features, y_numeric, estimator)\u001b[0m\n\u001b[1;32m    969\u001b[0m     )\n\u001b[1;32m    970\u001b[0m \u001b[0;34m\u001b[0m\u001b[0m\n\u001b[0;32m--> 971\u001b[0;31m     \u001b[0my\u001b[0m \u001b[0;34m=\u001b[0m \u001b[0m_check_y\u001b[0m\u001b[0;34m(\u001b[0m\u001b[0my\u001b[0m\u001b[0;34m,\u001b[0m \u001b[0mmulti_output\u001b[0m\u001b[0;34m=\u001b[0m\u001b[0mmulti_output\u001b[0m\u001b[0;34m,\u001b[0m \u001b[0my_numeric\u001b[0m\u001b[0;34m=\u001b[0m\u001b[0my_numeric\u001b[0m\u001b[0;34m)\u001b[0m\u001b[0;34m\u001b[0m\u001b[0;34m\u001b[0m\u001b[0m\n\u001b[0m\u001b[1;32m    972\u001b[0m \u001b[0;34m\u001b[0m\u001b[0m\n\u001b[1;32m    973\u001b[0m     \u001b[0mcheck_consistent_length\u001b[0m\u001b[0;34m(\u001b[0m\u001b[0mX\u001b[0m\u001b[0;34m,\u001b[0m \u001b[0my\u001b[0m\u001b[0;34m)\u001b[0m\u001b[0;34m\u001b[0m\u001b[0;34m\u001b[0m\u001b[0m\n",
            "\u001b[0;32m/usr/local/lib/python3.7/dist-packages/sklearn/utils/validation.py\u001b[0m in \u001b[0;36m_check_y\u001b[0;34m(y, multi_output, y_numeric)\u001b[0m\n\u001b[1;32m    984\u001b[0m     \u001b[0;32melse\u001b[0m\u001b[0;34m:\u001b[0m\u001b[0;34m\u001b[0m\u001b[0;34m\u001b[0m\u001b[0m\n\u001b[1;32m    985\u001b[0m         \u001b[0my\u001b[0m \u001b[0;34m=\u001b[0m \u001b[0mcolumn_or_1d\u001b[0m\u001b[0;34m(\u001b[0m\u001b[0my\u001b[0m\u001b[0;34m,\u001b[0m \u001b[0mwarn\u001b[0m\u001b[0;34m=\u001b[0m\u001b[0;32mTrue\u001b[0m\u001b[0;34m)\u001b[0m\u001b[0;34m\u001b[0m\u001b[0;34m\u001b[0m\u001b[0m\n\u001b[0;32m--> 986\u001b[0;31m         \u001b[0m_assert_all_finite\u001b[0m\u001b[0;34m(\u001b[0m\u001b[0my\u001b[0m\u001b[0;34m)\u001b[0m\u001b[0;34m\u001b[0m\u001b[0;34m\u001b[0m\u001b[0m\n\u001b[0m\u001b[1;32m    987\u001b[0m         \u001b[0m_ensure_no_complex_data\u001b[0m\u001b[0;34m(\u001b[0m\u001b[0my\u001b[0m\u001b[0;34m)\u001b[0m\u001b[0;34m\u001b[0m\u001b[0;34m\u001b[0m\u001b[0m\n\u001b[1;32m    988\u001b[0m     \u001b[0;32mif\u001b[0m \u001b[0my_numeric\u001b[0m \u001b[0;32mand\u001b[0m \u001b[0my\u001b[0m\u001b[0;34m.\u001b[0m\u001b[0mdtype\u001b[0m\u001b[0;34m.\u001b[0m\u001b[0mkind\u001b[0m \u001b[0;34m==\u001b[0m \u001b[0;34m\"O\"\u001b[0m\u001b[0;34m:\u001b[0m\u001b[0;34m\u001b[0m\u001b[0;34m\u001b[0m\u001b[0m\n",
            "\u001b[0;32m/usr/local/lib/python3.7/dist-packages/sklearn/utils/validation.py\u001b[0m in \u001b[0;36m_assert_all_finite\u001b[0;34m(X, allow_nan, msg_dtype)\u001b[0m\n\u001b[1;32m    120\u001b[0m     \u001b[0;32melif\u001b[0m \u001b[0mX\u001b[0m\u001b[0;34m.\u001b[0m\u001b[0mdtype\u001b[0m \u001b[0;34m==\u001b[0m \u001b[0mnp\u001b[0m\u001b[0;34m.\u001b[0m\u001b[0mdtype\u001b[0m\u001b[0;34m(\u001b[0m\u001b[0;34m\"object\"\u001b[0m\u001b[0;34m)\u001b[0m \u001b[0;32mand\u001b[0m \u001b[0;32mnot\u001b[0m \u001b[0mallow_nan\u001b[0m\u001b[0;34m:\u001b[0m\u001b[0;34m\u001b[0m\u001b[0;34m\u001b[0m\u001b[0m\n\u001b[1;32m    121\u001b[0m         \u001b[0;32mif\u001b[0m \u001b[0m_object_dtype_isnan\u001b[0m\u001b[0;34m(\u001b[0m\u001b[0mX\u001b[0m\u001b[0;34m)\u001b[0m\u001b[0;34m.\u001b[0m\u001b[0many\u001b[0m\u001b[0;34m(\u001b[0m\u001b[0;34m)\u001b[0m\u001b[0;34m:\u001b[0m\u001b[0;34m\u001b[0m\u001b[0;34m\u001b[0m\u001b[0m\n\u001b[0;32m--> 122\u001b[0;31m             \u001b[0;32mraise\u001b[0m \u001b[0mValueError\u001b[0m\u001b[0;34m(\u001b[0m\u001b[0;34m\"Input contains NaN\"\u001b[0m\u001b[0;34m)\u001b[0m\u001b[0;34m\u001b[0m\u001b[0;34m\u001b[0m\u001b[0m\n\u001b[0m\u001b[1;32m    123\u001b[0m \u001b[0;34m\u001b[0m\u001b[0m\n\u001b[1;32m    124\u001b[0m \u001b[0;34m\u001b[0m\u001b[0m\n",
            "\u001b[0;31mValueError\u001b[0m: Input contains NaN"
          ]
        }
      ]
    },
    {
      "cell_type": "code",
      "metadata": {
        "id": "loUvqRHz8D_I"
      },
      "source": [
        "SVM_pred = clf.predict(y_test)"
      ],
      "execution_count": null,
      "outputs": []
    },
    {
      "cell_type": "code",
      "metadata": {
        "id": "qkC4h8Zu8MgE"
      },
      "source": [
        "print(classification_report(z_test, SVM_pred))"
      ],
      "execution_count": null,
      "outputs": []
    },
    {
      "cell_type": "code",
      "metadata": {
        "id": "7lpQPzl08YJd"
      },
      "source": [
        "x = 'this product is really bad. I do not like it'\n",
        "x = get_clean(x)\n",
        "vec = tfidf.transform([x])\n",
        "clf.predict(vec)"
      ],
      "execution_count": null,
      "outputs": []
    },
    {
      "cell_type": "code",
      "metadata": {
        "id": "n-ZNBnUTlPRD"
      },
      "source": [
        "x = 'this product is really good. I liked it so much'\n",
        "x = get_clean(x)\n",
        "vec = tfidf.transform([x])\n",
        "clf.predict(vec)"
      ],
      "execution_count": null,
      "outputs": []
    },
    {
      "cell_type": "code",
      "metadata": {
        "id": "hYaK_qLORZKI"
      },
      "source": [
        "from sklearn.metrics import confusion_matrix\n",
        "import seaborn as sns\n",
        "from sklearn.metrics import classification_report\n",
        "Ypred = SVM_pred\n",
        "label=['1', '2','3','4', '5']\n",
        "Ytrue = z_test \n",
        "cm = confusion_matrix(Ytrue, Ypred)\n",
        "plt.figure(figsize=(12, 12))\n",
        "plt.title(\"Confusion Matrix for SVM\")\n",
        "ax = sns.heatmap(cm, cmap=\"mako\", fmt=\".01f\",annot_kws={'size':12}, annot=True, square=True, xticklabels=label, yticklabels=label)\n",
        "ax.set_ylabel('Actual', fontsize=20)\n",
        "ax.set_xlabel('Predicted', fontsize=20)"
      ],
      "execution_count": null,
      "outputs": []
    },
    {
      "cell_type": "markdown",
      "metadata": {
        "id": "GSYSbfOvZ3Yt"
      },
      "source": [
        "**Decision Tree Classifier**"
      ]
    },
    {
      "cell_type": "code",
      "metadata": {
        "id": "uVpiZtsIOBjS"
      },
      "source": [
        "from sklearn.tree import DecisionTreeClassifier\n",
        "from sklearn.model_selection import train_test_split\n",
        "from sklearn.metrics import accuracy_score\n",
        "dt = DecisionTreeClassifier(max_depth=6, random_state=1)\n",
        "# Predict test set labels\n",
        "dt.fit(y_train, z_train)\n",
        "DT_pred = dt.predict(y_test)\n",
        "\n",
        "# Compute test set accuracy\n",
        "acc = accuracy_score(z_test, DT_pred)\n",
        "print(\"Test set accuracy: {:.2f}\".format(acc))"
      ],
      "execution_count": null,
      "outputs": []
    },
    {
      "cell_type": "code",
      "metadata": {
        "id": "iDvN6u3Ixr2u"
      },
      "source": [
        "x = 'this product is really bad. I do not like it'\n",
        "x = get_clean(x)\n",
        "vec = tfidf.transform([x])\n",
        "clf.predict(vec)"
      ],
      "execution_count": null,
      "outputs": []
    },
    {
      "cell_type": "code",
      "metadata": {
        "id": "blgPhBs_x0P0"
      },
      "source": [
        "x = 'this product is really good. I liked it so much'\n",
        "x = get_clean(x)\n",
        "vec = tfidf.transform([x])\n",
        "clf.predict(vec)"
      ],
      "execution_count": null,
      "outputs": []
    },
    {
      "cell_type": "code",
      "metadata": {
        "id": "OV8wsfi0RqNT"
      },
      "source": [
        "from sklearn.metrics import confusion_matrix\n",
        "import seaborn as sns\n",
        "from sklearn.metrics import classification_report\n",
        "Ypred = DT_pred\n",
        "label=['1', '2','3','4', '5']\n",
        "Ytrue = z_test \n",
        "cm = confusion_matrix(Ytrue, Ypred)\n",
        "plt.figure(figsize=(12, 12))\n",
        "plt.title(\"Confusion Matrix for Decision Tree\")\n",
        "ax = sns.heatmap(cm, cmap=\"mako\", fmt=\".01f\",annot_kws={'size':12}, annot=True, square=True, xticklabels=label, yticklabels=label)\n",
        "ax.set_ylabel('Actual', fontsize=20)\n",
        "ax.set_xlabel('Predicted', fontsize=20)"
      ],
      "execution_count": null,
      "outputs": []
    },
    {
      "cell_type": "markdown",
      "metadata": {
        "id": "4K0QJMg9Z8fA"
      },
      "source": [
        "**Naive Bayes**"
      ]
    },
    {
      "cell_type": "code",
      "metadata": {
        "id": "R0TFdIhHOB_J"
      },
      "source": [
        "from sklearn.naive_bayes import MultinomialNB\n",
        "clf_NB = MultinomialNB()\n",
        "clf_NB.fit(y_train, z_train)"
      ],
      "execution_count": null,
      "outputs": []
    },
    {
      "cell_type": "code",
      "metadata": {
        "id": "oveY6hzPPEhv"
      },
      "source": [
        "NB_pred = clf_NB.predict(y_test)"
      ],
      "execution_count": null,
      "outputs": []
    },
    {
      "cell_type": "code",
      "metadata": {
        "id": "Gnc0n1NLPHIM"
      },
      "source": [
        "from sklearn.metrics import classification_report\n",
        "print(classification_report(z_test, NB_pred))"
      ],
      "execution_count": null,
      "outputs": []
    },
    {
      "cell_type": "code",
      "metadata": {
        "id": "AaIITIrHPhut"
      },
      "source": [
        "from sklearn.metrics import classification_report, confusion_matrix\n",
        "print(confusion_matrix(z_test, z_pred))\n",
        "print(classification_report(z_test, NB_pred))"
      ],
      "execution_count": null,
      "outputs": []
    },
    {
      "cell_type": "code",
      "metadata": {
        "id": "QcTGS1cESO3Q"
      },
      "source": [
        "from sklearn.metrics import confusion_matrix\n",
        "import seaborn as sns\n",
        "from sklearn.metrics import classification_report\n",
        "Ypred = NB_pred\n",
        "label=['1', '2','3','4', '5']\n",
        "Ytrue = z_test \n",
        "cm = confusion_matrix(Ytrue, Ypred)\n",
        "plt.figure(figsize=(12, 12))\n",
        "plt.title(\"Confusion Matrix for Naive Bayes\")\n",
        "ax = sns.heatmap(cm, cmap=\"mako\", fmt=\".01f\",annot_kws={'size':12}, annot=True, square=True, xticklabels=label, yticklabels=label)\n",
        "ax.set_ylabel('Actual', fontsize=20)\n",
        "ax.set_xlabel('Predicted', fontsize=20)"
      ],
      "execution_count": null,
      "outputs": []
    },
    {
      "cell_type": "markdown",
      "metadata": {
        "id": "vqGlYG26v_Om"
      },
      "source": [
        "**K-Nearest Neighbour**"
      ]
    },
    {
      "cell_type": "code",
      "metadata": {
        "id": "vg8l5CuoPjv8"
      },
      "source": [
        "from sklearn.neighbors import KNeighborsClassifier\n",
        "classifier = KNeighborsClassifier(n_neighbors=5)\n",
        "classifier.fit(y_train, z_train)\n"
      ],
      "execution_count": null,
      "outputs": []
    },
    {
      "cell_type": "code",
      "metadata": {
        "id": "t64miHTCbxJA"
      },
      "source": [
        "KNN_pred = classifier.predict(y_test)"
      ],
      "execution_count": null,
      "outputs": []
    },
    {
      "cell_type": "code",
      "metadata": {
        "id": "oZq1wAGgb6zr"
      },
      "source": [
        "from sklearn.metrics import classification_report, confusion_matrix\n",
        "print(confusion_matrix(z_test, z_pred))\n",
        "print(classification_report(z_test, KNN_pred))"
      ],
      "execution_count": null,
      "outputs": []
    },
    {
      "cell_type": "code",
      "metadata": {
        "id": "zHaMozKFcBhu"
      },
      "source": [
        "from sklearn.metrics import confusion_matrix\n",
        "import seaborn as sns\n",
        "from sklearn.metrics import classification_report\n",
        "Ypred = KNN_pred\n",
        "label=['1', '2','3','4', '5']\n",
        "Ytrue = z_test \n",
        "cm = confusion_matrix(Ytrue, Ypred)\n",
        "plt.figure(figsize=(12, 12))\n",
        "plt.title(\"Confusion Matrix for K-Nearest Neighbour\")\n",
        "ax = sns.heatmap(cm, cmap=\"mako\", fmt=\".01f\",annot_kws={'size':12}, annot=True, square=True, xticklabels=label, yticklabels=label)\n",
        "ax.set_ylabel('Actual', fontsize=20)\n",
        "ax.set_xlabel('Predicted', fontsize=20)"
      ],
      "execution_count": null,
      "outputs": []
    },
    {
      "cell_type": "markdown",
      "metadata": {
        "id": "DLKGRyuGSnV5"
      },
      "source": [
        "**Gradiant Boosting**"
      ]
    },
    {
      "cell_type": "code",
      "metadata": {
        "id": "0e3LKtvkU1zA"
      },
      "source": [
        "from sklearn.ensemble import GradientBoostingClassifier\n",
        "from sklearn.tree import DecisionTreeClassifier"
      ],
      "execution_count": null,
      "outputs": []
    },
    {
      "cell_type": "code",
      "metadata": {
        "id": "H0NTvJ4YU46w"
      },
      "source": [
        "import joblib\n",
        "from  sklearn.utils import parallel_backend \n",
        "gboost = GradientBoostingClassifier(learning_rate=.1, n_estimators=500,max_depth=5 )"
      ],
      "execution_count": null,
      "outputs": []
    },
    {
      "cell_type": "code",
      "metadata": {
        "id": "LgkiFXqgU7r_"
      },
      "source": [
        "gboost.fit(y_train, z_train)\n",
        "gboost_pred = gboost.predict(z_test)"
      ],
      "execution_count": null,
      "outputs": []
    },
    {
      "cell_type": "code",
      "metadata": {
        "id": "Q-Lhs7D4H_Ze"
      },
      "source": [
        "from sklearn.metrics import accuracy_score\n",
        "gboost_acc=accuracy_score(z_test, z_pred)\n",
        "print(gboost_acc)"
      ],
      "execution_count": null,
      "outputs": []
    },
    {
      "cell_type": "code",
      "metadata": {
        "id": "4f8XEaTPSyKx"
      },
      "source": [
        "from sklearn.metrics import confusion_matrix\n",
        "import seaborn as sns\n",
        "from sklearn.metrics import classification_report\n",
        "Ypred = gboost_pred\n",
        "label=['1', '2','3','4', '5']\n",
        "Ytrue = z_test \n",
        "cm = confusion_matrix(Ytrue, Ypred)\n",
        "plt.figure(figsize=(12, 12))\n",
        "plt.title(\"Confusion Matrix for Gradient Boosting\")\n",
        "ax = sns.heatmap(cm, cmap=\"mako\", fmt=\".01f\",annot_kws={'size':16}, annot=True, square=True, xticklabels=label, yticklabels=label)\n",
        "ax.set_ylabel('Actual', fontsize=20)\n",
        "ax.set_xlabel('Predicted', fontsize=20)"
      ],
      "execution_count": null,
      "outputs": []
    },
    {
      "cell_type": "markdown",
      "metadata": {
        "id": "mQLDoYvlY7DP"
      },
      "source": [
        "**XG BOOST**"
      ]
    },
    {
      "cell_type": "code",
      "metadata": {
        "id": "yprE23fHY6i4"
      },
      "source": [
        "import xgboost as xgb\n",
        "xgbd = xgb.XGBClassifier(max_depth=10, n_estimators=5000 , learning_rate=.1, n_jobs=-1)"
      ],
      "execution_count": null,
      "outputs": []
    },
    {
      "cell_type": "code",
      "metadata": {
        "id": "70i3xXrIZC_p"
      },
      "source": [
        "xgbd.fit(y_train, z_train)\n",
        "xgb_pred = xgbd.predict(y_test)\n",
        "xgb_acc=accuracy_score(z_test, xgb_pred)\n",
        "print(xgb_acc)"
      ],
      "execution_count": null,
      "outputs": []
    },
    {
      "cell_type": "code",
      "metadata": {
        "id": "GevGFLasZDy3"
      },
      "source": [
        "print(classification_report(z_test, xgb_pred))"
      ],
      "execution_count": null,
      "outputs": []
    },
    {
      "cell_type": "code",
      "metadata": {
        "id": "ZhvqmNJtZWNb"
      },
      "source": [
        "from sklearn.metrics import confusion_matrix\n",
        "import seaborn as sns\n",
        "from sklearn.metrics import classification_report\n",
        "Ypred = xgb_pred\n",
        "label=['1', '2','3','4', '5']\n",
        "Ytrue = y_test \n",
        "cm = confusion_matrix(Ytrue, Ypred)\n",
        "plt.figure(figsize=(12, 12))\n",
        "plt.title(\"Confusion Matrix for XGBoost\")\n",
        "ax = sns.heatmap(cm, cmap=\"mako\", fmt=\".01f\",annot_kws={'size':16}, annot=True, square=True, xticklabels=label, yticklabels=label)\n",
        "ax.set_ylabel('Actual', fontsize=20)\n",
        "ax.set_xlabel('Predicted', fontsize=20)"
      ],
      "execution_count": null,
      "outputs": []
    },
    {
      "cell_type": "markdown",
      "metadata": {
        "id": "z0nfh0WgZdoB"
      },
      "source": [
        "**Neural Network**"
      ]
    },
    {
      "cell_type": "code",
      "metadata": {
        "id": "695gXl_OZblo"
      },
      "source": [
        "from sklearn.neural_network import MLPClassifier\n",
        "nnc = MLPClassifier(hidden_layer_sizes=(9),activation=\"relu\",max_iter=1000)\n",
        "nnc.fit(X_train, y_train)\n",
        "nnc_predictions =nnc.predict(X_test)\n",
        "nnc_acc=accuracy_score(y_test, nnc_predictions)\n",
        "print(nnc_acc)"
      ],
      "execution_count": null,
      "outputs": []
    },
    {
      "cell_type": "code",
      "metadata": {
        "id": "-VRa4x5dZoN_"
      },
      "source": [
        "print(classification_report(y_test, nnc_predictions))"
      ],
      "execution_count": null,
      "outputs": []
    },
    {
      "cell_type": "code",
      "metadata": {
        "id": "BikQWSLZZosv"
      },
      "source": [
        "from sklearn.metrics import confusion_matrix\n",
        "import seaborn as sns\n",
        "from sklearn.metrics import classification_report\n",
        "Ypred = nnc_predictions\n",
        "label=['1', '2','3','4', '5','6','7','8']\n",
        "Ytrue = y_test\n",
        "cm = confusion_matrix(Ytrue, Ypred)\n",
        "plt.figure(figsize=(12, 12))\n",
        "plt.title(\"Confusion Matrix for Neural Network\")\n",
        "ax = sns.heatmap(cm, cmap=\"rocket_r\", fmt=\".01f\",annot_kws={'size':16}, annot=True, square=True, xticklabels=label, yticklabels=label)\n",
        "ax.set_ylabel('Actual', fontsize=20)\n",
        "ax.set_xlabel('Predicted', fontsize=20)"
      ],
      "execution_count": null,
      "outputs": []
    },
    {
      "cell_type": "code",
      "metadata": {
        "id": "lR3Sj7zDJLOd"
      },
      "source": [
        "from sklearn.ensemble import RandomForestClassifier\n",
        "from sklearn.tree import DecisionTreeClassifier\n",
        "randomf = RandomForestClassifier(n_jobs=-1)\n",
        "dtree = DecisionTreeClassifier( criterion='entropy')\n",
        "from sklearn.ensemble import AdaBoostClassifier\n",
        "ab = AdaBoostClassifier(randomf, n_estimators=500000, learning_rate=.5)\n",
        "ab.fit(y_train, z_train)\n",
        "ab_pred = ab.predict(y_test)\n",
        "ab_acc=accuracy_score(z_test, ab_pred)\n",
        "print(ab_acc)"
      ],
      "execution_count": null,
      "outputs": []
    }
  ]
}