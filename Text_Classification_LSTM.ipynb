{
  "nbformat": 4,
  "nbformat_minor": 0,
  "metadata": {
    "colab": {
      "provenance": []
    },
    "kernelspec": {
      "name": "python3",
      "display_name": "Python 3"
    },
    "language_info": {
      "name": "python"
    }
  },
  "cells": [
    {
      "cell_type": "code",
      "execution_count": null,
      "metadata": {
        "id": "tibLttxTlSVg"
      },
      "outputs": [],
      "source": [
        "import matplotlib as mpl\n",
        "import matplotlib.pyplot as plt\n",
        "import os\n",
        "import re\n",
        "import shutil\n",
        "import string\n",
        "import tensorflow as tf\n",
        "from tensorflow.keras import regularizers\n",
        "from tensorflow.keras import layers\n",
        "from tensorflow.keras import losses\n",
        "from collections import Counter\n",
        "import pandas as pd\n",
        "import numpy as np\n",
        "import sklearn\n",
        "from sklearn.model_selection import train_test_split\n",
        "from sklearn.metrics import classification_report\n",
        "from tensorflow.keras import preprocessing\n",
        "from tensorflow.keras.preprocessing.text import Tokenizer\n",
        "from tensorflow.keras.preprocessing.sequence import pad_sequences\n",
        "import seaborn as sns\n",
        "import pydot"
      ]
    },
    {
      "cell_type": "code",
      "source": [
        "print(tf.__version__)"
      ],
      "metadata": {
        "colab": {
          "base_uri": "https://localhost:8080/"
        },
        "id": "Kl_X95WnlfSw",
        "outputId": "2d44220b-ca0a-43d8-ac69-4ff7cbaeba6d"
      },
      "execution_count": null,
      "outputs": [
        {
          "output_type": "stream",
          "name": "stdout",
          "text": [
            "2.8.2\n"
          ]
        }
      ]
    },
    {
      "cell_type": "code",
      "source": [
        "def clean_text(text ): \n",
        "    delete_dict = {sp_character: '' for sp_character in string.punctuation} \n",
        "    delete_dict[' '] = ' ' \n",
        "    table = str.maketrans(delete_dict)\n",
        "    text1 = text.translate(table)\n",
        "    #print('cleaned:'+text1)\n",
        "    textArr= text1.split()\n",
        "    text2 = ' '.join([w for w in textArr if ( not w.isdigit() and  ( not w.isdigit() and len(w)>2))]) \n",
        "    \n",
        "    return text2.lower()"
      ],
      "metadata": {
        "id": "GJzbD108ll8v"
      },
      "execution_count": null,
      "outputs": []
    },
    {
      "cell_type": "code",
      "source": [
        "review_data= pd.read_csv('/content/drive/MyDrive/Sentiment analysis/new_lstm.csv', encoding= 'unicode_escape')"
      ],
      "metadata": {
        "id": "hLC7ArcRlsND"
      },
      "execution_count": null,
      "outputs": []
    },
    {
      "cell_type": "code",
      "source": [
        "print(review_data.head(10))"
      ],
      "metadata": {
        "colab": {
          "base_uri": "https://localhost:8080/"
        },
        "id": "5jLQlMzdmIl8",
        "outputId": "f70b576e-4d0e-4457-aef2-058942018753"
      },
      "execution_count": null,
      "outputs": [
        {
          "output_type": "stream",
          "name": "stdout",
          "text": [
            "   uniqueID          drugName                 condition  \\\n",
            "0     92703            Lybrel             Birth Control   \n",
            "1    221320  Dextromethorphan                     Cough   \n",
            "2     51215      Azithromycin       Chlamydia Infection   \n",
            "3    132258            Ativan             Panic Disorde   \n",
            "4    204999           Toradol                      Pain   \n",
            "5     71188           Viberzi  Irritable Bowel Syndrome   \n",
            "6     80520             Mobic            Osteoarthritis   \n",
            "7     93678          Morphine                      Pain   \n",
            "8    206444          Trilafon                 Psychosis   \n",
            "9    221934       Fluconazole   Vaginal Yeast Infection   \n",
            "\n",
            "                                              review  rating       date  \\\n",
            "0  \"I used to take another oral contraceptive, wh...       5  14-Dec-09   \n",
            "1  \"Have a little bit of a lingering cough from a...       4   7-Sep-17   \n",
            "2  \"Was prescribed one dose over the course of on...       7  14-Dec-15   \n",
            "3  \"Honestly, I have been taking ativan for 2 yea...       6   1-Jun-15   \n",
            "4  \"I am 30 years old. I had a multiple composite...      10  11-Feb-13   \n",
            "5  \"Have been taking Viberzi for a month now for ...       8   5-Jul-16   \n",
            "6  \"Reduced my pain by 80% and lets me live a nor...      10  13-May-15   \n",
            "7  \"I have been on morphine for at least 7 years....       8   8-May-10   \n",
            "8  \"I had a similar experience.  Tremors in hands...       9  23-May-11   \n",
            "9  \"I am very prone to yeast infections, I believ...       8  24-Apr-17   \n",
            "\n",
            "   usefulCount  Sentiment  \n",
            "0           17          0  \n",
            "1            1          0  \n",
            "2            7          0  \n",
            "3           47          0  \n",
            "4           16          1  \n",
            "5           15          1  \n",
            "6           82          1  \n",
            "7           19          1  \n",
            "8           45          1  \n",
            "9            9          1  \n"
          ]
        }
      ]
    },
    {
      "cell_type": "code",
      "source": [
        "print(len(review_data))"
      ],
      "metadata": {
        "colab": {
          "base_uri": "https://localhost:8080/"
        },
        "id": "0GlKfOlJmK3F",
        "outputId": "a07cc2aa-2428-4a91-db59-b66c80d80da2"
      },
      "execution_count": null,
      "outputs": [
        {
          "output_type": "stream",
          "name": "stdout",
          "text": [
            "300\n"
          ]
        }
      ]
    },
    {
      "cell_type": "code",
      "source": [
        "review_data.dropna(axis = 0, how ='any',inplace=True) \n",
        "#review_data['reviewText'] = review_data['reviewText'].apply(remove_url)\n",
        "review_data['review'] = review_data['review'].apply(clean_text)\n",
        "review_data['Num_words_text'] = review_data['review'].apply(lambda x:len(str(x).split())) \n",
        "\n",
        "print('-------Dataset --------')\n",
        "print(review_data['rating'].value_counts())\n",
        "print(len(review_data))\n",
        "print('-------------------------')\n",
        "max_review_data_sentence_length  = review_data['Num_words_text'].max()\n",
        "print('Train Max Sentence Length :'+str(max_review_data_sentence_length))\n",
        "#all_sentences = train_data['text'].tolist() + test_data['text'].tolist()"
      ],
      "metadata": {
        "colab": {
          "base_uri": "https://localhost:8080/"
        },
        "id": "4kOTM7agmMDO",
        "outputId": "ec44cb39-b455-4992-ef51-1d346a859620"
      },
      "execution_count": null,
      "outputs": [
        {
          "output_type": "stream",
          "name": "stdout",
          "text": [
            "-------Dataset --------\n",
            "1     56\n",
            "10    47\n",
            "5     39\n",
            "9     31\n",
            "2     27\n",
            "6     26\n",
            "7     22\n",
            "8     22\n",
            "3     17\n",
            "4     13\n",
            "Name: rating, dtype: int64\n",
            "300\n",
            "-------------------------\n",
            "Train Max Sentence Length :290\n"
          ]
        }
      ]
    },
    {
      "cell_type": "code",
      "source": [
        "review_data['Num_words_text'].describe()"
      ],
      "metadata": {
        "colab": {
          "base_uri": "https://localhost:8080/"
        },
        "id": "AH2y_eOdmYor",
        "outputId": "1c8f3416-4635-4340-c5bb-f7d467db20ce"
      },
      "execution_count": null,
      "outputs": [
        {
          "output_type": "execute_result",
          "data": {
            "text/plain": [
              "count    300.000000\n",
              "mean      65.100000\n",
              "std       33.384904\n",
              "min        2.000000\n",
              "25%       39.000000\n",
              "50%       65.000000\n",
              "75%       92.000000\n",
              "max      290.000000\n",
              "Name: Num_words_text, dtype: float64"
            ]
          },
          "metadata": {},
          "execution_count": 8
        }
      ]
    },
    {
      "cell_type": "code",
      "source": [
        "sns.set(style=\"whitegrid\")\n",
        "sns.boxplot(x=review_data['Num_words_text'])"
      ],
      "metadata": {
        "colab": {
          "base_uri": "https://localhost:8080/",
          "height": 302
        },
        "id": "KqAP6KGrmdQO",
        "outputId": "81dc6aa1-3fc5-49ac-e28b-107a7dd471a4"
      },
      "execution_count": null,
      "outputs": [
        {
          "output_type": "execute_result",
          "data": {
            "text/plain": [
              "<matplotlib.axes._subplots.AxesSubplot at 0x7fc0b7376b50>"
            ]
          },
          "metadata": {},
          "execution_count": 9
        },
        {
          "output_type": "display_data",
          "data": {
            "text/plain": [
              "<Figure size 432x288 with 1 Axes>"
            ],
            "image/png": "[encoded data removed]"
          },
          "metadata": {}
        }
      ]
    },
    {
      "cell_type": "code",
      "source": [
        "mask = (review_data['Num_words_text'] < 100) & (review_data['Num_words_text'] >=20)\n",
        "df_short_reviews = review_data[mask]\n",
        "print('No of Short reviews')\n",
        "print(len(df_short_reviews))\n",
        "\n",
        "mask = review_data['Num_words_text'] >= 100\n",
        "df_long_reviews = review_data[mask]\n",
        "print('No of Long reviews')\n",
        "print(len(df_long_reviews))"
      ],
      "metadata": {
        "colab": {
          "base_uri": "https://localhost:8080/"
        },
        "id": "muHJ8DzTmei7",
        "outputId": "0d118f8d-5027-47c6-ad3d-ebe787ce8991"
      },
      "execution_count": null,
      "outputs": [
        {
          "output_type": "stream",
          "name": "stdout",
          "text": [
            "No of Short reviews\n",
            "218\n",
            "No of Long reviews\n",
            "52\n"
          ]
        }
      ]
    },
    {
      "cell_type": "code",
      "source": [
        "print(df_short_reviews['Num_words_text'].max())"
      ],
      "metadata": {
        "colab": {
          "base_uri": "https://localhost:8080/"
        },
        "id": "lLbn5UeamiYe",
        "outputId": "dcc86ff3-4f49-460e-ffb9-2ac4726db754"
      },
      "execution_count": null,
      "outputs": [
        {
          "output_type": "stream",
          "name": "stdout",
          "text": [
            "99\n"
          ]
        }
      ]
    },
    {
      "cell_type": "code",
      "source": [
        "train_data = review_data[['review','Sentiment']]\n",
        "print('Train data')\n",
        "print(train_data['Sentiment'].value_counts())"
      ],
      "metadata": {
        "colab": {
          "base_uri": "https://localhost:8080/"
        },
        "id": "GNl-BaUKm_Xb",
        "outputId": "a3a5ab90-43c6-4c49-a93b-56aa6fe224e8"
      },
      "execution_count": null,
      "outputs": [
        {
          "output_type": "stream",
          "name": "stdout",
          "text": [
            "Train data\n",
            " 0    100\n",
            " 1    100\n",
            "-1    100\n",
            "Name: Sentiment, dtype: int64\n"
          ]
        }
      ]
    },
    {
      "cell_type": "code",
      "source": [
        "test_data = review_data[['review','Sentiment']]\n",
        "print('Test data')\n",
        "print(test_data['Sentiment'].value_counts())"
      ],
      "metadata": {
        "colab": {
          "base_uri": "https://localhost:8080/"
        },
        "id": "Sjhd2hE7nKkD",
        "outputId": "10f12270-cdaa-4093-a073-61371b3aee7c"
      },
      "execution_count": null,
      "outputs": [
        {
          "output_type": "stream",
          "name": "stdout",
          "text": [
            "Test data\n",
            " 0    100\n",
            " 1    100\n",
            "-1    100\n",
            "Name: Sentiment, dtype: int64\n"
          ]
        }
      ]
    },
    {
      "cell_type": "code",
      "source": [
        "X_train, X_valid, y_train, y_valid = train_test_split(train_data['review'].tolist(),\\\n",
        "                                                      train_data['Sentiment'].tolist(),\\\n",
        "                                                      test_size=0.3,\\\n",
        "                                                      stratify = train_data['Sentiment'].tolist(),\\\n",
        "                                                      random_state=0)\n",
        "\n",
        "\n",
        "print('Train data len:'+str(len(X_train)))\n",
        "print('Class distribution'+str(Counter(y_train)))\n",
        "print('Valid data len:'+str(len(X_valid)))\n",
        "print('Class distribution'+ str(Counter(y_valid)))"
      ],
      "metadata": {
        "colab": {
          "base_uri": "https://localhost:8080/"
        },
        "id": "N2DET1VJmqHV",
        "outputId": "0d6383ec-6304-4a14-afc3-72fba7bdab01"
      },
      "execution_count": null,
      "outputs": [
        {
          "output_type": "stream",
          "name": "stdout",
          "text": [
            "Train data len:210\n",
            "Class distributionCounter({1: 70, 0: 70, -1: 70})\n",
            "Valid data len:90\n",
            "Class distributionCounter({1: 30, -1: 30, 0: 30})\n"
          ]
        }
      ]
    },
    {
      "cell_type": "code",
      "source": [
        "num_words = 50000\n",
        "\n",
        "tokenizer = Tokenizer(num_words=num_words,oov_token=\"unk\")\n",
        "tokenizer.fit_on_texts(X_train)\n",
        "\n",
        "\n",
        "print(str(tokenizer.texts_to_sequences(['xyz how are you'])))"
      ],
      "metadata": {
        "colab": {
          "base_uri": "https://localhost:8080/"
        },
        "id": "B4CbTBq1nZA3",
        "outputId": "892a8d9a-7dea-48d3-d8f8-c50d08d9effa"
      },
      "execution_count": null,
      "outputs": [
        {
          "output_type": "stream",
          "name": "stdout",
          "text": [
            "[[1, 132, 46, 47]]\n"
          ]
        }
      ]
    },
    {
      "cell_type": "code",
      "source": [
        "x_train = np.array( tokenizer.texts_to_sequences(X_train) )\n",
        "x_valid = np.array( tokenizer.texts_to_sequences(X_valid) )\n",
        "x_test  = np.array( tokenizer.texts_to_sequences(test_data['review'].tolist()) )\n",
        "x_train = pad_sequences(x_train, padding='post', maxlen=100)\n",
        "x_valid = pad_sequences(x_valid, padding='post', maxlen=100)\n",
        "x_test = pad_sequences(x_test, padding='post', maxlen=100)\n",
        "train_labels = np.asarray(y_train )\n",
        "valid_labels = np.asarray(y_valid)\n",
        "test_labels = np.asarray(test_data['Sentiment'].tolist())\n",
        "print('Train data len:'+str(len(x_train)))\n",
        "print('Class distribution'+str(Counter(train_labels)))\n",
        "print('Validation data len:'+str(len(x_valid)))\n",
        "print('Class distribution'+str(Counter(valid_labels)))\n",
        "print('Test data len:'+str(len(x_test)))\n",
        "print('Class distribution'+str(Counter(test_labels)))\n",
        "train_ds = tf.data.Dataset.from_tensor_slices((x_train,train_labels))\n",
        "valid_ds = tf.data.Dataset.from_tensor_slices((x_valid,valid_labels))\n",
        "test_ds = tf.data.Dataset.from_tensor_slices((x_test,test_labels))"
      ],
      "metadata": {
        "colab": {
          "base_uri": "https://localhost:8080/"
        },
        "id": "TDuBE3E9nhcn",
        "outputId": "bc7cf39c-81d6-4518-9f25-4dbbdc36be5a"
      },
      "execution_count": null,
      "outputs": [
        {
          "output_type": "stream",
          "name": "stdout",
          "text": [
            "Train data len:210\n",
            "Class distributionCounter({1: 70, 0: 70, -1: 70})\n",
            "Validation data len:90\n",
            "Class distributionCounter({1: 30, -1: 30, 0: 30})\n",
            "Test data len:300\n",
            "Class distributionCounter({0: 100, 1: 100, -1: 100})\n"
          ]
        },
        {
          "output_type": "stream",
          "name": "stderr",
          "text": [
            "/usr/local/lib/python3.7/dist-packages/ipykernel_launcher.py:1: VisibleDeprecationWarning: Creating an ndarray from ragged nested sequences (which is a list-or-tuple of lists-or-tuples-or ndarrays with different lengths or shapes) is deprecated. If you meant to do this, you must specify 'dtype=object' when creating the ndarray.\n",
            "  \"\"\"Entry point for launching an IPython kernel.\n",
            "/usr/local/lib/python3.7/dist-packages/ipykernel_launcher.py:2: VisibleDeprecationWarning: Creating an ndarray from ragged nested sequences (which is a list-or-tuple of lists-or-tuples-or ndarrays with different lengths or shapes) is deprecated. If you meant to do this, you must specify 'dtype=object' when creating the ndarray.\n",
            "  \n",
            "/usr/local/lib/python3.7/dist-packages/ipykernel_launcher.py:3: VisibleDeprecationWarning: Creating an ndarray from ragged nested sequences (which is a list-or-tuple of lists-or-tuples-or ndarrays with different lengths or shapes) is deprecated. If you meant to do this, you must specify 'dtype=object' when creating the ndarray.\n",
            "  This is separate from the ipykernel package so we can avoid doing imports until\n"
          ]
        }
      ]
    },
    {
      "cell_type": "code",
      "source": [
        "count =0\n",
        "print('======Train dataset ====')\n",
        "for value,label in train_ds:\n",
        "    count += 1\n",
        "    print(value,label)\n",
        "    if count==1:\n",
        "        break\n",
        "count =0\n",
        "print('======Validation dataset ====')\n",
        "for value,label in valid_ds:\n",
        "    count += 1\n",
        "    print(value,label)\n",
        "    if count==1:\n",
        "        break\n",
        "count =0\n",
        "print('======Test dataset ====')\n",
        "for value,label in test_ds:\n",
        "    count += 1\n",
        "    print(value,label)\n",
        "    if count==1:\n",
        "        break  "
      ],
      "metadata": {
        "colab": {
          "base_uri": "https://localhost:8080/"
        },
        "id": "xw2Fxy41np9t",
        "outputId": "a19eab55-2e6e-42e1-b2e4-485dc7efb6cd"
      },
      "execution_count": null,
      "outputs": [
        {
          "output_type": "stream",
          "name": "stdout",
          "text": [
            "======Train dataset ====\n",
            "tf.Tensor(\n",
            "[  69  597    4    3   31   52   86   35  470    2  125    4   80    5\n",
            " 1209 1210 1211    9  193 1212   76   77   28 1213 1214    6  135 1215\n",
            "   56   72    9  193  765  201 1216  766   62  597  110 1217 1218 1219\n",
            "  766 1220   69    3  765  201   59   40  109  234   60  767  142   87\n",
            "   24  109    2   21   69  316  471  768    2   14  317  597   99   94\n",
            "    4  126 1221    0    0    0    0    0    0    0    0    0    0    0\n",
            "    0    0    0    0    0    0    0    0    0    0    0    0    0    0\n",
            "    0    0], shape=(100,), dtype=int32) tf.Tensor(1, shape=(), dtype=int64)\n",
            "======Validation dataset ====\n",
            "tf.Tensor(\n",
            "[ 80 141   1   6 629 267  48  11   1 181  19   0   0   0   0   0   0   0\n",
            "   0   0   0   0   0   0   0   0   0   0   0   0   0   0   0   0   0   0\n",
            "   0   0   0   0   0   0   0   0   0   0   0   0   0   0   0   0   0   0\n",
            "   0   0   0   0   0   0   0   0   0   0   0   0   0   0   0   0   0   0\n",
            "   0   0   0   0   0   0   0   0   0   0   0   0   0   0   0   0   0   0\n",
            "   0   0   0   0   0   0   0   0   0   0], shape=(100,), dtype=int32) tf.Tensor(1, shape=(), dtype=int64)\n",
            "======Test dataset ====\n",
            "tf.Tensor(\n",
            "[   2    6   44  236   44  319   78 2213   24   85   22   39    8    1\n",
            " 1188    1   91   11  649  208    1   28    3    1   46 1137   29   85\n",
            "  147  509   17    1  292   31   26   16    3 1544  241    2    3   16\n",
            "  337    4   75   40   29   23    3  184  282  197   75   40    2   19\n",
            "   12  343  282  278   55   73  114  343   16  337    4   75   40    2\n",
            "   19   43    3  277    3  343   67   65    5  258    1  915    3 1193\n",
            "   22   10  106    5  107   85   22   39    3 1364  174   16    1    6\n",
            "    1    1], shape=(100,), dtype=int32) tf.Tensor(0, shape=(), dtype=int64)\n"
          ]
        }
      ]
    },
    {
      "cell_type": "code",
      "source": [
        "max_features =50000\n",
        "embedding_dim =16\n",
        "sequence_length = 100\n",
        "model = tf.keras.Sequential()\n",
        "model.add(tf.keras.layers.Embedding(max_features +1, embedding_dim, input_length=sequence_length,\\\n",
        "                                    embeddings_regularizer = regularizers.l2(0.005))) \n",
        "model.add(tf.keras.layers.Dropout(0.4))\n",
        "model.add(tf.keras.layers.LSTM(embedding_dim,dropout=0.2, recurrent_dropout=0.2,return_sequences=True,\\\n",
        "                                                             kernel_regularizer=regularizers.l2(0.005),\\\n",
        "                                                             bias_regularizer=regularizers.l2(0.005)))\n",
        "model.add(tf.keras.layers.Flatten())\n",
        "model.add(tf.keras.layers.Dense(512, activation='relu',\\\n",
        "                                kernel_regularizer=regularizers.l2(0.001),\\\n",
        "                                bias_regularizer=regularizers.l2(0.001),))\n",
        "model.add(tf.keras.layers.Dropout(0.4))\n",
        "model.add(tf.keras.layers.Dense(8, activation='relu',\\\n",
        "                                kernel_regularizer=regularizers.l2(0.001),\\\n",
        "                                bias_regularizer=regularizers.l2(0.001),))\n",
        "model.add(tf.keras.layers.Dropout(0.4))\n",
        "model.add(tf.keras.layers.Dense(1,activation='sigmoid'))                          \n",
        "model.summary()\n",
        "model.compile(loss=tf.keras.losses.BinaryCrossentropy(),optimizer=tf.keras.optimizers.Adam(1e-3),metrics=[tf.keras.metrics.BinaryAccuracy()])"
      ],
      "metadata": {
        "colab": {
          "base_uri": "https://localhost:8080/"
        },
        "id": "si2Y_kkznwAG",
        "outputId": "68f9ed38-3ef7-4bb4-dba2-4c10bbabc6c1"
      },
      "execution_count": null,
      "outputs": [
        {
          "output_type": "stream",
          "name": "stdout",
          "text": [
            "Model: \"sequential\"\n",
            "_________________________________________________________________\n",
            " Layer (type)                Output Shape              Param #   \n",
            "=================================================================\n",
            " embedding (Embedding)       (None, 100, 16)           800016    \n",
            "                                                                 \n",
            " dropout (Dropout)           (None, 100, 16)           0         \n",
            "                                                                 \n",
            " lstm (LSTM)                 (None, 100, 16)           2112      \n",
            "                                                                 \n",
            " flatten (Flatten)           (None, 1600)              0         \n",
            "                                                                 \n",
            " dense (Dense)               (None, 512)               819712    \n",
            "                                                                 \n",
            " dropout_1 (Dropout)         (None, 512)               0         \n",
            "                                                                 \n",
            " dense_1 (Dense)             (None, 8)                 4104      \n",
            "                                                                 \n",
            " dropout_2 (Dropout)         (None, 8)                 0         \n",
            "                                                                 \n",
            " dense_2 (Dense)             (None, 1)                 9         \n",
            "                                                                 \n",
            "=================================================================\n",
            "Total params: 1,625,953\n",
            "Trainable params: 1,625,953\n",
            "Non-trainable params: 0\n",
            "_________________________________________________________________\n"
          ]
        }
      ]
    },
    {
      "cell_type": "code",
      "source": [
        "epochs = 100\n",
        "# Fit the model using the train and test datasets.\n",
        "#history = model.fit(x_train, train_labels,validation_data= (x_test,test_labels),epochs=epochs )\n",
        "history = model.fit(train_ds.shuffle(5000).batch(1024),\n",
        "                    epochs= epochs ,\n",
        "                    validation_data=valid_ds.batch(1024),\n",
        "                    verbose=1)"
      ],
      "metadata": {
        "colab": {
          "base_uri": "https://localhost:8080/"
        },
        "id": "4rGE-5Esnx00",
        "outputId": "9c698149-acb4-4f06-bb6b-1be564a32f74"
      },
      "execution_count": null,
      "outputs": [
        {
          "output_type": "stream",
          "name": "stdout",
          "text": [
            "Epoch 1/100\n",
            "1/1 [==============================] - 8s 8s/step - loss: 5.0122 - binary_accuracy: 0.3429 - val_loss: 4.7328 - val_binary_accuracy: 0.3333\n",
            "Epoch 2/100\n",
            "1/1 [==============================] - 0s 418ms/step - loss: 4.7341 - binary_accuracy: 0.3333 - val_loss: 4.4450 - val_binary_accuracy: 0.3333\n",
            "Epoch 3/100\n",
            "1/1 [==============================] - 0s 395ms/step - loss: 4.4302 - binary_accuracy: 0.3381 - val_loss: 4.1501 - val_binary_accuracy: 0.3333\n",
            "Epoch 4/100\n",
            "1/1 [==============================] - 0s 414ms/step - loss: 4.1592 - binary_accuracy: 0.3286 - val_loss: 3.8537 - val_binary_accuracy: 0.3333\n",
            "Epoch 5/100\n",
            "1/1 [==============================] - 0s 351ms/step - loss: 3.8455 - binary_accuracy: 0.3381 - val_loss: 3.5675 - val_binary_accuracy: 0.3333\n",
            "Epoch 6/100\n",
            "1/1 [==============================] - 0s 480ms/step - loss: 3.5826 - binary_accuracy: 0.3381 - val_loss: 3.3039 - val_binary_accuracy: 0.3333\n",
            "Epoch 7/100\n",
            "1/1 [==============================] - 0s 475ms/step - loss: 3.3288 - binary_accuracy: 0.3333 - val_loss: 3.0695 - val_binary_accuracy: 0.3333\n",
            "Epoch 8/100\n",
            "1/1 [==============================] - 0s 441ms/step - loss: 3.0764 - binary_accuracy: 0.3333 - val_loss: 2.8647 - val_binary_accuracy: 0.3333\n",
            "Epoch 9/100\n",
            "1/1 [==============================] - 0s 428ms/step - loss: 3.0307 - binary_accuracy: 0.3286 - val_loss: 2.6865 - val_binary_accuracy: 0.3333\n",
            "Epoch 10/100\n",
            "1/1 [==============================] - 0s 381ms/step - loss: 2.5080 - binary_accuracy: 0.3333 - val_loss: 2.5246 - val_binary_accuracy: 0.3333\n",
            "Epoch 11/100\n",
            "1/1 [==============================] - 0s 422ms/step - loss: 2.3828 - binary_accuracy: 0.3333 - val_loss: 2.3759 - val_binary_accuracy: 0.3333\n",
            "Epoch 12/100\n",
            "1/1 [==============================] - 0s 404ms/step - loss: 1.8526 - binary_accuracy: 0.3333 - val_loss: 2.2371 - val_binary_accuracy: 0.3333\n",
            "Epoch 13/100\n",
            "1/1 [==============================] - 0s 372ms/step - loss: 1.8620 - binary_accuracy: 0.3333 - val_loss: 2.1055 - val_binary_accuracy: 0.3333\n",
            "Epoch 14/100\n",
            "1/1 [==============================] - 0s 386ms/step - loss: 1.6147 - binary_accuracy: 0.3333 - val_loss: 1.9789 - val_binary_accuracy: 0.3333\n",
            "Epoch 15/100\n",
            "1/1 [==============================] - 0s 382ms/step - loss: 1.7555 - binary_accuracy: 0.3381 - val_loss: 1.8560 - val_binary_accuracy: 0.3333\n",
            "Epoch 16/100\n",
            "1/1 [==============================] - 0s 363ms/step - loss: 1.8395 - binary_accuracy: 0.3333 - val_loss: 1.7368 - val_binary_accuracy: 0.3333\n",
            "Epoch 17/100\n",
            "1/1 [==============================] - 0s 441ms/step - loss: 0.9685 - binary_accuracy: 0.3333 - val_loss: 1.6207 - val_binary_accuracy: 0.3333\n",
            "Epoch 18/100\n",
            "1/1 [==============================] - 0s 442ms/step - loss: 0.1177 - binary_accuracy: 0.3333 - val_loss: 1.5055 - val_binary_accuracy: 0.3333\n",
            "Epoch 19/100\n",
            "1/1 [==============================] - 1s 611ms/step - loss: 0.5879 - binary_accuracy: 0.3381 - val_loss: 1.3892 - val_binary_accuracy: 0.3333\n",
            "Epoch 20/100\n",
            "1/1 [==============================] - 0s 380ms/step - loss: -0.8083 - binary_accuracy: 0.3333 - val_loss: 1.2701 - val_binary_accuracy: 0.3333\n",
            "Epoch 21/100\n",
            "1/1 [==============================] - 0s 479ms/step - loss: -1.7324 - binary_accuracy: 0.3333 - val_loss: 1.1455 - val_binary_accuracy: 0.3333\n",
            "Epoch 22/100\n",
            "1/1 [==============================] - 1s 593ms/step - loss: -0.0684 - binary_accuracy: 0.3333 - val_loss: 1.0136 - val_binary_accuracy: 0.3333\n",
            "Epoch 23/100\n",
            "1/1 [==============================] - 0s 387ms/step - loss: -1.3490 - binary_accuracy: 0.3333 - val_loss: 0.8697 - val_binary_accuracy: 0.3333\n",
            "Epoch 24/100\n",
            "1/1 [==============================] - 0s 348ms/step - loss: -2.7269 - binary_accuracy: 0.3333 - val_loss: 0.7064 - val_binary_accuracy: 0.3333\n",
            "Epoch 25/100\n",
            "1/1 [==============================] - 0s 416ms/step - loss: -1.7667 - binary_accuracy: 0.3333 - val_loss: 0.5174 - val_binary_accuracy: 0.3333\n",
            "Epoch 26/100\n",
            "1/1 [==============================] - 0s 400ms/step - loss: -4.8938 - binary_accuracy: 0.3333 - val_loss: 0.2938 - val_binary_accuracy: 0.3333\n",
            "Epoch 27/100\n",
            "1/1 [==============================] - 1s 541ms/step - loss: -6.0639 - binary_accuracy: 0.3333 - val_loss: 0.0199 - val_binary_accuracy: 0.3333\n",
            "Epoch 28/100\n",
            "1/1 [==============================] - 0s 445ms/step - loss: -6.7542 - binary_accuracy: 0.3333 - val_loss: -0.3189 - val_binary_accuracy: 0.3333\n",
            "Epoch 29/100\n",
            "1/1 [==============================] - 1s 537ms/step - loss: -13.2708 - binary_accuracy: 0.3333 - val_loss: -0.7394 - val_binary_accuracy: 0.3333\n",
            "Epoch 30/100\n",
            "1/1 [==============================] - 0s 375ms/step - loss: -12.6613 - binary_accuracy: 0.3333 - val_loss: -1.2868 - val_binary_accuracy: 0.3333\n",
            "Epoch 31/100\n",
            "1/1 [==============================] - 0s 277ms/step - loss: -10.8138 - binary_accuracy: 0.3333 - val_loss: -2.0004 - val_binary_accuracy: 0.3333\n",
            "Epoch 32/100\n",
            "1/1 [==============================] - 0s 204ms/step - loss: -16.2084 - binary_accuracy: 0.3333 - val_loss: -2.9138 - val_binary_accuracy: 0.3333\n",
            "Epoch 33/100\n",
            "1/1 [==============================] - 0s 204ms/step - loss: -25.8001 - binary_accuracy: 0.3333 - val_loss: -4.0967 - val_binary_accuracy: 0.3333\n",
            "Epoch 34/100\n",
            "1/1 [==============================] - 0s 214ms/step - loss: -32.8128 - binary_accuracy: 0.3333 - val_loss: -5.6267 - val_binary_accuracy: 0.3333\n",
            "Epoch 35/100\n",
            "1/1 [==============================] - 0s 208ms/step - loss: -39.5672 - binary_accuracy: 0.3333 - val_loss: -7.6137 - val_binary_accuracy: 0.3333\n",
            "Epoch 36/100\n",
            "1/1 [==============================] - 0s 211ms/step - loss: -41.8712 - binary_accuracy: 0.3381 - val_loss: -10.1196 - val_binary_accuracy: 0.3333\n",
            "Epoch 37/100\n",
            "1/1 [==============================] - 0s 211ms/step - loss: -50.5996 - binary_accuracy: 0.3381 - val_loss: -13.2372 - val_binary_accuracy: 0.3333\n",
            "Epoch 38/100\n",
            "1/1 [==============================] - 0s 204ms/step - loss: -91.0219 - binary_accuracy: 0.3333 - val_loss: -16.2071 - val_binary_accuracy: 0.3333\n",
            "Epoch 39/100\n",
            "1/1 [==============================] - 0s 209ms/step - loss: -80.3903 - binary_accuracy: 0.3429 - val_loss: -19.7413 - val_binary_accuracy: 0.3333\n",
            "Epoch 40/100\n",
            "1/1 [==============================] - 0s 203ms/step - loss: -115.2153 - binary_accuracy: 0.3762 - val_loss: -23.2030 - val_binary_accuracy: 0.3333\n",
            "Epoch 41/100\n",
            "1/1 [==============================] - 0s 241ms/step - loss: -121.8330 - binary_accuracy: 0.4000 - val_loss: -27.8124 - val_binary_accuracy: 0.3333\n",
            "Epoch 42/100\n",
            "1/1 [==============================] - 0s 226ms/step - loss: -129.2607 - binary_accuracy: 0.4429 - val_loss: -33.3765 - val_binary_accuracy: 0.3000\n",
            "Epoch 43/100\n",
            "1/1 [==============================] - 0s 208ms/step - loss: -158.5064 - binary_accuracy: 0.4381 - val_loss: -40.7397 - val_binary_accuracy: 0.2889\n",
            "Epoch 44/100\n",
            "1/1 [==============================] - 0s 210ms/step - loss: -189.9107 - binary_accuracy: 0.4524 - val_loss: -48.4090 - val_binary_accuracy: 0.3111\n",
            "Epoch 45/100\n",
            "1/1 [==============================] - 0s 205ms/step - loss: -170.5318 - binary_accuracy: 0.4429 - val_loss: -58.3961 - val_binary_accuracy: 0.3111\n",
            "Epoch 46/100\n",
            "1/1 [==============================] - 0s 204ms/step - loss: -208.0393 - binary_accuracy: 0.4333 - val_loss: -69.1947 - val_binary_accuracy: 0.3222\n",
            "Epoch 47/100\n",
            "1/1 [==============================] - 0s 234ms/step - loss: -241.6838 - binary_accuracy: 0.4238 - val_loss: -75.6126 - val_binary_accuracy: 0.3222\n",
            "Epoch 48/100\n",
            "1/1 [==============================] - 0s 215ms/step - loss: -298.8725 - binary_accuracy: 0.4381 - val_loss: -83.5335 - val_binary_accuracy: 0.3111\n",
            "Epoch 49/100\n",
            "1/1 [==============================] - 0s 197ms/step - loss: -319.9110 - binary_accuracy: 0.4476 - val_loss: -92.1524 - val_binary_accuracy: 0.3111\n",
            "Epoch 50/100\n",
            "1/1 [==============================] - 0s 203ms/step - loss: -365.7948 - binary_accuracy: 0.4381 - val_loss: -94.2778 - val_binary_accuracy: 0.3000\n",
            "Epoch 51/100\n",
            "1/1 [==============================] - 0s 208ms/step - loss: -407.9759 - binary_accuracy: 0.4333 - val_loss: -100.4586 - val_binary_accuracy: 0.2889\n",
            "Epoch 52/100\n",
            "1/1 [==============================] - 0s 208ms/step - loss: -353.0593 - binary_accuracy: 0.4333 - val_loss: -115.9025 - val_binary_accuracy: 0.3222\n",
            "Epoch 53/100\n",
            "1/1 [==============================] - 0s 217ms/step - loss: -468.5892 - binary_accuracy: 0.4238 - val_loss: -125.3485 - val_binary_accuracy: 0.3111\n",
            "Epoch 54/100\n",
            "1/1 [==============================] - 0s 214ms/step - loss: -540.4793 - binary_accuracy: 0.4476 - val_loss: -144.5597 - val_binary_accuracy: 0.3111\n",
            "Epoch 55/100\n",
            "1/1 [==============================] - 0s 208ms/step - loss: -548.5640 - binary_accuracy: 0.4762 - val_loss: -166.4560 - val_binary_accuracy: 0.3444\n",
            "Epoch 56/100\n",
            "1/1 [==============================] - 0s 207ms/step - loss: -652.4277 - binary_accuracy: 0.4857 - val_loss: -182.5406 - val_binary_accuracy: 0.3333\n",
            "Epoch 57/100\n",
            "1/1 [==============================] - 0s 218ms/step - loss: -700.2336 - binary_accuracy: 0.5143 - val_loss: -184.4239 - val_binary_accuracy: 0.3444\n",
            "Epoch 58/100\n",
            "1/1 [==============================] - 0s 203ms/step - loss: -706.0974 - binary_accuracy: 0.5000 - val_loss: -196.5687 - val_binary_accuracy: 0.3444\n",
            "Epoch 59/100\n",
            "1/1 [==============================] - 0s 207ms/step - loss: -749.1542 - binary_accuracy: 0.4905 - val_loss: -214.5163 - val_binary_accuracy: 0.3556\n",
            "Epoch 60/100\n",
            "1/1 [==============================] - 0s 202ms/step - loss: -895.2555 - binary_accuracy: 0.4905 - val_loss: -247.8042 - val_binary_accuracy: 0.3667\n",
            "Epoch 61/100\n",
            "1/1 [==============================] - 0s 219ms/step - loss: -792.4060 - binary_accuracy: 0.4810 - val_loss: -264.3994 - val_binary_accuracy: 0.3667\n",
            "Epoch 62/100\n",
            "1/1 [==============================] - 0s 198ms/step - loss: -886.5150 - binary_accuracy: 0.4762 - val_loss: -265.0863 - val_binary_accuracy: 0.3556\n",
            "Epoch 63/100\n",
            "1/1 [==============================] - 0s 210ms/step - loss: -1152.2550 - binary_accuracy: 0.4381 - val_loss: -328.5451 - val_binary_accuracy: 0.3889\n",
            "Epoch 64/100\n",
            "1/1 [==============================] - 0s 205ms/step - loss: -1214.7205 - binary_accuracy: 0.4714 - val_loss: -380.0229 - val_binary_accuracy: 0.3667\n",
            "Epoch 65/100\n",
            "1/1 [==============================] - 0s 205ms/step - loss: -1301.4443 - binary_accuracy: 0.4714 - val_loss: -373.5511 - val_binary_accuracy: 0.3667\n",
            "Epoch 66/100\n",
            "1/1 [==============================] - 0s 208ms/step - loss: -1136.1410 - binary_accuracy: 0.4667 - val_loss: -410.2831 - val_binary_accuracy: 0.3444\n",
            "Epoch 67/100\n",
            "1/1 [==============================] - 0s 207ms/step - loss: -1305.9625 - binary_accuracy: 0.4952 - val_loss: -464.8271 - val_binary_accuracy: 0.3556\n",
            "Epoch 68/100\n",
            "1/1 [==============================] - 0s 214ms/step - loss: -1536.6848 - binary_accuracy: 0.4810 - val_loss: -529.9650 - val_binary_accuracy: 0.3667\n",
            "Epoch 69/100\n",
            "1/1 [==============================] - 0s 228ms/step - loss: -1659.5597 - binary_accuracy: 0.4952 - val_loss: -557.7330 - val_binary_accuracy: 0.3667\n",
            "Epoch 70/100\n",
            "1/1 [==============================] - 0s 203ms/step - loss: -1325.9639 - binary_accuracy: 0.4905 - val_loss: -585.9938 - val_binary_accuracy: 0.3667\n",
            "Epoch 71/100\n",
            "1/1 [==============================] - 0s 317ms/step - loss: -1667.2828 - binary_accuracy: 0.4667 - val_loss: -574.3856 - val_binary_accuracy: 0.3556\n",
            "Epoch 72/100\n",
            "1/1 [==============================] - 0s 456ms/step - loss: -1732.3065 - binary_accuracy: 0.5048 - val_loss: -499.4438 - val_binary_accuracy: 0.3667\n",
            "Epoch 73/100\n",
            "1/1 [==============================] - 1s 540ms/step - loss: -1924.3274 - binary_accuracy: 0.5000 - val_loss: -512.1752 - val_binary_accuracy: 0.3667\n",
            "Epoch 74/100\n",
            "1/1 [==============================] - 0s 421ms/step - loss: -1828.6504 - binary_accuracy: 0.5286 - val_loss: -534.6650 - val_binary_accuracy: 0.3889\n",
            "Epoch 75/100\n",
            "1/1 [==============================] - 0s 219ms/step - loss: -2338.3965 - binary_accuracy: 0.4952 - val_loss: -614.7901 - val_binary_accuracy: 0.3889\n",
            "Epoch 76/100\n",
            "1/1 [==============================] - 0s 209ms/step - loss: -2224.7109 - binary_accuracy: 0.5190 - val_loss: -661.1377 - val_binary_accuracy: 0.3778\n",
            "Epoch 77/100\n",
            "1/1 [==============================] - 0s 206ms/step - loss: -2320.8132 - binary_accuracy: 0.5476 - val_loss: -578.8654 - val_binary_accuracy: 0.3667\n",
            "Epoch 78/100\n",
            "1/1 [==============================] - 0s 212ms/step - loss: -2207.5430 - binary_accuracy: 0.5286 - val_loss: -721.0410 - val_binary_accuracy: 0.3889\n",
            "Epoch 79/100\n",
            "1/1 [==============================] - 0s 214ms/step - loss: -2324.8347 - binary_accuracy: 0.5095 - val_loss: -755.3851 - val_binary_accuracy: 0.3889\n",
            "Epoch 80/100\n",
            "1/1 [==============================] - 0s 204ms/step - loss: -2656.5051 - binary_accuracy: 0.5190 - val_loss: -785.5296 - val_binary_accuracy: 0.3889\n",
            "Epoch 81/100\n",
            "1/1 [==============================] - 0s 209ms/step - loss: -2997.0752 - binary_accuracy: 0.4857 - val_loss: -817.6003 - val_binary_accuracy: 0.3778\n",
            "Epoch 82/100\n",
            "1/1 [==============================] - 0s 206ms/step - loss: -2832.9197 - binary_accuracy: 0.5143 - val_loss: -850.5549 - val_binary_accuracy: 0.3667\n",
            "Epoch 83/100\n",
            "1/1 [==============================] - 0s 214ms/step - loss: -3162.4197 - binary_accuracy: 0.4905 - val_loss: -883.6595 - val_binary_accuracy: 0.3889\n",
            "Epoch 84/100\n",
            "1/1 [==============================] - 0s 201ms/step - loss: -3290.2021 - binary_accuracy: 0.5476 - val_loss: -918.5328 - val_binary_accuracy: 0.4000\n",
            "Epoch 85/100\n",
            "1/1 [==============================] - 0s 200ms/step - loss: -3295.0940 - binary_accuracy: 0.5286 - val_loss: -955.4597 - val_binary_accuracy: 0.4000\n",
            "Epoch 86/100\n",
            "1/1 [==============================] - 0s 213ms/step - loss: -3520.2886 - binary_accuracy: 0.5190 - val_loss: -911.2789 - val_binary_accuracy: 0.4000\n",
            "Epoch 87/100\n",
            "1/1 [==============================] - 0s 211ms/step - loss: -3933.2544 - binary_accuracy: 0.5238 - val_loss: -939.4982 - val_binary_accuracy: 0.4000\n",
            "Epoch 88/100\n",
            "1/1 [==============================] - 0s 203ms/step - loss: -3609.5527 - binary_accuracy: 0.5476 - val_loss: -971.8666 - val_binary_accuracy: 0.3889\n",
            "Epoch 89/100\n",
            "1/1 [==============================] - 0s 213ms/step - loss: -3762.0647 - binary_accuracy: 0.5143 - val_loss: -1111.0903 - val_binary_accuracy: 0.3889\n",
            "Epoch 90/100\n",
            "1/1 [==============================] - 0s 226ms/step - loss: -4106.1616 - binary_accuracy: 0.5333 - val_loss: -1264.5728 - val_binary_accuracy: 0.3889\n",
            "Epoch 91/100\n",
            "1/1 [==============================] - 0s 201ms/step - loss: -4412.0859 - binary_accuracy: 0.5476 - val_loss: -1512.3490 - val_binary_accuracy: 0.3889\n",
            "Epoch 92/100\n",
            "1/1 [==============================] - 0s 204ms/step - loss: -4556.0659 - binary_accuracy: 0.5476 - val_loss: -1516.1436 - val_binary_accuracy: 0.3889\n",
            "Epoch 93/100\n",
            "1/1 [==============================] - 0s 204ms/step - loss: -5156.2510 - binary_accuracy: 0.5429 - val_loss: -1581.0065 - val_binary_accuracy: 0.3889\n",
            "Epoch 94/100\n",
            "1/1 [==============================] - 0s 213ms/step - loss: -4897.9727 - binary_accuracy: 0.5381 - val_loss: -1644.8556 - val_binary_accuracy: 0.4000\n",
            "Epoch 95/100\n",
            "1/1 [==============================] - 0s 210ms/step - loss: -4767.3389 - binary_accuracy: 0.5429 - val_loss: -1710.3971 - val_binary_accuracy: 0.4000\n",
            "Epoch 96/100\n",
            "1/1 [==============================] - 0s 205ms/step - loss: -5490.0264 - binary_accuracy: 0.5619 - val_loss: -1778.1061 - val_binary_accuracy: 0.4000\n",
            "Epoch 97/100\n",
            "1/1 [==============================] - 0s 205ms/step - loss: -5328.7192 - binary_accuracy: 0.5714 - val_loss: -1699.7688 - val_binary_accuracy: 0.4000\n",
            "Epoch 98/100\n",
            "1/1 [==============================] - 0s 226ms/step - loss: -5707.6909 - binary_accuracy: 0.5286 - val_loss: -1755.4978 - val_binary_accuracy: 0.3889\n",
            "Epoch 99/100\n",
            "1/1 [==============================] - 0s 202ms/step - loss: -5309.7402 - binary_accuracy: 0.5524 - val_loss: -1931.5461 - val_binary_accuracy: 0.4000\n",
            "Epoch 100/100\n",
            "1/1 [==============================] - 0s 205ms/step - loss: -5713.7168 - binary_accuracy: 0.5619 - val_loss: -1880.3466 - val_binary_accuracy: 0.4000\n"
          ]
        }
      ]
    },
    {
      "cell_type": "code",
      "source": [
        "history.history"
      ],
      "metadata": {
        "colab": {
          "base_uri": "https://localhost:8080/"
        },
        "id": "cHnuq8Kun9e3",
        "outputId": "7f61733a-1b2e-4af3-f674-d569fd0fb66d"
      },
      "execution_count": null,
      "outputs": [
        {
          "output_type": "execute_result",
          "data": {
            "text/plain": [
              "{'loss': [5.012239933013916,\n",
              "  4.7341203689575195,\n",
              "  4.430208206176758,\n",
              "  4.159179210662842,\n",
              "  3.8454599380493164,\n",
              "  3.582643747329712,\n",
              "  3.328847646713257,\n",
              "  3.0763745307922363,\n",
              "  3.0306954383850098,\n",
              "  2.5080010890960693,\n",
              "  2.3828132152557373,\n",
              "  1.8526383638381958,\n",
              "  1.8619762659072876,\n",
              "  1.6147220134735107,\n",
              "  1.7554670572280884,\n",
              "  1.8394603729248047,\n",
              "  0.9684777855873108,\n",
              "  0.11768180876970291,\n",
              "  0.587925374507904,\n",
              "  -0.8082634210586548,\n",
              "  -1.7323986291885376,\n",
              "  -0.06836572289466858,\n",
              "  -1.3490256071090698,\n",
              "  -2.726891279220581,\n",
              "  -1.7666743993759155,\n",
              "  -4.893819808959961,\n",
              "  -6.06385612487793,\n",
              "  -6.754215717315674,\n",
              "  -13.270838737487793,\n",
              "  -12.661270141601562,\n",
              "  -10.81383228302002,\n",
              "  -16.20844268798828,\n",
              "  -25.800146102905273,\n",
              "  -32.81284713745117,\n",
              "  -39.567176818847656,\n",
              "  -41.871158599853516,\n",
              "  -50.599609375,\n",
              "  -91.02191162109375,\n",
              "  -80.39028930664062,\n",
              "  -115.21534729003906,\n",
              "  -121.83302307128906,\n",
              "  -129.26071166992188,\n",
              "  -158.5064239501953,\n",
              "  -189.9106903076172,\n",
              "  -170.5317840576172,\n",
              "  -208.03932189941406,\n",
              "  -241.683837890625,\n",
              "  -298.8724670410156,\n",
              "  -319.9109802246094,\n",
              "  -365.7947692871094,\n",
              "  -407.97589111328125,\n",
              "  -353.059326171875,\n",
              "  -468.58917236328125,\n",
              "  -540.4793090820312,\n",
              "  -548.56396484375,\n",
              "  -652.427734375,\n",
              "  -700.2335815429688,\n",
              "  -706.0973510742188,\n",
              "  -749.1541748046875,\n",
              "  -895.2554931640625,\n",
              "  -792.406005859375,\n",
              "  -886.5149536132812,\n",
              "  -1152.2550048828125,\n",
              "  -1214.720458984375,\n",
              "  -1301.4443359375,\n",
              "  -1136.1409912109375,\n",
              "  -1305.9625244140625,\n",
              "  -1536.684814453125,\n",
              "  -1659.5596923828125,\n",
              "  -1325.9638671875,\n",
              "  -1667.2828369140625,\n",
              "  -1732.3065185546875,\n",
              "  -1924.327392578125,\n",
              "  -1828.650390625,\n",
              "  -2338.396484375,\n",
              "  -2224.7109375,\n",
              "  -2320.813232421875,\n",
              "  -2207.54296875,\n",
              "  -2324.834716796875,\n",
              "  -2656.505126953125,\n",
              "  -2997.0751953125,\n",
              "  -2832.919677734375,\n",
              "  -3162.419677734375,\n",
              "  -3290.2021484375,\n",
              "  -3295.093994140625,\n",
              "  -3520.28857421875,\n",
              "  -3933.25439453125,\n",
              "  -3609.552734375,\n",
              "  -3762.064697265625,\n",
              "  -4106.16162109375,\n",
              "  -4412.0859375,\n",
              "  -4556.06591796875,\n",
              "  -5156.2509765625,\n",
              "  -4897.97265625,\n",
              "  -4767.3388671875,\n",
              "  -5490.0263671875,\n",
              "  -5328.71923828125,\n",
              "  -5707.69091796875,\n",
              "  -5309.740234375,\n",
              "  -5713.716796875],\n",
              " 'binary_accuracy': [0.34285715222358704,\n",
              "  0.3333333432674408,\n",
              "  0.3380952477455139,\n",
              "  0.3285714387893677,\n",
              "  0.3380952477455139,\n",
              "  0.3380952477455139,\n",
              "  0.3333333432674408,\n",
              "  0.3333333432674408,\n",
              "  0.3285714387893677,\n",
              "  0.3333333432674408,\n",
              "  0.3333333432674408,\n",
              "  0.3333333432674408,\n",
              "  0.3333333432674408,\n",
              "  0.3333333432674408,\n",
              "  0.3380952477455139,\n",
              "  0.3333333432674408,\n",
              "  0.3333333432674408,\n",
              "  0.3333333432674408,\n",
              "  0.3380952477455139,\n",
              "  0.3333333432674408,\n",
              "  0.3333333432674408,\n",
              "  0.3333333432674408,\n",
              "  0.3333333432674408,\n",
              "  0.3333333432674408,\n",
              "  0.3333333432674408,\n",
              "  0.3333333432674408,\n",
              "  0.3333333432674408,\n",
              "  0.3333333432674408,\n",
              "  0.3333333432674408,\n",
              "  0.3333333432674408,\n",
              "  0.3333333432674408,\n",
              "  0.3333333432674408,\n",
              "  0.3333333432674408,\n",
              "  0.3333333432674408,\n",
              "  0.3333333432674408,\n",
              "  0.3380952477455139,\n",
              "  0.3380952477455139,\n",
              "  0.3333333432674408,\n",
              "  0.34285715222358704,\n",
              "  0.3761904835700989,\n",
              "  0.4000000059604645,\n",
              "  0.44285714626312256,\n",
              "  0.43809524178504944,\n",
              "  0.4523809552192688,\n",
              "  0.44285714626312256,\n",
              "  0.4333333373069763,\n",
              "  0.4238095283508301,\n",
              "  0.43809524178504944,\n",
              "  0.4476190507411957,\n",
              "  0.43809524178504944,\n",
              "  0.4333333373069763,\n",
              "  0.4333333373069763,\n",
              "  0.4238095283508301,\n",
              "  0.4476190507411957,\n",
              "  0.4761904776096344,\n",
              "  0.48571428656578064,\n",
              "  0.5142857432365417,\n",
              "  0.5,\n",
              "  0.49047619104385376,\n",
              "  0.49047619104385376,\n",
              "  0.4809523820877075,\n",
              "  0.4761904776096344,\n",
              "  0.43809524178504944,\n",
              "  0.4714285731315613,\n",
              "  0.4714285731315613,\n",
              "  0.46666666865348816,\n",
              "  0.4952380955219269,\n",
              "  0.4809523820877075,\n",
              "  0.4952380955219269,\n",
              "  0.49047619104385376,\n",
              "  0.46666666865348816,\n",
              "  0.5047619342803955,\n",
              "  0.5,\n",
              "  0.5285714268684387,\n",
              "  0.4952380955219269,\n",
              "  0.5190476179122925,\n",
              "  0.5476190447807312,\n",
              "  0.5285714268684387,\n",
              "  0.5095238089561462,\n",
              "  0.5190476179122925,\n",
              "  0.48571428656578064,\n",
              "  0.5142857432365417,\n",
              "  0.49047619104385376,\n",
              "  0.5476190447807312,\n",
              "  0.5285714268684387,\n",
              "  0.5190476179122925,\n",
              "  0.523809552192688,\n",
              "  0.5476190447807312,\n",
              "  0.5142857432365417,\n",
              "  0.5333333611488342,\n",
              "  0.5476190447807312,\n",
              "  0.5476190447807312,\n",
              "  0.5428571701049805,\n",
              "  0.538095235824585,\n",
              "  0.5428571701049805,\n",
              "  0.561904788017273,\n",
              "  0.5714285969734192,\n",
              "  0.5285714268684387,\n",
              "  0.5523809790611267,\n",
              "  0.561904788017273],\n",
              " 'val_loss': [4.7327799797058105,\n",
              "  4.444951057434082,\n",
              "  4.150086402893066,\n",
              "  3.8536813259124756,\n",
              "  3.567514419555664,\n",
              "  3.3039419651031494,\n",
              "  3.069479465484619,\n",
              "  2.864671468734741,\n",
              "  2.6864633560180664,\n",
              "  2.524587869644165,\n",
              "  2.375871419906616,\n",
              "  2.2370712757110596,\n",
              "  2.105476140975952,\n",
              "  1.9789363145828247,\n",
              "  1.8559941053390503,\n",
              "  1.736845850944519,\n",
              "  1.6207014322280884,\n",
              "  1.5054551362991333,\n",
              "  1.3892180919647217,\n",
              "  1.270135521888733,\n",
              "  1.1455382108688354,\n",
              "  1.0136255025863647,\n",
              "  0.8697414994239807,\n",
              "  0.7063601016998291,\n",
              "  0.5173777341842651,\n",
              "  0.2937656044960022,\n",
              "  0.01990390568971634,\n",
              "  -0.3188662528991699,\n",
              "  -0.7393843531608582,\n",
              "  -1.28677499294281,\n",
              "  -2.0003864765167236,\n",
              "  -2.913806200027466,\n",
              "  -4.096743583679199,\n",
              "  -5.626711368560791,\n",
              "  -7.613712787628174,\n",
              "  -10.119614601135254,\n",
              "  -13.237214088439941,\n",
              "  -16.207069396972656,\n",
              "  -19.741300582885742,\n",
              "  -23.203022003173828,\n",
              "  -27.812435150146484,\n",
              "  -33.37650680541992,\n",
              "  -40.739688873291016,\n",
              "  -48.408973693847656,\n",
              "  -58.39612579345703,\n",
              "  -69.1947250366211,\n",
              "  -75.61262512207031,\n",
              "  -83.53350830078125,\n",
              "  -92.1523666381836,\n",
              "  -94.27783203125,\n",
              "  -100.45862579345703,\n",
              "  -115.90248107910156,\n",
              "  -125.34849548339844,\n",
              "  -144.55966186523438,\n",
              "  -166.45603942871094,\n",
              "  -182.5406036376953,\n",
              "  -184.42393493652344,\n",
              "  -196.56871032714844,\n",
              "  -214.51629638671875,\n",
              "  -247.80421447753906,\n",
              "  -264.3994140625,\n",
              "  -265.0862731933594,\n",
              "  -328.5450744628906,\n",
              "  -380.02294921875,\n",
              "  -373.5510559082031,\n",
              "  -410.2830810546875,\n",
              "  -464.8271179199219,\n",
              "  -529.9650268554688,\n",
              "  -557.7330322265625,\n",
              "  -585.9938354492188,\n",
              "  -574.3856201171875,\n",
              "  -499.44384765625,\n",
              "  -512.1752319335938,\n",
              "  -534.6650390625,\n",
              "  -614.7901000976562,\n",
              "  -661.1376953125,\n",
              "  -578.8653564453125,\n",
              "  -721.041015625,\n",
              "  -755.3850708007812,\n",
              "  -785.5296020507812,\n",
              "  -817.600341796875,\n",
              "  -850.554931640625,\n",
              "  -883.6594848632812,\n",
              "  -918.5328369140625,\n",
              "  -955.4596557617188,\n",
              "  -911.2789306640625,\n",
              "  -939.4981689453125,\n",
              "  -971.8665771484375,\n",
              "  -1111.09033203125,\n",
              "  -1264.57275390625,\n",
              "  -1512.3489990234375,\n",
              "  -1516.1435546875,\n",
              "  -1581.0064697265625,\n",
              "  -1644.8555908203125,\n",
              "  -1710.3970947265625,\n",
              "  -1778.1060791015625,\n",
              "  -1699.768798828125,\n",
              "  -1755.497802734375,\n",
              "  -1931.546142578125,\n",
              "  -1880.3465576171875],\n",
              " 'val_binary_accuracy': [0.3333333432674408,\n",
              "  0.3333333432674408,\n",
              "  0.3333333432674408,\n",
              "  0.3333333432674408,\n",
              "  0.3333333432674408,\n",
              "  0.3333333432674408,\n",
              "  0.3333333432674408,\n",
              "  0.3333333432674408,\n",
              "  0.3333333432674408,\n",
              "  0.3333333432674408,\n",
              "  0.3333333432674408,\n",
              "  0.3333333432674408,\n",
              "  0.3333333432674408,\n",
              "  0.3333333432674408,\n",
              "  0.3333333432674408,\n",
              "  0.3333333432674408,\n",
              "  0.3333333432674408,\n",
              "  0.3333333432674408,\n",
              "  0.3333333432674408,\n",
              "  0.3333333432674408,\n",
              "  0.3333333432674408,\n",
              "  0.3333333432674408,\n",
              "  0.3333333432674408,\n",
              "  0.3333333432674408,\n",
              "  0.3333333432674408,\n",
              "  0.3333333432674408,\n",
              "  0.3333333432674408,\n",
              "  0.3333333432674408,\n",
              "  0.3333333432674408,\n",
              "  0.3333333432674408,\n",
              "  0.3333333432674408,\n",
              "  0.3333333432674408,\n",
              "  0.3333333432674408,\n",
              "  0.3333333432674408,\n",
              "  0.3333333432674408,\n",
              "  0.3333333432674408,\n",
              "  0.3333333432674408,\n",
              "  0.3333333432674408,\n",
              "  0.3333333432674408,\n",
              "  0.3333333432674408,\n",
              "  0.3333333432674408,\n",
              "  0.30000001192092896,\n",
              "  0.2888889014720917,\n",
              "  0.31111112236976624,\n",
              "  0.31111112236976624,\n",
              "  0.3222222328186035,\n",
              "  0.3222222328186035,\n",
              "  0.31111112236976624,\n",
              "  0.31111112236976624,\n",
              "  0.30000001192092896,\n",
              "  0.2888889014720917,\n",
              "  0.3222222328186035,\n",
              "  0.31111112236976624,\n",
              "  0.31111112236976624,\n",
              "  0.3444444537162781,\n",
              "  0.3333333432674408,\n",
              "  0.3444444537162781,\n",
              "  0.3444444537162781,\n",
              "  0.35555556416511536,\n",
              "  0.36666667461395264,\n",
              "  0.36666667461395264,\n",
              "  0.35555556416511536,\n",
              "  0.3888888955116272,\n",
              "  0.36666667461395264,\n",
              "  0.36666667461395264,\n",
              "  0.3444444537162781,\n",
              "  0.35555556416511536,\n",
              "  0.36666667461395264,\n",
              "  0.36666667461395264,\n",
              "  0.36666667461395264,\n",
              "  0.35555556416511536,\n",
              "  0.36666667461395264,\n",
              "  0.36666667461395264,\n",
              "  0.3888888955116272,\n",
              "  0.3888888955116272,\n",
              "  0.3777777850627899,\n",
              "  0.36666667461395264,\n",
              "  0.3888888955116272,\n",
              "  0.3888888955116272,\n",
              "  0.3888888955116272,\n",
              "  0.3777777850627899,\n",
              "  0.36666667461395264,\n",
              "  0.3888888955116272,\n",
              "  0.4000000059604645,\n",
              "  0.4000000059604645,\n",
              "  0.4000000059604645,\n",
              "  0.4000000059604645,\n",
              "  0.3888888955116272,\n",
              "  0.3888888955116272,\n",
              "  0.3888888955116272,\n",
              "  0.3888888955116272,\n",
              "  0.3888888955116272,\n",
              "  0.3888888955116272,\n",
              "  0.4000000059604645,\n",
              "  0.4000000059604645,\n",
              "  0.4000000059604645,\n",
              "  0.4000000059604645,\n",
              "  0.3888888955116272,\n",
              "  0.4000000059604645,\n",
              "  0.4000000059604645]}"
            ]
          },
          "metadata": {},
          "execution_count": 20
        }
      ]
    },
    {
      "cell_type": "code",
      "source": [
        "plt.plot(history.history['loss'], label=' training data')\n",
        "plt.plot(history.history['val_loss'], label='validation data')\n",
        "plt.title('Loss for Text Classification')\n",
        "plt.ylabel('Loss value')\n",
        "plt.xlabel('No. epoch')\n",
        "plt.legend(loc=\"upper left\")\n",
        "plt.show()"
      ],
      "metadata": {
        "colab": {
          "base_uri": "https://localhost:8080/",
          "height": 301
        },
        "id": "2GAc7aXUp5AL",
        "outputId": "32eb066d-c065-4ceb-fb05-fd06febb8e51"
      },
      "execution_count": null,
      "outputs": [
        {
          "output_type": "display_data",
          "data": {
            "text/plain": [
              "<Figure size 432x288 with 1 Axes>"
            ],
            "image/png": "[encoded data removed]"
          },
          "metadata": {}
        }
      ]
    },
    {
      "cell_type": "code",
      "source": [
        "plt.plot(history.history['binary_accuracy'], label=' training data')\n",
        "plt.plot(history.history['val_binary_accuracy'], label='validation data')\n",
        "plt.title('Accuracy for Text Classification')\n",
        "plt.ylabel('Accuracy value')\n",
        "plt.xlabel('No. epoch')\n",
        "plt.legend(loc=\"upper left\")\n",
        "plt.show()"
      ],
      "metadata": {
        "colab": {
          "base_uri": "https://localhost:8080/",
          "height": 301
        },
        "id": "ALSowJ2Zp848",
        "outputId": "b52200f4-ad6c-4c3b-9076-b50de4e02082"
      },
      "execution_count": null,
      "outputs": [
        {
          "output_type": "display_data",
          "data": {
            "text/plain": [
              "<Figure size 432x288 with 1 Axes>"
            ],
            "image/png": "[encoded data removed]"
          },
          "metadata": {}
        }
      ]
    },
    {
      "cell_type": "code",
      "source": [
        "model.save('/content/drive/MyDrive/Sentiment analysis/model/tf_lstmmodel.h5') \n",
        "json_string = tokenizer.to_json()"
      ],
      "metadata": {
        "id": "1AJkXokPqAj9"
      },
      "execution_count": null,
      "outputs": []
    },
    {
      "cell_type": "code",
      "source": [
        "import json\n",
        "with open('/content/drive/MyDrive/Sentiment analysis/model/tokenizer.json', 'w') as outfile:\n",
        "    json.dump(json_string, outfile)"
      ],
      "metadata": {
        "id": "7Q3KFvsBqcip"
      },
      "execution_count": null,
      "outputs": []
    },
    {
      "cell_type": "code",
      "source": [
        "valid_predict= model.predict(x_valid)"
      ],
      "metadata": {
        "id": "Am3luB6YqraI"
      },
      "execution_count": null,
      "outputs": []
    },
    {
      "cell_type": "code",
      "source": [
        "print(valid_predict[:10])"
      ],
      "metadata": {
        "colab": {
          "base_uri": "https://localhost:8080/"
        },
        "id": "Tub3Roj3qvbB",
        "outputId": "c6d9cd04-e352-47de-e925-f52a0d8dc23b"
      },
      "execution_count": null,
      "outputs": [
        {
          "output_type": "stream",
          "name": "stdout",
          "text": [
            "[[0.       ]\n",
            " [0.6859364]\n",
            " [0.       ]\n",
            " [0.       ]\n",
            " [0.       ]\n",
            " [0.       ]\n",
            " [0.709797 ]\n",
            " [0.       ]\n",
            " [0.       ]\n",
            " [0.8134537]]\n"
          ]
        }
      ]
    },
    {
      "cell_type": "code",
      "source": [
        "def plot_roc(name, labels, predictions, **kwargs):\n",
        "    fp, tp, thresholds = sklearn.metrics.roc_curve(labels, predictions)\n",
        "    plt.plot(fp, tp, label=name, linewidth=2, **kwargs)\n",
        "    plt.xlabel('False positives Rate')\n",
        "    plt.ylabel('True positives Rate')\n",
        "    plt.xlim([-0.03, 1.0])\n",
        "    plt.ylim([0.0, 1.03])\n",
        "    plt.grid(True)\n",
        "    thresholdsLength = len(thresholds)\n",
        "    thresholds_every = 1000\n",
        "    colorMap = plt.get_cmap('jet', thresholdsLength)\n",
        "    for i in range(0, thresholdsLength, thresholds_every):\n",
        "        threshold_value_with_max_four_decimals = str(thresholds[i])[:5]\n",
        "        plt.text(fp[i] - 0.03, tp[i] + 0.001, threshold_value_with_max_four_decimals, fontdict={'size': 15}, color=colorMap(i/thresholdsLength));\n",
        "\n",
        "    ax = plt.gca()\n",
        "    ax.set_aspect('equal')"
      ],
      "metadata": {
        "id": "0Zqo8Gj6qx83"
      },
      "execution_count": null,
      "outputs": []
    },
    {
      "cell_type": "code",
      "source": [
        "mpl.rcParams['figure.figsize'] = (16, 16)\n",
        "\n",
        "colors = plt.rcParams['axes.prop_cycle'].by_key()['color']"
      ],
      "metadata": {
        "id": "RgyV_lRqq0TM"
      },
      "execution_count": null,
      "outputs": []
    },
    {
      "cell_type": "code",
      "source": [
        "new_model = tf.keras.models.load_model('/content/drive/MyDrive/Sentiment analysis/model/tf_lstmmodel.h5')\n",
        "new_model.summary()"
      ],
      "metadata": {
        "colab": {
          "base_uri": "https://localhost:8080/"
        },
        "id": "fRP2EYuuq-EP",
        "outputId": "899ca9d3-22e4-4d61-989e-556ae15817b3"
      },
      "execution_count": null,
      "outputs": [
        {
          "output_type": "stream",
          "name": "stdout",
          "text": [
            "Model: \"sequential\"\n",
            "_________________________________________________________________\n",
            " Layer (type)                Output Shape              Param #   \n",
            "=================================================================\n",
            " embedding (Embedding)       (None, 100, 16)           800016    \n",
            "                                                                 \n",
            " dropout (Dropout)           (None, 100, 16)           0         \n",
            "                                                                 \n",
            " lstm (LSTM)                 (None, 100, 16)           2112      \n",
            "                                                                 \n",
            " flatten (Flatten)           (None, 1600)              0         \n",
            "                                                                 \n",
            " dense (Dense)               (None, 512)               819712    \n",
            "                                                                 \n",
            " dropout_1 (Dropout)         (None, 512)               0         \n",
            "                                                                 \n",
            " dense_1 (Dense)             (None, 8)                 4104      \n",
            "                                                                 \n",
            " dropout_2 (Dropout)         (None, 8)                 0         \n",
            "                                                                 \n",
            " dense_2 (Dense)             (None, 1)                 9         \n",
            "                                                                 \n",
            "=================================================================\n",
            "Total params: 1,625,953\n",
            "Trainable params: 1,625,953\n",
            "Non-trainable params: 0\n",
            "_________________________________________________________________\n"
          ]
        }
      ]
    },
    {
      "cell_type": "code",
      "source": [
        "with open('/content/drive/MyDrive/Sentiment analysis/model/tokenizer.json') as json_file:\n",
        "    json_string = json.load(json_file)\n",
        "tokenizer1 = tf.keras.preprocessing.text.tokenizer_from_json(json_string)"
      ],
      "metadata": {
        "id": "3bGTvKyZrFzr"
      },
      "execution_count": null,
      "outputs": []
    },
    {
      "cell_type": "code",
      "source": [
        "x_test  = np.array( tokenizer.texts_to_sequences(test_data['review'].tolist()) )\n",
        "x_test = pad_sequences(x_test, padding='post', maxlen=100)"
      ],
      "metadata": {
        "colab": {
          "base_uri": "https://localhost:8080/"
        },
        "id": "-AAcLcD0rOLQ",
        "outputId": "5efd6785-2d91-4d9f-c8e4-c917ac99dd92"
      },
      "execution_count": null,
      "outputs": [
        {
          "output_type": "stream",
          "name": "stderr",
          "text": [
            "/usr/local/lib/python3.7/dist-packages/ipykernel_launcher.py:1: VisibleDeprecationWarning: Creating an ndarray from ragged nested sequences (which is a list-or-tuple of lists-or-tuples-or ndarrays with different lengths or shapes) is deprecated. If you meant to do this, you must specify 'dtype=object' when creating the ndarray.\n",
            "  \"\"\"Entry point for launching an IPython kernel.\n"
          ]
        }
      ]
    },
    {
      "cell_type": "code",
      "source": [
        "# Generate predictions (probabilities -- the output of the last layer)\n",
        "# on test  data using `predict`\n",
        "print(\"Generate predictions for all samples\")\n",
        "predictions = new_model.predict(x_test)\n",
        "predict_results = predictions.argmax(axis=1)"
      ],
      "metadata": {
        "colab": {
          "base_uri": "https://localhost:8080/"
        },
        "id": "UMyYZVHgrP5t",
        "outputId": "b2e75685-f757-4ef2-9593-7ccd58c6fcda"
      },
      "execution_count": null,
      "outputs": [
        {
          "output_type": "stream",
          "name": "stdout",
          "text": [
            "Generate predictions for all samples\n"
          ]
        }
      ]
    },
    {
      "cell_type": "code",
      "source": [
        "predictions"
      ],
      "metadata": {
        "colab": {
          "base_uri": "https://localhost:8080/"
        },
        "id": "cW6Vy5wI13Kd",
        "outputId": "d4fa7ae7-a0f4-419f-a930-16fbcd0209eb"
      },
      "execution_count": null,
      "outputs": [
        {
          "output_type": "execute_result",
          "data": {
            "text/plain": [
              "array([[0.        ],\n",
              "       [0.        ],\n",
              "       [0.        ],\n",
              "       [0.7179556 ],\n",
              "       [0.8101742 ],\n",
              "       [0.7606852 ],\n",
              "       [0.76442486],\n",
              "       [0.        ],\n",
              "       [0.82239443],\n",
              "       [0.8225826 ],\n",
              "       [0.7879344 ],\n",
              "       [0.8071492 ],\n",
              "       [0.        ],\n",
              "       [0.        ],\n",
              "       [0.8004191 ],\n",
              "       [0.75436765],\n",
              "       [0.7772688 ],\n",
              "       [0.        ],\n",
              "       [0.        ],\n",
              "       [0.        ],\n",
              "       [0.        ],\n",
              "       [0.7984053 ],\n",
              "       [0.        ],\n",
              "       [0.        ],\n",
              "       [0.791379  ],\n",
              "       [0.8072498 ],\n",
              "       [0.81528354],\n",
              "       [0.        ],\n",
              "       [0.8179937 ],\n",
              "       [0.        ],\n",
              "       [0.7740148 ],\n",
              "       [0.73663694],\n",
              "       [0.7967401 ],\n",
              "       [0.        ],\n",
              "       [0.7972945 ],\n",
              "       [0.7726095 ],\n",
              "       [0.78547215],\n",
              "       [0.        ],\n",
              "       [0.6435627 ],\n",
              "       [0.8112141 ],\n",
              "       [0.7647442 ],\n",
              "       [0.81627977],\n",
              "       [0.        ],\n",
              "       [0.709797  ],\n",
              "       [0.7899071 ],\n",
              "       [0.        ],\n",
              "       [0.7441868 ],\n",
              "       [0.        ],\n",
              "       [0.        ],\n",
              "       [0.        ],\n",
              "       [0.        ],\n",
              "       [0.84132344],\n",
              "       [0.74950683],\n",
              "       [0.        ],\n",
              "       [0.7697731 ],\n",
              "       [0.        ],\n",
              "       [0.8266465 ],\n",
              "       [0.        ],\n",
              "       [0.79332   ],\n",
              "       [0.        ],\n",
              "       [0.        ],\n",
              "       [0.5735857 ],\n",
              "       [0.        ],\n",
              "       [0.75656366],\n",
              "       [0.81053233],\n",
              "       [0.        ],\n",
              "       [0.7531092 ],\n",
              "       [0.8301069 ],\n",
              "       [0.        ],\n",
              "       [0.82302076],\n",
              "       [0.        ],\n",
              "       [0.        ],\n",
              "       [0.8174585 ],\n",
              "       [0.80178094],\n",
              "       [0.        ],\n",
              "       [0.7872542 ],\n",
              "       [0.8254831 ],\n",
              "       [0.81344736],\n",
              "       [0.8165263 ],\n",
              "       [0.82781196],\n",
              "       [0.72252774],\n",
              "       [0.77341723],\n",
              "       [0.724769  ],\n",
              "       [0.        ],\n",
              "       [0.7542001 ],\n",
              "       [0.78313667],\n",
              "       [0.753597  ],\n",
              "       [0.73659235],\n",
              "       [0.        ],\n",
              "       [0.        ],\n",
              "       [0.        ],\n",
              "       [0.7789873 ],\n",
              "       [0.7742189 ],\n",
              "       [0.75321877],\n",
              "       [0.8134537 ],\n",
              "       [0.        ],\n",
              "       [0.        ],\n",
              "       [0.7811321 ],\n",
              "       [0.78871226],\n",
              "       [0.7750926 ],\n",
              "       [0.770631  ],\n",
              "       [0.        ],\n",
              "       [0.        ],\n",
              "       [0.7225421 ],\n",
              "       [0.        ],\n",
              "       [0.8056339 ],\n",
              "       [0.        ],\n",
              "       [0.8270311 ],\n",
              "       [0.        ],\n",
              "       [0.53178734],\n",
              "       [0.78717995],\n",
              "       [0.794127  ],\n",
              "       [0.72500706],\n",
              "       [0.78273094],\n",
              "       [0.        ],\n",
              "       [0.        ],\n",
              "       [0.76525855],\n",
              "       [0.7683359 ],\n",
              "       [0.6299186 ],\n",
              "       [0.        ],\n",
              "       [0.        ],\n",
              "       [0.81177956],\n",
              "       [0.76040006],\n",
              "       [0.        ],\n",
              "       [0.        ],\n",
              "       [0.501112  ],\n",
              "       [0.774851  ],\n",
              "       [0.72929513],\n",
              "       [0.6269693 ],\n",
              "       [0.8171439 ],\n",
              "       [0.        ],\n",
              "       [0.        ],\n",
              "       [0.7402977 ],\n",
              "       [0.        ],\n",
              "       [0.        ],\n",
              "       [0.60202724],\n",
              "       [0.7532473 ],\n",
              "       [0.74251795],\n",
              "       [0.7757635 ],\n",
              "       [0.        ],\n",
              "       [0.7903863 ],\n",
              "       [0.7823403 ],\n",
              "       [0.        ],\n",
              "       [0.        ],\n",
              "       [0.6859364 ],\n",
              "       [0.        ],\n",
              "       [0.        ],\n",
              "       [0.        ],\n",
              "       [0.80594695],\n",
              "       [0.78312796],\n",
              "       [0.        ],\n",
              "       [0.7766681 ],\n",
              "       [0.        ],\n",
              "       [0.        ],\n",
              "       [0.76843536],\n",
              "       [0.7813934 ],\n",
              "       [0.        ],\n",
              "       [0.81638217],\n",
              "       [0.52901155],\n",
              "       [0.        ],\n",
              "       [0.        ],\n",
              "       [0.78182495],\n",
              "       [0.        ],\n",
              "       [0.        ],\n",
              "       [0.        ],\n",
              "       [0.        ],\n",
              "       [0.        ],\n",
              "       [0.35798833],\n",
              "       [0.        ],\n",
              "       [0.        ],\n",
              "       [0.        ],\n",
              "       [0.        ],\n",
              "       [0.73745096],\n",
              "       [0.        ],\n",
              "       [0.        ],\n",
              "       [0.        ],\n",
              "       [0.        ],\n",
              "       [0.        ],\n",
              "       [0.        ],\n",
              "       [0.        ],\n",
              "       [0.        ],\n",
              "       [0.75410306],\n",
              "       [0.        ],\n",
              "       [0.7367873 ],\n",
              "       [0.        ],\n",
              "       [0.7987545 ],\n",
              "       [0.        ],\n",
              "       [0.        ],\n",
              "       [0.        ],\n",
              "       [0.        ],\n",
              "       [0.        ],\n",
              "       [0.        ],\n",
              "       [0.        ],\n",
              "       [0.        ],\n",
              "       [0.        ],\n",
              "       [0.        ],\n",
              "       [0.        ],\n",
              "       [0.768954  ],\n",
              "       [0.        ],\n",
              "       [0.        ],\n",
              "       [0.        ],\n",
              "       [0.        ],\n",
              "       [0.        ],\n",
              "       [0.        ],\n",
              "       [0.        ],\n",
              "       [0.        ],\n",
              "       [0.        ],\n",
              "       [0.8185133 ],\n",
              "       [0.        ],\n",
              "       [0.        ],\n",
              "       [0.67664313],\n",
              "       [0.70298487],\n",
              "       [0.        ],\n",
              "       [0.        ],\n",
              "       [0.        ],\n",
              "       [0.        ],\n",
              "       [0.7789333 ],\n",
              "       [0.        ],\n",
              "       [0.        ],\n",
              "       [0.        ],\n",
              "       [0.        ],\n",
              "       [0.        ],\n",
              "       [0.7816354 ],\n",
              "       [0.5948717 ],\n",
              "       [0.        ],\n",
              "       [0.        ],\n",
              "       [0.        ],\n",
              "       [0.        ],\n",
              "       [0.        ],\n",
              "       [0.        ],\n",
              "       [0.7408377 ],\n",
              "       [0.        ],\n",
              "       [0.        ],\n",
              "       [0.        ],\n",
              "       [0.        ],\n",
              "       [0.        ],\n",
              "       [0.        ],\n",
              "       [0.        ],\n",
              "       [0.7479486 ],\n",
              "       [0.        ],\n",
              "       [0.        ],\n",
              "       [0.        ],\n",
              "       [0.        ],\n",
              "       [0.        ],\n",
              "       [0.        ],\n",
              "       [0.        ],\n",
              "       [0.        ],\n",
              "       [0.        ],\n",
              "       [0.8185133 ],\n",
              "       [0.        ],\n",
              "       [0.        ],\n",
              "       [0.67664313],\n",
              "       [0.        ],\n",
              "       [0.        ],\n",
              "       [0.        ],\n",
              "       [0.        ],\n",
              "       [0.        ],\n",
              "       [0.        ],\n",
              "       [0.        ],\n",
              "       [0.        ],\n",
              "       [0.        ],\n",
              "       [0.        ],\n",
              "       [0.        ],\n",
              "       [0.        ],\n",
              "       [0.        ],\n",
              "       [0.7534127 ],\n",
              "       [0.70298487],\n",
              "       [0.        ],\n",
              "       [0.        ],\n",
              "       [0.        ],\n",
              "       [0.        ],\n",
              "       [0.7789333 ],\n",
              "       [0.        ],\n",
              "       [0.        ],\n",
              "       [0.        ],\n",
              "       [0.        ],\n",
              "       [0.        ],\n",
              "       [0.7816354 ],\n",
              "       [0.59487176],\n",
              "       [0.        ],\n",
              "       [0.        ],\n",
              "       [0.        ],\n",
              "       [0.        ],\n",
              "       [0.        ],\n",
              "       [0.7479486 ],\n",
              "       [0.        ],\n",
              "       [0.        ],\n",
              "       [0.        ],\n",
              "       [0.        ],\n",
              "       [0.        ],\n",
              "       [0.        ],\n",
              "       [0.        ],\n",
              "       [0.8185133 ],\n",
              "       [0.        ],\n",
              "       [0.        ],\n",
              "       [0.67664313],\n",
              "       [0.63235724],\n",
              "       [0.78110933],\n",
              "       [0.77945936],\n",
              "       [0.7632179 ]], dtype=float32)"
            ]
          },
          "metadata": {},
          "execution_count": 33
        }
      ]
    },
    {
      "cell_type": "code",
      "source": [
        "test_data['pred_sentiment'] = predictions"
      ],
      "metadata": {
        "colab": {
          "base_uri": "https://localhost:8080/"
        },
        "id": "W4s9q5713KsV",
        "outputId": "fa758319-8dce-45ff-9216-8e611e5d9836"
      },
      "execution_count": null,
      "outputs": [
        {
          "output_type": "stream",
          "name": "stderr",
          "text": [
            "/usr/local/lib/python3.7/dist-packages/ipykernel_launcher.py:1: SettingWithCopyWarning: \n",
            "A value is trying to be set on a copy of a slice from a DataFrame.\n",
            "Try using .loc[row_indexer,col_indexer] = value instead\n",
            "\n",
            "See the caveats in the documentation: https://pandas.pydata.org/pandas-docs/stable/user_guide/indexing.html#returning-a-view-versus-a-copy\n",
            "  \"\"\"Entry point for launching an IPython kernel.\n"
          ]
        }
      ]
    },
    {
      "cell_type": "code",
      "source": [
        "max(predictions)"
      ],
      "metadata": {
        "colab": {
          "base_uri": "https://localhost:8080/"
        },
        "id": "XGfiu1QC2f-3",
        "outputId": "ebe1b7f3-1575-4095-f9f3-65bdd63f38d6"
      },
      "execution_count": null,
      "outputs": [
        {
          "output_type": "execute_result",
          "data": {
            "text/plain": [
              "array([0.84132344], dtype=float32)"
            ]
          },
          "metadata": {},
          "execution_count": 35
        }
      ]
    },
    {
      "cell_type": "code",
      "source": [
        "min(predictions)"
      ],
      "metadata": {
        "colab": {
          "base_uri": "https://localhost:8080/"
        },
        "id": "h075jrSc5Q0b",
        "outputId": "8a7066b6-b19c-40be-cc27-f26756ef87f4"
      },
      "execution_count": null,
      "outputs": [
        {
          "output_type": "execute_result",
          "data": {
            "text/plain": [
              "array([0.], dtype=float32)"
            ]
          },
          "metadata": {},
          "execution_count": 36
        }
      ]
    },
    {
      "cell_type": "code",
      "source": [
        "test_data['pred_sentiment'] = predictions"
      ],
      "metadata": {
        "colab": {
          "base_uri": "https://localhost:8080/"
        },
        "id": "UWEWAcjB4SIc",
        "outputId": "c0f80fdf-803b-46b6-fb31-c2d62f2f6459"
      },
      "execution_count": null,
      "outputs": [
        {
          "output_type": "stream",
          "name": "stderr",
          "text": [
            "/usr/local/lib/python3.7/dist-packages/ipykernel_launcher.py:1: SettingWithCopyWarning: \n",
            "A value is trying to be set on a copy of a slice from a DataFrame.\n",
            "Try using .loc[row_indexer,col_indexer] = value instead\n",
            "\n",
            "See the caveats in the documentation: https://pandas.pydata.org/pandas-docs/stable/user_guide/indexing.html#returning-a-view-versus-a-copy\n",
            "  \"\"\"Entry point for launching an IPython kernel.\n"
          ]
        }
      ]
    },
    {
      "cell_type": "code",
      "source": [
        "test_data['pred_sentiment']= predict_results\n",
        "test_data['pred_sentiment'] = np.where((predictions < 0.1),-1,test_data.pred_sentiment)\n",
        "test_data['pred_sentiment'] = np.where(((predictions >= 0.1) & (predictions < 0.7)), 0,test_data.pred_sentiment)\n",
        "test_data['pred_sentiment'] = np.where((predictions >= 0.7),1,test_data.pred_sentiment)"
      ],
      "metadata": {
        "colab": {
          "base_uri": "https://localhost:8080/"
        },
        "id": "uejRIiZ5rSfe",
        "outputId": "a14ffe4d-3e76-4687-ae35-16b384ab56ea"
      },
      "execution_count": null,
      "outputs": [
        {
          "output_type": "stream",
          "name": "stderr",
          "text": [
            "/usr/local/lib/python3.7/dist-packages/ipykernel_launcher.py:1: SettingWithCopyWarning: \n",
            "A value is trying to be set on a copy of a slice from a DataFrame.\n",
            "Try using .loc[row_indexer,col_indexer] = value instead\n",
            "\n",
            "See the caveats in the documentation: https://pandas.pydata.org/pandas-docs/stable/user_guide/indexing.html#returning-a-view-versus-a-copy\n",
            "  \"\"\"Entry point for launching an IPython kernel.\n",
            "/usr/local/lib/python3.7/dist-packages/ipykernel_launcher.py:2: SettingWithCopyWarning: \n",
            "A value is trying to be set on a copy of a slice from a DataFrame.\n",
            "Try using .loc[row_indexer,col_indexer] = value instead\n",
            "\n",
            "See the caveats in the documentation: https://pandas.pydata.org/pandas-docs/stable/user_guide/indexing.html#returning-a-view-versus-a-copy\n",
            "  \n",
            "/usr/local/lib/python3.7/dist-packages/ipykernel_launcher.py:3: SettingWithCopyWarning: \n",
            "A value is trying to be set on a copy of a slice from a DataFrame.\n",
            "Try using .loc[row_indexer,col_indexer] = value instead\n",
            "\n",
            "See the caveats in the documentation: https://pandas.pydata.org/pandas-docs/stable/user_guide/indexing.html#returning-a-view-versus-a-copy\n",
            "  This is separate from the ipykernel package so we can avoid doing imports until\n",
            "/usr/local/lib/python3.7/dist-packages/ipykernel_launcher.py:4: SettingWithCopyWarning: \n",
            "A value is trying to be set on a copy of a slice from a DataFrame.\n",
            "Try using .loc[row_indexer,col_indexer] = value instead\n",
            "\n",
            "See the caveats in the documentation: https://pandas.pydata.org/pandas-docs/stable/user_guide/indexing.html#returning-a-view-versus-a-copy\n",
            "  after removing the cwd from sys.path.\n"
          ]
        }
      ]
    },
    {
      "cell_type": "code",
      "source": [
        "test_data['pred_sentiment'].value_counts()"
      ],
      "metadata": {
        "colab": {
          "base_uri": "https://localhost:8080/"
        },
        "id": "OFrenlrn37i1",
        "outputId": "90f82ce7-e183-4506-d8c8-7d485b73d460"
      },
      "execution_count": null,
      "outputs": [
        {
          "output_type": "execute_result",
          "data": {
            "text/plain": [
              "-1    192\n",
              " 1    108\n",
              "Name: pred_sentiment, dtype: int64"
            ]
          },
          "metadata": {},
          "execution_count": 39
        }
      ]
    },
    {
      "cell_type": "code",
      "source": [
        "labels = [-1, 0, 1]\n",
        "    \n",
        "print(classification_report(test_data['Sentiment'].tolist(),test_data['pred_sentiment'].tolist(),labels=labels))"
      ],
      "metadata": {
        "colab": {
          "base_uri": "https://localhost:8080/"
        },
        "id": "cAqF4KiHrVne",
        "outputId": "0881cdf9-7eb7-4873-a278-74cdeb91aa82"
      },
      "execution_count": null,
      "outputs": [
        {
          "output_type": "stream",
          "name": "stdout",
          "text": [
            "              precision    recall  f1-score   support\n",
            "\n",
            "          -1       0.49      0.95      0.65       100\n",
            "           0       0.00      0.00      0.00       100\n",
            "           1       0.76      0.82      0.79       100\n",
            "\n",
            "    accuracy                           0.59       300\n",
            "   macro avg       0.42      0.59      0.48       300\n",
            "weighted avg       0.42      0.59      0.48       300\n",
            "\n"
          ]
        },
        {
          "output_type": "stream",
          "name": "stderr",
          "text": [
            "/usr/local/lib/python3.7/dist-packages/sklearn/metrics/_classification.py:1318: UndefinedMetricWarning: Precision and F-score are ill-defined and being set to 0.0 in labels with no predicted samples. Use `zero_division` parameter to control this behavior.\n",
            "  _warn_prf(average, modifier, msg_start, len(result))\n",
            "/usr/local/lib/python3.7/dist-packages/sklearn/metrics/_classification.py:1318: UndefinedMetricWarning: Precision and F-score are ill-defined and being set to 0.0 in labels with no predicted samples. Use `zero_division` parameter to control this behavior.\n",
            "  _warn_prf(average, modifier, msg_start, len(result))\n",
            "/usr/local/lib/python3.7/dist-packages/sklearn/metrics/_classification.py:1318: UndefinedMetricWarning: Precision and F-score are ill-defined and being set to 0.0 in labels with no predicted samples. Use `zero_division` parameter to control this behavior.\n",
            "  _warn_prf(average, modifier, msg_start, len(result))\n"
          ]
        }
      ]
    },
    {
      "cell_type": "code",
      "source": [
        "from sklearn.metrics import confusion_matrix\n",
        "import seaborn as sns\n",
        "from sklearn.metrics import classification_report\n",
        "Ypred = test_data['pred_sentiment']\n",
        "label=['Positive', 'Neutral','Negative']\n",
        "Ytrue = test_data['Sentiment']\n",
        "cm = confusion_matrix(Ytrue, Ypred)\n",
        "plt.figure(figsize=(12, 12))\n",
        "plt.title(\"Confusion Matrix for Random Forest Classifier\")\n",
        "ax = sns.heatmap(cm, cmap=\"Blues\", fmt=\".01f\",annot_kws={'size':16}, annot=True, square=True, xticklabels=label, yticklabels=label)\n",
        "ax.set_ylabel('Actual', fontsize=20)\n",
        "ax.set_xlabel('Predicted', fontsize=20)"
      ],
      "metadata": {
        "colab": {
          "base_uri": "https://localhost:8080/",
          "height": 706
        },
        "id": "qahbZHj20oA2",
        "outputId": "a68105ed-8f3a-41f7-a807-2ee1fb8715ce"
      },
      "execution_count": null,
      "outputs": [
        {
          "output_type": "execute_result",
          "data": {
            "text/plain": [
              "Text(0.5, 142.81999999999996, 'Predicted')"
            ]
          },
          "metadata": {},
          "execution_count": 41
        },
        {
          "output_type": "display_data",
          "data": {
            "text/plain": [
              "<Figure size 864x864 with 2 Axes>"
            ],
            "image/png": "[encoded data removed]"
          },
          "metadata": {}
        }
      ]
    },
    {
      "cell_type": "code",
      "source": [
        "import matplotlib.pyplot as plt \n",
        "from sklearn.preprocessing import LabelBinarizer\n",
        "from sklearn.metrics import roc_curve, auc, roc_auc_score\n",
        "\n",
        "\n",
        "target= [-1,0,1]\n",
        "\n",
        "# set plot figure size\n",
        "fig, c_ax = plt.subplots(1,1, figsize = (12, 8))\n",
        "\n",
        "# function for scoring roc auc score for multi-class\n",
        "def multiclass_roc_auc_score(Ytrue, Ypred, average=\"macro\"):\n",
        "    lb = LabelBinarizer()\n",
        "    lb.fit(Ytrue)\n",
        "    Ytrue = lb.transform(Ytrue)\n",
        "    Ypred = lb.transform(Ypred)\n",
        "\n",
        "    for (idx, c_label) in enumerate(target):\n",
        "        fpr, tpr, thresholds = roc_curve(Ytrue[:,idx].astype(int), Ypred[:,idx])\n",
        "        c_ax.plot(fpr, tpr, label = '%s (AUC:%0.2f)'  % (c_label, auc(fpr, tpr)))\n",
        "    c_ax.plot(fpr, fpr, 'b-', label = 'Random Guessing')\n",
        "    return roc_auc_score(Ytrue, Ypred, average=average)\n",
        "\n",
        "\n",
        "print('ROC AUC score:', multiclass_roc_auc_score(Ytrue, Ypred))\n",
        "\n",
        "c_ax.legend()\n",
        "c_ax.set_xlabel('Specificity')\n",
        "c_ax.set_ylabel('Sensitivity')\n",
        "plt.show()"
      ],
      "metadata": {
        "colab": {
          "base_uri": "https://localhost:8080/",
          "height": 519
        },
        "id": "J0OYF3GF1FTC",
        "outputId": "f1037af9-55ad-47c4-f2ea-d0b3119f0ae9"
      },
      "execution_count": null,
      "outputs": [
        {
          "output_type": "stream",
          "name": "stdout",
          "text": [
            "ROC AUC score: 0.6924999999999999\n"
          ]
        },
        {
          "output_type": "display_data",
          "data": {
            "text/plain": [
              "<Figure size 864x576 with 1 Axes>"
            ],
            "image/png": "[encoded data removed]"
          },
          "metadata": {}
        }
      ]
    }
  ]
}