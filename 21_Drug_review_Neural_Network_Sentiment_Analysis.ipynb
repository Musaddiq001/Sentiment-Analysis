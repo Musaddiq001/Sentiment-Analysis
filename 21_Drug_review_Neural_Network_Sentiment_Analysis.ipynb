{
  "nbformat": 4,
  "nbformat_minor": 0,
  "metadata": {
    "colab": {
      "provenance": []
    },
    "kernelspec": {
      "name": "python3",
      "display_name": "Python 3"
    },
    "language_info": {
      "name": "python"
    }
  },
  "cells": [
    {
      "cell_type": "code",
      "metadata": {
        "id": "K8aUJ2JID-nK"
      },
      "source": [
        "import pandas as pd\n",
        "import numpy as np\n",
        "import matplotlib.pyplot as plt\n",
        "import seaborn as sns"
      ],
      "execution_count": null,
      "outputs": []
    },
    {
      "cell_type": "code",
      "metadata": {
        "colab": {
          "base_uri": "https://localhost:8080/"
        },
        "id": "fCl4rf5jTWfl",
        "outputId": "4b21ca26-bb3b-4752-a317-09214441eb4a"
      },
      "source": [
        "from google.colab import drive\n",
        "drive.mount('/content/drive/') "
      ],
      "execution_count": null,
      "outputs": [
        {
          "output_type": "stream",
          "name": "stdout",
          "text": [
            "Mounted at /content/drive/\n"
          ]
        }
      ]
    },
    {
      "cell_type": "code",
      "metadata": {
        "id": "DyU94uvGTtV8"
      },
      "source": [
        "dataset = pd.read_csv('/content/drive/MyDrive/Sentiment analysis/drugsComTrain_raw_sentiment.csv', encoding= 'unicode_escape')"
      ],
      "execution_count": null,
      "outputs": []
    },
    {
      "cell_type": "code",
      "metadata": {
        "colab": {
          "base_uri": "https://localhost:8080/"
        },
        "id": "avtdsmVmTyDh",
        "outputId": "7729fc19-bdb5-4877-9a55-d98e7ecb3d12"
      },
      "source": [
        "! pip install git+https://github.com/laxmimerit/preprocess_kgptalkie.git --upgrade --force-reinstall"
      ],
      "execution_count": null,
      "outputs": [
        {
          "output_type": "stream",
          "name": "stdout",
          "text": [
            "Collecting git+https://github.com/laxmimerit/preprocess_kgptalkie.git\n",
            "  Cloning https://github.com/laxmimerit/preprocess_kgptalkie.git to /tmp/pip-req-build-85t_qs_o\n",
            "  Running command git clone -q https://github.com/laxmimerit/preprocess_kgptalkie.git /tmp/pip-req-build-85t_qs_o\n",
            "Building wheels for collected packages: preprocess-kgptalkie\n",
            "  Building wheel for preprocess-kgptalkie (setup.py) ... \u001b[?25l\u001b[?25hdone\n",
            "  Created wheel for preprocess-kgptalkie: filename=preprocess_kgptalkie-0.1.3-py3-none-any.whl size=11754 sha256=f8e5751bf2956735bff7fdbe3e5a4b0770e0fd7eb80cf7f1591623466725adb5\n",
            "  Stored in directory: /tmp/pip-ephem-wheel-cache-fw3jq89b/wheels/0d/b3/29/bfe3deffda68980088d17b81331be6667e837ffb4a071bae82\n",
            "Successfully built preprocess-kgptalkie\n",
            "Installing collected packages: preprocess-kgptalkie\n",
            "Successfully installed preprocess-kgptalkie-0.1.3\n"
          ]
        }
      ]
    },
    {
      "cell_type": "code",
      "metadata": {
        "id": "Ak3Xemq5T0Tr"
      },
      "source": [
        "import preprocess_kgptalkie as ps\n",
        "import re"
      ],
      "execution_count": null,
      "outputs": []
    },
    {
      "cell_type": "code",
      "metadata": {
        "id": "Vlw4lyrXT3E1"
      },
      "source": [
        "def get_clean(x):\n",
        "    x = str(x).lower().replace('\\\\', '').replace('_', ' ')\n",
        "    x = ps.cont_exp(x)\n",
        "    x = ps.remove_emails(x)\n",
        "    x = ps.remove_urls(x)\n",
        "    x = ps.remove_html_tags(x)\n",
        "    x = ps.remove_accented_chars(x)\n",
        "    x = ps.remove_special_chars(x)\n",
        "    x = re.sub(\"(.)\\\\1{2,}\", \"\\\\1\", x)\n",
        "    return x"
      ],
      "execution_count": null,
      "outputs": []
    },
    {
      "cell_type": "code",
      "metadata": {
        "id": "hYTf9LzeT5V0"
      },
      "source": [
        "dataset['review'] = dataset['review'].apply(lambda x: get_clean(x))"
      ],
      "execution_count": null,
      "outputs": []
    },
    {
      "cell_type": "code",
      "source": [
        "dataset['review']"
      ],
      "metadata": {
        "id": "h0VxPmxBhQDb",
        "colab": {
          "base_uri": "https://localhost:8080/"
        },
        "outputId": "8a001a23-2101-4cbb-82c3-e37c869f8821"
      },
      "execution_count": null,
      "outputs": [
        {
          "output_type": "execute_result",
          "data": {
            "text/plain": [
              "0         it has no side effect i take it in combination...\n",
              "1         my son is halfway through his fourth week of i...\n",
              "2         i used to take another oral contraceptive whic...\n",
              "3         this is my first time using any form of birth ...\n",
              "4         suboxone has completely turned my life around ...\n",
              "                                ...                        \n",
              "161292    i wrote my first report in midoctober of 2014 ...\n",
              "161293    i was given this in iv before surgey i immedia...\n",
              "161294    limited improvement after 4 months developed b...\n",
              "161295    ive been on thyroid medication 49 years i spen...\n",
              "161296    ive had chronic constipation all my adult life...\n",
              "Name: review, Length: 161297, dtype: object"
            ]
          },
          "metadata": {},
          "execution_count": 8
        }
      ]
    },
    {
      "cell_type": "code",
      "metadata": {
        "id": "Y_03zVOmT7wo"
      },
      "source": [
        "from sklearn.feature_extraction.text import TfidfVectorizer"
      ],
      "execution_count": null,
      "outputs": []
    },
    {
      "cell_type": "code",
      "metadata": {
        "id": "twDPuEVxT_bz"
      },
      "source": [
        "tfidf = TfidfVectorizer(max_features=40000, ngram_range=(1,5),stop_words='english' , analyzer='word')"
      ],
      "execution_count": null,
      "outputs": []
    },
    {
      "cell_type": "code",
      "source": [
        "dataset['Sentiment'].value_counts()"
      ],
      "metadata": {
        "colab": {
          "base_uri": "https://localhost:8080/"
        },
        "id": "ge3BkfdgkfHR",
        "outputId": "661ad210-e37d-4132-ca62-ea1ddda03532"
      },
      "execution_count": null,
      "outputs": [
        {
          "output_type": "execute_result",
          "data": {
            "text/plain": [
              "Positive    97410\n",
              "Negative    35063\n",
              "Neutral     28824\n",
              "Name: Sentiment, dtype: int64"
            ]
          },
          "metadata": {},
          "execution_count": 20
        }
      ]
    },
    {
      "cell_type": "code",
      "metadata": {
        "id": "3vZg15oJUCYZ"
      },
      "source": [
        "X = tfidf.fit_transform(dataset['review'])\n",
        "Y = dataset['Sentiment']"
      ],
      "execution_count": null,
      "outputs": []
    },
    {
      "cell_type": "code",
      "source": [
        "X"
      ],
      "metadata": {
        "id": "KEpvqHbI67Kj",
        "colab": {
          "base_uri": "https://localhost:8080/"
        },
        "outputId": "e1ea95d3-060f-41d0-8364-ff92e6c55c60"
      },
      "execution_count": null,
      "outputs": [
        {
          "output_type": "execute_result",
          "data": {
            "text/plain": [
              "<161297x40000 sparse matrix of type '<class 'numpy.float64'>'\n",
              "\twith 19126223 stored elements in Compressed Sparse Row format>"
            ]
          },
          "metadata": {},
          "execution_count": 12
        }
      ]
    },
    {
      "cell_type": "code",
      "source": [
        "Y"
      ],
      "metadata": {
        "id": "zXeK08Pa7A1l",
        "colab": {
          "base_uri": "https://localhost:8080/"
        },
        "outputId": "d718cf3d-0144-4624-b145-c4ba9a4b8c6b"
      },
      "execution_count": null,
      "outputs": [
        {
          "output_type": "execute_result",
          "data": {
            "text/plain": [
              "0         Positive\n",
              "1         Positive\n",
              "2          Neutral\n",
              "3         Positive\n",
              "4         Positive\n",
              "            ...   \n",
              "161292    Positive\n",
              "161293    Negative\n",
              "161294    Negative\n",
              "161295    Positive\n",
              "161296    Positive\n",
              "Name: Sentiment, Length: 161297, dtype: object"
            ]
          },
          "metadata": {},
          "execution_count": 13
        }
      ]
    },
    {
      "cell_type": "code",
      "metadata": {
        "id": "NEyhpf6ZUEFW"
      },
      "source": [
        "from sklearn.model_selection import train_test_split\n",
        "X_train, X_test, Y_train, Y_test = train_test_split(X, Y, test_size = 0.2, random_state = 42)"
      ],
      "execution_count": null,
      "outputs": []
    },
    {
      "cell_type": "code",
      "source": [
        "Y_test.value_counts()"
      ],
      "metadata": {
        "colab": {
          "base_uri": "https://localhost:8080/"
        },
        "id": "eZEzhj-5k2cB",
        "outputId": "fb938881-009d-4ee7-f6cd-61905f018733"
      },
      "execution_count": null,
      "outputs": [
        {
          "output_type": "execute_result",
          "data": {
            "text/plain": [
              "Positive    19400\n",
              "Negative     6991\n",
              "Neutral      5869\n",
              "Name: Sentiment, dtype: int64"
            ]
          },
          "metadata": {},
          "execution_count": 22
        }
      ]
    },
    {
      "cell_type": "code",
      "metadata": {
        "id": "DTrKNTD2UEh-",
        "colab": {
          "base_uri": "https://localhost:8080/"
        },
        "outputId": "8b6c678b-6a94-47f0-aabb-ccf2ca906301"
      },
      "source": [
        "from sklearn.neural_network import MLPClassifier\n",
        "from sklearn.metrics import accuracy_score\n",
        "nnc = MLPClassifier(hidden_layer_sizes=(9),activation=\"relu\",max_iter=1000)\n",
        "nnc.fit(X_train, Y_train)\n",
        "nnc_predictions =nnc.predict(X_test)\n",
        "nnc_acc=accuracy_score(Y_test, nnc_predictions)\n",
        "print(nnc_acc)"
      ],
      "execution_count": null,
      "outputs": [
        {
          "output_type": "stream",
          "name": "stdout",
          "text": [
            "0.8387786732796032\n"
          ]
        }
      ]
    },
    {
      "cell_type": "code",
      "metadata": {
        "id": "Cg41glzwUN2R",
        "colab": {
          "base_uri": "https://localhost:8080/"
        },
        "outputId": "16da3f0f-606e-411e-b653-f1d708a68179"
      },
      "source": [
        "from sklearn.metrics import classification_report\n",
        "print(classification_report(Y_test, nnc_predictions))"
      ],
      "execution_count": null,
      "outputs": [
        {
          "output_type": "stream",
          "name": "stdout",
          "text": [
            "              precision    recall  f1-score   support\n",
            "\n",
            "    Negative       0.81      0.81      0.81      6991\n",
            "     Neutral       0.66      0.66      0.66      5869\n",
            "    Positive       0.90      0.91      0.90     19400\n",
            "\n",
            "    accuracy                           0.84     32260\n",
            "   macro avg       0.79      0.79      0.79     32260\n",
            "weighted avg       0.84      0.84      0.84     32260\n",
            "\n"
          ]
        }
      ]
    },
    {
      "cell_type": "code",
      "metadata": {
        "id": "am5NaH5JUQlz",
        "colab": {
          "base_uri": "https://localhost:8080/",
          "height": 700
        },
        "outputId": "5d09c2fb-f41d-47eb-8779-8c30e8923320"
      },
      "source": [
        "from sklearn.metrics import confusion_matrix\n",
        "import seaborn as sns\n",
        "from sklearn.metrics import classification_report\n",
        "Ypred = nnc_predictions\n",
        "label=['Positive', 'Neutral','Negative']\n",
        "Ytrue = Y_test\n",
        "cm = confusion_matrix(Ytrue, Ypred)\n",
        "plt.figure(figsize=(12, 12))\n",
        "plt.title(\"Confusion Matrix for Neural Network\")\n",
        "ax = sns.heatmap(cm, cmap=\"rocket_r\", fmt=\".01f\",annot_kws={'size':16}, annot=True, square=True, xticklabels=label, yticklabels=label)\n",
        "ax.set_ylabel('Actual', fontsize=20)\n",
        "ax.set_xlabel('Predicted', fontsize=20)"
      ],
      "execution_count": null,
      "outputs": [
        {
          "output_type": "execute_result",
          "data": {
            "text/plain": [
              "Text(0.5, 145.31999999999996, 'Predicted')"
            ]
          },
          "metadata": {},
          "execution_count": 17
        },
        {
          "output_type": "display_data",
          "data": {
            "image/png": "[encoded data removed]",
            "text/plain": [
              "<Figure size 864x864 with 2 Axes>"
            ]
          },
          "metadata": {
            "needs_background": "light"
          }
        }
      ]
    }
  ]
}