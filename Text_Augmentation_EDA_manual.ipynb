{
  "cells": [
    {
      "cell_type": "code",
      "source": [
        "#https://github.com/jasonwei20/eda_nlp "
      ],
      "metadata": {
        "id": "OAYgSweBnqpJ"
      },
      "execution_count": null,
      "outputs": []
    },
    {
      "cell_type": "code",
      "execution_count": null,
      "metadata": {
        "id": "ZKZLi3C9DCD5"
      },
      "outputs": [],
      "source": [
        "import numpy as np\n",
        "import pandas as pd\n",
        "import nltk\n",
        "import matplotlib.pyplot as plt\n",
        "import seaborn as sns"
      ]
    },
    {
      "cell_type": "code",
      "execution_count": null,
      "metadata": {
        "id": "4oOrnf7QDfc6"
      },
      "outputs": [],
      "source": [
        "data = pd.read_csv('/content/drive/MyDrive/Sentiment analysis/new_test_02.csv', encoding= 'unicode_escape')"
      ]
    },
    {
      "cell_type": "code",
      "execution_count": null,
      "metadata": {
        "colab": {
          "base_uri": "https://localhost:8080/"
        },
        "id": "juetwWnsDi5W",
        "outputId": "1492f6de-7ac1-4a53-8ed2-017aff3c3add"
      },
      "outputs": [
        {
          "output_type": "stream",
          "name": "stdout",
          "text": [
            "<class 'pandas.core.frame.DataFrame'>\n",
            "RangeIndex: 60 entries, 0 to 59\n",
            "Data columns (total 8 columns):\n",
            " #   Column       Non-Null Count  Dtype \n",
            "---  ------       --------------  ----- \n",
            " 0   ï»¿uniqueID  60 non-null     int64 \n",
            " 1   drugName     60 non-null     object\n",
            " 2   condition    60 non-null     object\n",
            " 3   review       60 non-null     object\n",
            " 4   rating       60 non-null     int64 \n",
            " 5   date         60 non-null     object\n",
            " 6   usefulCount  60 non-null     int64 \n",
            " 7   Sentiment    60 non-null     object\n",
            "dtypes: int64(3), object(5)\n",
            "memory usage: 3.9+ KB\n"
          ]
        }
      ],
      "source": [
        "data.info()"
      ]
    },
    {
      "cell_type": "code",
      "execution_count": null,
      "metadata": {
        "colab": {
          "base_uri": "https://localhost:8080/"
        },
        "id": "foRbVKkqDj4a",
        "outputId": "bd2b46ff-731f-42dd-ede8-e9a4bc3c0d5a"
      },
      "outputs": [
        {
          "output_type": "execute_result",
          "data": {
            "text/plain": [
              "Neutral     21\n",
              "Positive    20\n",
              "Negative    19\n",
              "Name: Sentiment, dtype: int64"
            ]
          },
          "metadata": {},
          "execution_count": 150
        }
      ],
      "source": [
        "data[\"Sentiment\"].value_counts()"
      ]
    },
    {
      "cell_type": "code",
      "execution_count": null,
      "metadata": {
        "colab": {
          "base_uri": "https://localhost:8080/",
          "height": 206
        },
        "id": "eqkBVWCUEkML",
        "outputId": "25fd93bd-a362-494f-80cd-160066d8ad33"
      },
      "outputs": [
        {
          "output_type": "execute_result",
          "data": {
            "text/plain": [
              "   ï»¿uniqueID      drugName                condition  \\\n",
              "0        92703        Lybrel            Birth Control   \n",
              "1        51215  Azithromycin      Chlamydia Infection   \n",
              "2       132258        Ativan            Panic Disorde   \n",
              "3       221934   Fluconazole  Vaginal Yeast Infection   \n",
              "4       121333   Venlafaxine               Depression   \n",
              "\n",
              "                                              review  rating       date  \\\n",
              "0  \"I used to take another oral contraceptive, wh...       5  14-Dec-09   \n",
              "1  \"Was prescribed one dose over the course of on...       7  14-Dec-15   \n",
              "2  \"Honestly, I have been taking ativan for 2 yea...       6   1-Jun-15   \n",
              "3  \"I am very prone to yeast infections, I believ...       8  24-Apr-17   \n",
              "4  \"my gp started me on Venlafaxine yesterday to ...       4  27-Apr-16   \n",
              "\n",
              "   usefulCount Sentiment  \n",
              "0           17   Neutral  \n",
              "1            7   Neutral  \n",
              "2           47   Neutral  \n",
              "3            9  Positive  \n",
              "4            3   Neutral  "
            ],
            "text/html": [
              "\n",
              "  <div id=\"df-df5c85c5-fd84-4829-95cd-ab07c69d8de8\">\n",
              "    <div class=\"colab-df-container\">\n",
              "      <div>\n",
              "<style scoped>\n",
              "    .dataframe tbody tr th:only-of-type {\n",
              "        vertical-align: middle;\n",
              "    }\n",
              "\n",
              "    .dataframe tbody tr th {\n",
              "        vertical-align: top;\n",
              "    }\n",
              "\n",
              "    .dataframe thead th {\n",
              "        text-align: right;\n",
              "    }\n",
              "</style>\n",
              "<table border=\"1\" class=\"dataframe\">\n",
              "  <thead>\n",
              "    <tr style=\"text-align: right;\">\n",
              "      <th></th>\n",
              "      <th>ï»¿uniqueID</th>\n",
              "      <th>drugName</th>\n",
              "      <th>condition</th>\n",
              "      <th>review</th>\n",
              "      <th>rating</th>\n",
              "      <th>date</th>\n",
              "      <th>usefulCount</th>\n",
              "      <th>Sentiment</th>\n",
              "    </tr>\n",
              "  </thead>\n",
              "  <tbody>\n",
              "    <tr>\n",
              "      <th>0</th>\n",
              "      <td>92703</td>\n",
              "      <td>Lybrel</td>\n",
              "      <td>Birth Control</td>\n",
              "      <td>\"I used to take another oral contraceptive, wh...</td>\n",
              "      <td>5</td>\n",
              "      <td>14-Dec-09</td>\n",
              "      <td>17</td>\n",
              "      <td>Neutral</td>\n",
              "    </tr>\n",
              "    <tr>\n",
              "      <th>1</th>\n",
              "      <td>51215</td>\n",
              "      <td>Azithromycin</td>\n",
              "      <td>Chlamydia Infection</td>\n",
              "      <td>\"Was prescribed one dose over the course of on...</td>\n",
              "      <td>7</td>\n",
              "      <td>14-Dec-15</td>\n",
              "      <td>7</td>\n",
              "      <td>Neutral</td>\n",
              "    </tr>\n",
              "    <tr>\n",
              "      <th>2</th>\n",
              "      <td>132258</td>\n",
              "      <td>Ativan</td>\n",
              "      <td>Panic Disorde</td>\n",
              "      <td>\"Honestly, I have been taking ativan for 2 yea...</td>\n",
              "      <td>6</td>\n",
              "      <td>1-Jun-15</td>\n",
              "      <td>47</td>\n",
              "      <td>Neutral</td>\n",
              "    </tr>\n",
              "    <tr>\n",
              "      <th>3</th>\n",
              "      <td>221934</td>\n",
              "      <td>Fluconazole</td>\n",
              "      <td>Vaginal Yeast Infection</td>\n",
              "      <td>\"I am very prone to yeast infections, I believ...</td>\n",
              "      <td>8</td>\n",
              "      <td>24-Apr-17</td>\n",
              "      <td>9</td>\n",
              "      <td>Positive</td>\n",
              "    </tr>\n",
              "    <tr>\n",
              "      <th>4</th>\n",
              "      <td>121333</td>\n",
              "      <td>Venlafaxine</td>\n",
              "      <td>Depression</td>\n",
              "      <td>\"my gp started me on Venlafaxine yesterday to ...</td>\n",
              "      <td>4</td>\n",
              "      <td>27-Apr-16</td>\n",
              "      <td>3</td>\n",
              "      <td>Neutral</td>\n",
              "    </tr>\n",
              "  </tbody>\n",
              "</table>\n",
              "</div>\n",
              "      <button class=\"colab-df-convert\" onclick=\"convertToInteractive('df-df5c85c5-fd84-4829-95cd-ab07c69d8de8')\"\n",
              "              title=\"Convert this dataframe to an interactive table.\"\n",
              "              style=\"display:none;\">\n",
              "        \n",
              "  <svg xmlns=\"http://www.w3.org/2000/svg\" height=\"24px\"viewBox=\"0 0 24 24\"\n",
              "       width=\"24px\">\n",
              "    <path d=\"M0 0h24v24H0V0z\" fill=\"none\"/>\n",
              "    <path d=\"M18.56 5.44l.94 2.06.94-2.06 2.06-.94-2.06-.94-.94-2.06-.94 2.06-2.06.94zm-11 1L8.5 8.5l.94-2.06 2.06-.94-2.06-.94L8.5 2.5l-.94 2.06-2.06.94zm10 10l.94 2.06.94-2.06 2.06-.94-2.06-.94-.94-2.06-.94 2.06-2.06.94z\"/><path d=\"M17.41 7.96l-1.37-1.37c-.4-.4-.92-.59-1.43-.59-.52 0-1.04.2-1.43.59L10.3 9.45l-7.72 7.72c-.78.78-.78 2.05 0 2.83L4 21.41c.39.39.9.59 1.41.59.51 0 1.02-.2 1.41-.59l7.78-7.78 2.81-2.81c.8-.78.8-2.07 0-2.86zM5.41 20L4 18.59l7.72-7.72 1.47 1.35L5.41 20z\"/>\n",
              "  </svg>\n",
              "      </button>\n",
              "      \n",
              "  <style>\n",
              "    .colab-df-container {\n",
              "      display:flex;\n",
              "      flex-wrap:wrap;\n",
              "      gap: 12px;\n",
              "    }\n",
              "\n",
              "    .colab-df-convert {\n",
              "      background-color: #E8F0FE;\n",
              "      border: none;\n",
              "      border-radius: 50%;\n",
              "      cursor: pointer;\n",
              "      display: none;\n",
              "      fill: #1967D2;\n",
              "      height: 32px;\n",
              "      padding: 0 0 0 0;\n",
              "      width: 32px;\n",
              "    }\n",
              "\n",
              "    .colab-df-convert:hover {\n",
              "      background-color: #E2EBFA;\n",
              "      box-shadow: 0px 1px 2px rgba(60, 64, 67, 0.3), 0px 1px 3px 1px rgba(60, 64, 67, 0.15);\n",
              "      fill: #174EA6;\n",
              "    }\n",
              "\n",
              "    [theme=dark] .colab-df-convert {\n",
              "      background-color: #3B4455;\n",
              "      fill: #D2E3FC;\n",
              "    }\n",
              "\n",
              "    [theme=dark] .colab-df-convert:hover {\n",
              "      background-color: #434B5C;\n",
              "      box-shadow: 0px 1px 3px 1px rgba(0, 0, 0, 0.15);\n",
              "      filter: drop-shadow(0px 1px 2px rgba(0, 0, 0, 0.3));\n",
              "      fill: #FFFFFF;\n",
              "    }\n",
              "  </style>\n",
              "\n",
              "      <script>\n",
              "        const buttonEl =\n",
              "          document.querySelector('#df-df5c85c5-fd84-4829-95cd-ab07c69d8de8 button.colab-df-convert');\n",
              "        buttonEl.style.display =\n",
              "          google.colab.kernel.accessAllowed ? 'block' : 'none';\n",
              "\n",
              "        async function convertToInteractive(key) {\n",
              "          const element = document.querySelector('#df-df5c85c5-fd84-4829-95cd-ab07c69d8de8');\n",
              "          const dataTable =\n",
              "            await google.colab.kernel.invokeFunction('convertToInteractive',\n",
              "                                                     [key], {});\n",
              "          if (!dataTable) return;\n",
              "\n",
              "          const docLinkHtml = 'Like what you see? Visit the ' +\n",
              "            '<a target=\"_blank\" href=https://colab.research.google.com/notebooks/data_table.ipynb>data table notebook</a>'\n",
              "            + ' to learn more about interactive tables.';\n",
              "          element.innerHTML = '';\n",
              "          dataTable['output_type'] = 'display_data';\n",
              "          await google.colab.output.renderOutput(dataTable, element);\n",
              "          const docLink = document.createElement('div');\n",
              "          docLink.innerHTML = docLinkHtml;\n",
              "          element.appendChild(docLink);\n",
              "        }\n",
              "      </script>\n",
              "    </div>\n",
              "  </div>\n",
              "  "
            ]
          },
          "metadata": {},
          "execution_count": 151
        }
      ],
      "source": [
        "data.head()"
      ]
    },
    {
      "cell_type": "code",
      "execution_count": null,
      "metadata": {
        "colab": {
          "base_uri": "https://localhost:8080/"
        },
        "id": "dmbcBBt0DoVZ",
        "outputId": "3a69468b-bf61-4ac9-fda2-94691e0827d4"
      },
      "outputs": [
        {
          "output_type": "stream",
          "name": "stdout",
          "text": [
            "Looking in indexes: https://pypi.org/simple, https://us-python.pkg.dev/colab-wheels/public/simple/\n",
            "Requirement already satisfied: textattack in /usr/local/lib/python3.7/dist-packages (0.3.7)\n",
            "Requirement already satisfied: scipy>=1.4.1 in /usr/local/lib/python3.7/dist-packages (from textattack) (1.7.3)\n",
            "Requirement already satisfied: more-itertools in /usr/local/lib/python3.7/dist-packages (from textattack) (8.14.0)\n",
            "Requirement already satisfied: nltk in /usr/local/lib/python3.7/dist-packages (from textattack) (3.7)\n",
            "Requirement already satisfied: word2number in /usr/local/lib/python3.7/dist-packages (from textattack) (1.1)\n",
            "Requirement already satisfied: lru-dict in /usr/local/lib/python3.7/dist-packages (from textattack) (1.1.8)\n",
            "Requirement already satisfied: transformers>=4.21.0 in /usr/local/lib/python3.7/dist-packages (from textattack) (4.21.2)\n",
            "Requirement already satisfied: filelock in /usr/local/lib/python3.7/dist-packages (from textattack) (3.8.0)\n",
            "Requirement already satisfied: jieba in /usr/local/lib/python3.7/dist-packages (from textattack) (0.42.1)\n",
            "Requirement already satisfied: editdistance in /usr/local/lib/python3.7/dist-packages (from textattack) (0.5.3)\n",
            "Requirement already satisfied: torch!=1.8,>=1.7.0 in /usr/local/lib/python3.7/dist-packages (from textattack) (1.12.1+cu113)\n",
            "Requirement already satisfied: terminaltables in /usr/local/lib/python3.7/dist-packages (from textattack) (3.1.10)\n",
            "Requirement already satisfied: language-tool-python in /usr/local/lib/python3.7/dist-packages (from textattack) (2.7.1)\n",
            "Requirement already satisfied: click<8.1.0 in /usr/local/lib/python3.7/dist-packages (from textattack) (7.1.2)\n",
            "Requirement already satisfied: pandas>=1.0.1 in /usr/local/lib/python3.7/dist-packages (from textattack) (1.3.5)\n",
            "Requirement already satisfied: datasets==2.4.0 in /usr/local/lib/python3.7/dist-packages (from textattack) (2.4.0)\n",
            "Requirement already satisfied: flair in /usr/local/lib/python3.7/dist-packages (from textattack) (0.11.3)\n",
            "Requirement already satisfied: OpenHowNet in /usr/local/lib/python3.7/dist-packages (from textattack) (2.0)\n",
            "Requirement already satisfied: lemminflect in /usr/local/lib/python3.7/dist-packages (from textattack) (0.2.2)\n",
            "Requirement already satisfied: PySocks!=1.5.7,>=1.5.6 in /usr/local/lib/python3.7/dist-packages (from textattack) (1.7.1)\n",
            "Requirement already satisfied: pycld2 in /usr/local/lib/python3.7/dist-packages (from textattack) (0.41)\n",
            "Requirement already satisfied: numpy>=1.21.0 in /usr/local/lib/python3.7/dist-packages (from textattack) (1.21.6)\n",
            "Requirement already satisfied: tqdm in /usr/local/lib/python3.7/dist-packages (from textattack) (4.64.0)\n",
            "Requirement already satisfied: bert-score>=0.3.5 in /usr/local/lib/python3.7/dist-packages (from textattack) (0.3.11)\n",
            "Requirement already satisfied: pinyin==0.4.0 in /usr/local/lib/python3.7/dist-packages (from textattack) (0.4.0)\n",
            "Requirement already satisfied: num2words in /usr/local/lib/python3.7/dist-packages (from textattack) (0.5.12)\n",
            "Requirement already satisfied: xxhash in /usr/local/lib/python3.7/dist-packages (from datasets==2.4.0->textattack) (3.0.0)\n",
            "Requirement already satisfied: huggingface-hub<1.0.0,>=0.1.0 in /usr/local/lib/python3.7/dist-packages (from datasets==2.4.0->textattack) (0.9.1)\n",
            "Requirement already satisfied: pyarrow>=6.0.0 in /usr/local/lib/python3.7/dist-packages (from datasets==2.4.0->textattack) (6.0.1)\n",
            "Requirement already satisfied: packaging in /usr/local/lib/python3.7/dist-packages (from datasets==2.4.0->textattack) (21.3)\n",
            "Requirement already satisfied: dill<0.3.6 in /usr/local/lib/python3.7/dist-packages (from datasets==2.4.0->textattack) (0.3.5.1)\n",
            "Requirement already satisfied: requests>=2.19.0 in /usr/local/lib/python3.7/dist-packages (from datasets==2.4.0->textattack) (2.28.1)\n",
            "Requirement already satisfied: multiprocess in /usr/local/lib/python3.7/dist-packages (from datasets==2.4.0->textattack) (0.70.13)\n",
            "Requirement already satisfied: aiohttp in /usr/local/lib/python3.7/dist-packages (from datasets==2.4.0->textattack) (3.8.1)\n",
            "Requirement already satisfied: fsspec[http]>=2021.11.1 in /usr/local/lib/python3.7/dist-packages (from datasets==2.4.0->textattack) (2022.7.1)\n",
            "Requirement already satisfied: responses<0.19 in /usr/local/lib/python3.7/dist-packages (from datasets==2.4.0->textattack) (0.18.0)\n",
            "Requirement already satisfied: importlib-metadata in /usr/local/lib/python3.7/dist-packages (from datasets==2.4.0->textattack) (3.10.1)\n",
            "Requirement already satisfied: matplotlib in /usr/local/lib/python3.7/dist-packages (from bert-score>=0.3.5->textattack) (3.2.2)\n",
            "Requirement already satisfied: typing-extensions>=3.7.4.3 in /usr/local/lib/python3.7/dist-packages (from huggingface-hub<1.0.0,>=0.1.0->datasets==2.4.0->textattack) (4.1.1)\n",
            "Requirement already satisfied: pyyaml>=5.1 in /usr/local/lib/python3.7/dist-packages (from huggingface-hub<1.0.0,>=0.1.0->datasets==2.4.0->textattack) (6.0)\n",
            "Requirement already satisfied: pyparsing!=3.0.5,>=2.0.2 in /usr/local/lib/python3.7/dist-packages (from packaging->datasets==2.4.0->textattack) (3.0.9)\n",
            "Requirement already satisfied: pytz>=2017.3 in /usr/local/lib/python3.7/dist-packages (from pandas>=1.0.1->textattack) (2022.2.1)\n",
            "Requirement already satisfied: python-dateutil>=2.7.3 in /usr/local/lib/python3.7/dist-packages (from pandas>=1.0.1->textattack) (2.8.2)\n",
            "Requirement already satisfied: six>=1.5 in /usr/local/lib/python3.7/dist-packages (from python-dateutil>=2.7.3->pandas>=1.0.1->textattack) (1.15.0)\n",
            "Requirement already satisfied: idna<4,>=2.5 in /usr/local/lib/python3.7/dist-packages (from requests>=2.19.0->datasets==2.4.0->textattack) (2.10)\n",
            "Requirement already satisfied: urllib3<1.27,>=1.21.1 in /usr/local/lib/python3.7/dist-packages (from requests>=2.19.0->datasets==2.4.0->textattack) (1.25.11)\n",
            "Requirement already satisfied: charset-normalizer<3,>=2 in /usr/local/lib/python3.7/dist-packages (from requests>=2.19.0->datasets==2.4.0->textattack) (2.1.0)\n",
            "Requirement already satisfied: certifi>=2017.4.17 in /usr/local/lib/python3.7/dist-packages (from requests>=2.19.0->datasets==2.4.0->textattack) (2022.6.15)\n",
            "Requirement already satisfied: regex!=2019.12.17 in /usr/local/lib/python3.7/dist-packages (from transformers>=4.21.0->textattack) (2022.6.2)\n",
            "Requirement already satisfied: tokenizers!=0.11.3,<0.13,>=0.11.1 in /usr/local/lib/python3.7/dist-packages (from transformers>=4.21.0->textattack) (0.12.1)\n",
            "Requirement already satisfied: multidict<7.0,>=4.5 in /usr/local/lib/python3.7/dist-packages (from aiohttp->datasets==2.4.0->textattack) (6.0.2)\n",
            "Requirement already satisfied: frozenlist>=1.1.1 in /usr/local/lib/python3.7/dist-packages (from aiohttp->datasets==2.4.0->textattack) (1.3.1)\n",
            "Requirement already satisfied: yarl<2.0,>=1.0 in /usr/local/lib/python3.7/dist-packages (from aiohttp->datasets==2.4.0->textattack) (1.8.1)\n",
            "Requirement already satisfied: attrs>=17.3.0 in /usr/local/lib/python3.7/dist-packages (from aiohttp->datasets==2.4.0->textattack) (22.1.0)\n",
            "Requirement already satisfied: async-timeout<5.0,>=4.0.0a3 in /usr/local/lib/python3.7/dist-packages (from aiohttp->datasets==2.4.0->textattack) (4.0.2)\n",
            "Requirement already satisfied: aiosignal>=1.1.2 in /usr/local/lib/python3.7/dist-packages (from aiohttp->datasets==2.4.0->textattack) (1.2.0)\n",
            "Requirement already satisfied: asynctest==0.13.0 in /usr/local/lib/python3.7/dist-packages (from aiohttp->datasets==2.4.0->textattack) (0.13.0)\n",
            "Requirement already satisfied: hyperopt>=0.2.7 in /usr/local/lib/python3.7/dist-packages (from flair->textattack) (0.2.7)\n",
            "Requirement already satisfied: tabulate in /usr/local/lib/python3.7/dist-packages (from flair->textattack) (0.8.10)\n",
            "Requirement already satisfied: lxml in /usr/local/lib/python3.7/dist-packages (from flair->textattack) (4.9.1)\n",
            "Requirement already satisfied: conllu>=4.0 in /usr/local/lib/python3.7/dist-packages (from flair->textattack) (4.5.2)\n",
            "Requirement already satisfied: wikipedia-api in /usr/local/lib/python3.7/dist-packages (from flair->textattack) (0.5.4)\n",
            "Requirement already satisfied: pptree in /usr/local/lib/python3.7/dist-packages (from flair->textattack) (3.1)\n",
            "Requirement already satisfied: langdetect in /usr/local/lib/python3.7/dist-packages (from flair->textattack) (1.0.9)\n",
            "Requirement already satisfied: gdown==4.4.0 in /usr/local/lib/python3.7/dist-packages (from flair->textattack) (4.4.0)\n",
            "Requirement already satisfied: scikit-learn>=0.21.3 in /usr/local/lib/python3.7/dist-packages (from flair->textattack) (1.0.2)\n",
            "Requirement already satisfied: sqlitedict>=1.6.0 in /usr/local/lib/python3.7/dist-packages (from flair->textattack) (2.0.0)\n",
            "Requirement already satisfied: sentencepiece==0.1.95 in /usr/local/lib/python3.7/dist-packages (from flair->textattack) (0.1.95)\n",
            "Requirement already satisfied: segtok>=1.5.7 in /usr/local/lib/python3.7/dist-packages (from flair->textattack) (1.5.11)\n",
            "Requirement already satisfied: ftfy in /usr/local/lib/python3.7/dist-packages (from flair->textattack) (6.1.1)\n",
            "Requirement already satisfied: janome in /usr/local/lib/python3.7/dist-packages (from flair->textattack) (0.4.2)\n",
            "Requirement already satisfied: bpemb>=0.3.2 in /usr/local/lib/python3.7/dist-packages (from flair->textattack) (0.3.3)\n",
            "Requirement already satisfied: mpld3==0.3 in /usr/local/lib/python3.7/dist-packages (from flair->textattack) (0.3)\n",
            "Requirement already satisfied: gensim>=3.4.0 in /usr/local/lib/python3.7/dist-packages (from flair->textattack) (3.6.0)\n",
            "Requirement already satisfied: deprecated>=1.2.4 in /usr/local/lib/python3.7/dist-packages (from flair->textattack) (1.2.13)\n",
            "Requirement already satisfied: konoha<5.0.0,>=4.0.0 in /usr/local/lib/python3.7/dist-packages (from flair->textattack) (4.6.5)\n",
            "Requirement already satisfied: beautifulsoup4 in /usr/local/lib/python3.7/dist-packages (from gdown==4.4.0->flair->textattack) (4.6.3)\n",
            "Requirement already satisfied: wrapt<2,>=1.10 in /usr/local/lib/python3.7/dist-packages (from deprecated>=1.2.4->flair->textattack) (1.14.1)\n",
            "Requirement already satisfied: smart-open>=1.2.1 in /usr/local/lib/python3.7/dist-packages (from gensim>=3.4.0->flair->textattack) (5.2.1)\n",
            "Requirement already satisfied: networkx>=2.2 in /usr/local/lib/python3.7/dist-packages (from hyperopt>=0.2.7->flair->textattack) (2.6.3)\n",
            "Requirement already satisfied: future in /usr/local/lib/python3.7/dist-packages (from hyperopt>=0.2.7->flair->textattack) (0.16.0)\n",
            "Requirement already satisfied: cloudpickle in /usr/local/lib/python3.7/dist-packages (from hyperopt>=0.2.7->flair->textattack) (1.5.0)\n",
            "Requirement already satisfied: py4j in /usr/local/lib/python3.7/dist-packages (from hyperopt>=0.2.7->flair->textattack) (0.10.9.7)\n",
            "Requirement already satisfied: overrides<4.0.0,>=3.0.0 in /usr/local/lib/python3.7/dist-packages (from konoha<5.0.0,>=4.0.0->flair->textattack) (3.1.0)\n",
            "Requirement already satisfied: zipp>=0.5 in /usr/local/lib/python3.7/dist-packages (from importlib-metadata->datasets==2.4.0->textattack) (3.8.1)\n",
            "Requirement already satisfied: cycler>=0.10 in /usr/local/lib/python3.7/dist-packages (from matplotlib->bert-score>=0.3.5->textattack) (0.11.0)\n",
            "Requirement already satisfied: kiwisolver>=1.0.1 in /usr/local/lib/python3.7/dist-packages (from matplotlib->bert-score>=0.3.5->textattack) (1.4.4)\n",
            "Requirement already satisfied: joblib>=0.11 in /usr/local/lib/python3.7/dist-packages (from scikit-learn>=0.21.3->flair->textattack) (1.1.0)\n",
            "Requirement already satisfied: threadpoolctl>=2.0.0 in /usr/local/lib/python3.7/dist-packages (from scikit-learn>=0.21.3->flair->textattack) (3.1.0)\n",
            "Requirement already satisfied: wcwidth>=0.2.5 in /usr/local/lib/python3.7/dist-packages (from ftfy->flair->textattack) (0.2.5)\n",
            "Requirement already satisfied: docopt>=0.6.2 in /usr/local/lib/python3.7/dist-packages (from num2words->textattack) (0.6.2)\n",
            "Requirement already satisfied: setuptools in /usr/local/lib/python3.7/dist-packages (from OpenHowNet->textattack) (57.4.0)\n",
            "Requirement already satisfied: anytree in /usr/local/lib/python3.7/dist-packages (from OpenHowNet->textattack) (2.8.0)\n"
          ]
        }
      ],
      "source": [
        "!pip install textattack"
      ]
    },
    {
      "cell_type": "code",
      "source": [
        "text = data[\"review\"].iloc[0]"
      ],
      "metadata": {
        "id": "5EJZ4jOxCmpP"
      },
      "execution_count": null,
      "outputs": []
    },
    {
      "cell_type": "code",
      "source": [
        "from textattack.augmentation import EasyDataAugmenter\n",
        "eda_aug = EasyDataAugmenter()"
      ],
      "metadata": {
        "colab": {
          "base_uri": "https://localhost:8080/"
        },
        "id": "Io_UVx5bGz4N",
        "outputId": "51987bfa-7cce-4b3d-cfe7-2764cffdf092"
      },
      "execution_count": null,
      "outputs": [
        {
          "output_type": "stream",
          "name": "stderr",
          "text": [
            "[nltk_data] Downloading package omw-1.4 to /root/nltk_data...\n",
            "[nltk_data]   Package omw-1.4 is already up-to-date!\n"
          ]
        }
      ]
    },
    {
      "cell_type": "code",
      "source": [
        "i = 0\n",
        "while i < 5:\n",
        "  text = data[\"review\"].iloc[i] \n",
        "  i=i+1 \n",
        "  print(eda_aug.augment(text))"
      ],
      "metadata": {
        "colab": {
          "base_uri": "https://localhost:8080/"
        },
        "id": "2yDPgM1nGLZy",
        "outputId": "66ad0b13-9407-421a-d56c-bb4287646614"
      },
      "execution_count": null,
      "outputs": [
        {
          "output_type": "stream",
          "name": "stdout",
          "text": [
            "['\"I put-upon to guide another oral contraceptive, which had 21 pill cycle, and was very happy- very promiscuous periods, max 5 days, no other side effects. But it contained hormone gestodene, which is not available in US, so I alternate to Lybrel, because the ingredient are similar. When my other pills ended, I startle Lybrel immediately, on my first day of stop, as the instructions said. And the period lasted for two weeks. When taking the second pack- same two weeks. And now, with third pack things got even worse- my third period lasted for two weeks and now it&#039;s the last of the third week- I tranquillize have daily brown acquit.\\r\\nThe positive slope is that I didn&#039;t have any other side force. The idea of being period rid was so tempting... Alas.\"', '\"I used to take another oral contraceptive, which had pill cycle, and was very happy- very light periods, max days, no other effects. But it contained hormone gestodene, which not available in US, I switched to Lybrel, because the ingredients are similar. When my pills ended, I started Lybrel immediately, on my first day of period, as instructions said. And the period lasted for two weeks. When taking the second pack- same two weeks. And now, with pack things got even worse- my third period lasted two weeks and now it&#;s the end of the third week- I daily brown discharge.\\r\\nThe positive side is that I didn&#039;t have any other side effects. The idea of being period free so tempting... Alas.\"', '\"I used to take another oral contraceptive, which had 21 pill cycle, and was very happy- very light periods, max 5 days, no other side effects. But of contained hormone gestodene, end is not available in US, so I switched to Lybrel, because the ingredients are similar. When my other pills ended, I started Lybrel immediately, on my first day of second, as the instructions said. And the period lasted for week- weeks. When taking the period pack- same two weeks. And now, with third pack things got even worse- my third period lasted for two now and weeks it&#039;s the have of the third two I still which daily brown discharge.\\r\\nThe positive side so that I didn&#039;t have any other side effects. The idea it being period free was is tempting... Alas.\"', '\"I used to take another oral contraceptive, which had 21 pill cycle, and was very happy- very light periods, max 5 wheel days, no other side effects. But it contained hormone gestodene, which is not available in US, so I switched to Lybrel, because the ingredients are similar. When my other pills ended, I started Lybrel immediately, on my first day of period, as the instructions said. And the period lasted for two weeks. When taking the second pack- same two weeks. And now, begin with third pack things got even worse- my third period lasted for two weeks and now it&#039;s the end of the third week- I still start have IT daily brown discharge.\\r\\nThe positive side is week that I didn&#039;t have any other dismission side effects. The idea of being period train free was so tempting... Alas.\"']\n",
            "['\"Was prescribed dose over the course of one, took 4 pills of after a light lunch, and had nausea and mild stomach pains/upset. Lying down did not alleviate the discomfort and threw 3 hours later. Called up my to check if I needed to take another dose but he said my body would have absorbed the by then. Still experiencing mild stomach pains but nausea is gone now.\"', '\"Was prescribed one dose over the course of one day, took 4 pills of 250mg after a light lunch, and had nausea and mild stomach pains/upset. Lying down did not alleviate the discomfort and threw up tab 3 hours later. tablet Called up my doctor to check if I needed to take another dose but he said my body axerophthol would have absorbed the pills by then. Still experiencing mild stomach pains but nausea is mostly worried gone now.\"', '\"Was prescribed one dose over the track of one day, took 4 anovulant of 250mg after a illumine lunch, and had nausea and mild stomach pains/upset. Lying down did not alleviate the discomfort and threw up 3 hours later. Called up my doctor to check if I needed to take another dose but he said my trunk would have absorb the pills by then. placid experiencing balmy stomach pains but nausea is mostly gone now.\"', '\"Was prescribed my up over the course of one day, took 4 pills of 250mg after a light lunch, and had nausea and mild then pains/upset. Lying down and not alleviate the discomfort did threw up 3 hours later. Called dose my doctor to check if I needed to take another dose but he said one body would have absorbed the pills by stomach. Still experiencing mild stomach pains but nausea is mostly gone now.\"']\n",
            "['\"Honestly, I have been select ativan for 2 days now 1mg twice daily.  It does help but it should be used as a tool for panic assault NOT A result.  I have tried so many anti-depressants as well such as cymbalta, cipralex and a couple more.  The beneficial thing is to talk to close friends and household or even a psychiatrist.  talking to people and venting is candidly the scoop thing you can do for yourself even though it lease a lot of will power to do it.  I would love to hear other people opinion.\"', '\"Honestly, I have been taking ativan for 2 years now do twice daily.  people does help but it should so used as a tool for panic attacks NOT A SOLUTION.  I have tried be many as anti-depressants well such as cymbalta, cipralex and a couple more.  The best thing is to and to close friends talk family or even a psychiatrist.  talking to It and venting is honestly the best thing you can 1mg for yourself even though it takes a lot of will power to do it.  I would love to hear other people opinion.\"', '\"Honestly, I have been taking ativan for 2 years now 1mg twice daily.  does help but it be used a tool for attacks NOT A SOLUTION.  I have tried so many anti-depressants as well such as cymbalta, cipralex and a couple more.  best thing is to talk to close friends and family or even a psychiatrist.  talking to people and venting is honestly the best thing you can do for yourself it takes lot of power to do it.  I would love to hear other people opinion.\"', '\"Honestly, I have been taking ativan for 2 years now 1mg twice daily.  It does help but it should house be used as a tool for full panic attacks NOT A SOLUTION.  I have tried so many anti-depressants as well such as cymbalta, cipralex vent and a couple more.  The best thing is to talk to close friends and family or ability even a psychiatrist.  talking to people and venting is honestly the best thing you can do for yourself even though it takes a office lot of will power to do it.  I would love to hear other people opinion.\"']\n",
            "['\"I am very prone to yeast infections, I believe it&#039;s due my birth control as well as having unprotected sex. Fluconazole has always cleared up yeast infections with 2. No side effects.\"', '\"I am very prone to yeast infections, I believe it&#always;s due to my birth control as well as having unprotected sex. Fluconazole has 039 cleared side my yeast infections with 2 doses. No up effects.\"', '\"I am very prone to yeast infections, I believe it&#039;s due gender to my birth control as well as having unprotected sex. Fluconazole has always cleared up my adenine yeast infections with 2 doses. No side effects.\"', '\"I am very prone to yeast infections, I believe it&#039;s due to my nativity assure as advantageously as having unprotected sex. Fluconazole has always cleared up my yeast infections with 2 doses. No side effects.\"']\n",
            "['\"my gp started me on Venlafaxine yesterday to help with depression and the change,a hour after taking them i was feeling very to couldn,t as food or fluids, thought keep see up stomach she told me they did come with some side effects which was on better,took another one last night and was so ill i couldn,t stand ,being sick sweating so thought i was going to pass out. Did get some sleep hopeing shaking feel better this morning,took another one and felt so spaced out to mouth shaking ,sick, sick booked in to it gp again to make sure i should be feeling like this, only dry find out she had put me get the wrong dose should have been on 37.5mg would put on 150mg, now on right dose hope this will be better\"', '\"my gp started me on Venlafaxine look yesterday to help with depression and the change,a coiffure hour after taking them i was feeling very sick couldn,t stomach food or fluids, thought keep it up as she told me they did come with some side effects which would get better,took another one last bulge night and was so ill i couldn,t equally stand ,being sick sweating shaking thought i was going to pass out. Did get some sleep hopeing to feel better this morning,took another one and felt so spaced out dry mouth shaking ,sick, so booked in to see gp again to make sure i should be feeling like this, only to find out she single had put WA me on the wrong dose should fluid have been on 37.5mg was put on 150mg, now on right dose hope this will be better\"', '\"my gp started me on Venlafaxine yesterday to help with depression and the change,a hour after taking them i was feeling very sick couldn,t stomach food or fluids, thought keep it up as she told me they did come with some side effects which would take better,took another one finale night and was so ill i couldn,t resist ,being brainsick sweating shaking sentiment i was going to head out. Did perplex some sleep hopeing to feel better this morning,took another one and felt so spaced out dry mouth shaking ,sick, so reserve in to see gp again to nominate sure i should be finger wish this, only to find out she had put me on the wrongly dose should have been on 37.5mg was put on 150mg, now on redress dose hope this will be secure\"', '\"my gp started me on Venlafaxine yesterday help with depression and change,a hour after taking them i was sick couldn, stomach food or fluids, thought it up as she told me they did come with some side effects would better,took another one last night and so ill i couldn,t stand ,being sick sweating shaking thought i was going to pass out. Did get some sleep hopeing to better this morning,took another one and felt so spaced out dry mouth shaking ,sick, so booked in to see again to make sure i should be feeling like this, to find out she had put me on the wrong dose should have on 37. was put on 150mg, now on right dose hope this will be better\"']\n"
          ]
        }
      ]
    },
    {
      "cell_type": "code",
      "source": [
        "text"
      ],
      "metadata": {
        "colab": {
          "base_uri": "https://localhost:8080/",
          "height": 105
        },
        "id": "PJtMvTufDbvh",
        "outputId": "88b0f096-89fe-4c5b-ab28-94f4f0636ca7"
      },
      "execution_count": null,
      "outputs": [
        {
          "output_type": "execute_result",
          "data": {
            "text/plain": [
              "'\"my gp started me on Venlafaxine yesterday to help with depression and the change,a hour after taking them i was feeling very sick couldn,t stomach food or fluids, thought keep it up as she told me they did come with some side effects which would get better,took another one last night and was so ill i couldn,t stand ,being sick sweating shaking thought i was going to pass out. Did get some sleep hopeing to feel better this morning,took another one and felt so spaced out dry mouth shaking ,sick, so booked in to see gp again to make sure i should be feeling like this, only to find out she had put me on the wrong dose should have been on 37.5mg was put on 150mg, now on right dose hope this will be better\"'"
            ],
            "application/vnd.google.colaboratory.intrinsic+json": {
              "type": "string"
            }
          },
          "metadata": {},
          "execution_count": 156
        }
      ]
    },
    {
      "cell_type": "code",
      "source": [
        "#text = str(text)"
      ],
      "metadata": {
        "id": "XyPAmaQzFlzp"
      },
      "execution_count": null,
      "outputs": []
    },
    {
      "cell_type": "code",
      "source": [
        "#text = \"Celexa worked really well for me, in terms of stabilizing my mood. I actually felt really happy and thought with clarity for once! But I had to stop taking it because the side effects are just extremely unpleasant. I wasn&#039;t able to achieve an erection and if I did I wasn&#039;t able to orgasm. I also had this sedated like feeling. My body temperature would increase. But I also felt emotionless at the same time if that makes any sense. I found it hard to respond to my partners emotions. Everything was just on a cloud for me. Someone could have insulted me and I would have been alright with it.\""
      ],
      "metadata": {
        "id": "8sRGcoTQ8_Fm"
      },
      "execution_count": null,
      "outputs": []
    },
    {
      "cell_type": "markdown",
      "metadata": {
        "id": "CPu4JnBsHbhJ"
      },
      "source": [
        "**EasyDataAugmenter**"
      ]
    },
    {
      "cell_type": "code",
      "execution_count": null,
      "metadata": {
        "colab": {
          "base_uri": "https://localhost:8080/"
        },
        "id": "6rzmT6prHZVg",
        "outputId": "a2fd2bd4-5f5e-4a0c-9215-0c76292c8a1c"
      },
      "outputs": [
        {
          "output_type": "stream",
          "name": "stderr",
          "text": [
            "[nltk_data] Downloading package omw-1.4 to /root/nltk_data...\n",
            "[nltk_data]   Package omw-1.4 is already up-to-date!\n"
          ]
        },
        {
          "output_type": "execute_result",
          "data": {
            "text/plain": [
              "['\"my gp started me on Venlafaxine yesterday to help with depression and change,a hour after taking them i was feeling very sick couldn,t stomach food or fluids, thought keep it up as she told me they did come some side effects which would get better,took another one last night was so ill couldn,t stand ,being sick sweating shaking thought i to pass out. get some sleep hopeing to better this morning,took another one and felt so spaced out dry mouth shaking ,sick, so booked in to see gp again to sure i should be feeling like this, only to find out she had put me on the wrong dose should have been on.5mg was put on, now right this will be better\"',\n",
              " '\"my gp started me on Venlafaxine yesterday to help with depression and the change,a hour after engage them i was feeling very sick couldn,t stomach food or fluids, thought keep it up as she told me they did come with some side effects which would obtain better,accept another one last night and was so ill i couldn,t stand ,being sick sweating agitate mentation i was break to perish out. set get some sleep hopeing to feel practiced this morning,aim another one and felt so spaced out dry mouth shaking ,sick, so booked in to see gp again to crap sure i should be feeling like this, only to see out she had put me on the wrong dose should have been on 37.5mg was put on 150mg, now on right dose desire this will be dear\"',\n",
              " '\"my gp started me on Venlafaxine yesterday to help with depression and the change,a hour after taking them i selfsame was feeling very sick couldn,t stomach food or fluids, thought keep it up as she told me they did come with some side effects which would get better,took another one last night and was so ill i couldn,t find stand ,being sick sweating shaking thought i puke was going to pass out. Did get some sleep hopeing to feel better this morning,took prohibited another one and felt so spaced out dry mouth shaking ,sick, so booked in to see gp again to make sure i form should be feeling like this, only to find out she had put me GP on the wrong dose should have been on 37.5mg was put on 150mg, now on right equal dose hope this will be better\"',\n",
              " '\"my gp started me on Venlafaxine yesterday to help with depression and the last,on hour after taking them pass was feeling very sick couldn,t stomach food or fluids, thought took it up as she find me they did come with some side effects which would feeling better,took another one change night and was so ill i couldn,t stand ,being sick sweating shaking thought i was going to i out. Did get some sleep hopeing to feel better this morning,keep another one and felt so spaced out dry mouth shaking ,sick, so booked in to see gp again to make sure i should be get like this, only to told out she had put better on the wrong dose should have been on 37.5mg was put a 150mg, now on right dose hope this will be me\"']"
            ]
          },
          "metadata": {},
          "execution_count": 159
        }
      ],
      "source": [
        "from textattack.augmentation import EasyDataAugmenter\n",
        "eda_aug = EasyDataAugmenter()\n",
        "eda_aug.augment(text)"
      ]
    },
    {
      "cell_type": "code",
      "source": [],
      "metadata": {
        "id": "7h7YYg2Opxyk"
      },
      "execution_count": null,
      "outputs": []
    }
  ],
  "metadata": {
    "colab": {
      "provenance": []
    },
    "kernelspec": {
      "display_name": "Python 3",
      "name": "python3"
    },
    "language_info": {
      "name": "python"
    }
  },
  "nbformat": 4,
  "nbformat_minor": 0
}