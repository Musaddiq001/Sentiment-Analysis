{
  "nbformat": 4,
  "nbformat_minor": 0,
  "metadata": {
    "colab": {
      "provenance": []
    },
    "kernelspec": {
      "display_name": "Python 3",
      "name": "python3"
    },
    "language_info": {
      "name": "python"
    }
  },
  "cells": [
    {
      "cell_type": "code",
      "metadata": {
        "id": "SuRWQOfmfDGC"
      },
      "source": [
        "import pandas as pd\n",
        "import numpy as np\n",
        "import matplotlib.pyplot as plt\n",
        "import seaborn as sns"
      ],
      "execution_count": null,
      "outputs": []
    },
    {
      "cell_type": "code",
      "metadata": {
        "colab": {
          "base_uri": "https://localhost:8080/"
        },
        "id": "Fj6-It4Vf2Zh",
        "outputId": "e1941e47-7799-4006-eba4-409807132f00"
      },
      "source": [
        "from google.colab import drive\n",
        "drive.mount('/content/drive/') "
      ],
      "execution_count": null,
      "outputs": [
        {
          "name": "stdout",
          "output_type": "stream",
          "text": [
            "Mounted at /content/drive/\n"
          ]
        }
      ]
    },
    {
      "cell_type": "code",
      "metadata": {
        "id": "EXAhk1-Bi4bE"
      },
      "source": [
        "df = pd.read_csv('/content/drive/MyDrive/Sentiment analysis/Datafiniti_Amazon_Consumer_Reviews_of_Amazon_Products.csv', usecols = ['reviews.rating', 'reviews.text'])"
      ],
      "execution_count": null,
      "outputs": []
    },
    {
      "cell_type": "code",
      "metadata": {
        "colab": {
          "base_uri": "https://localhost:8080/",
          "height": 363
        },
        "id": "UyYzQ3T0jHU3",
        "outputId": "1dd1851e-a4bd-4b84-c088-8707ca2d505c"
      },
      "source": [
        "df.head(10)"
      ],
      "execution_count": null,
      "outputs": [
        {
          "data": {
            "text/html": [
              "<div>\n",
              "<style scoped>\n",
              "    .dataframe tbody tr th:only-of-type {\n",
              "        vertical-align: middle;\n",
              "    }\n",
              "\n",
              "    .dataframe tbody tr th {\n",
              "        vertical-align: top;\n",
              "    }\n",
              "\n",
              "    .dataframe thead th {\n",
              "        text-align: right;\n",
              "    }\n",
              "</style>\n",
              "<table border=\"1\" class=\"dataframe\">\n",
              "  <thead>\n",
              "    <tr style=\"text-align: right;\">\n",
              "      <th></th>\n",
              "      <th>reviews.rating</th>\n",
              "      <th>reviews.text</th>\n",
              "    </tr>\n",
              "  </thead>\n",
              "  <tbody>\n",
              "    <tr>\n",
              "      <th>0</th>\n",
              "      <td>3</td>\n",
              "      <td>I thought it would be as big as small paper bu...</td>\n",
              "    </tr>\n",
              "    <tr>\n",
              "      <th>1</th>\n",
              "      <td>5</td>\n",
              "      <td>This kindle is light and easy to use especiall...</td>\n",
              "    </tr>\n",
              "    <tr>\n",
              "      <th>2</th>\n",
              "      <td>4</td>\n",
              "      <td>Didnt know how much i'd use a kindle so went f...</td>\n",
              "    </tr>\n",
              "    <tr>\n",
              "      <th>3</th>\n",
              "      <td>5</td>\n",
              "      <td>I am 100 happy with my purchase. I caught it o...</td>\n",
              "    </tr>\n",
              "    <tr>\n",
              "      <th>4</th>\n",
              "      <td>5</td>\n",
              "      <td>Solid entry level Kindle. Great for kids. Gift...</td>\n",
              "    </tr>\n",
              "    <tr>\n",
              "      <th>5</th>\n",
              "      <td>5</td>\n",
              "      <td>This make an excellent ebook reader. Don't exp...</td>\n",
              "    </tr>\n",
              "    <tr>\n",
              "      <th>6</th>\n",
              "      <td>5</td>\n",
              "      <td>I ordered this for my daughter, as I have the ...</td>\n",
              "    </tr>\n",
              "    <tr>\n",
              "      <th>7</th>\n",
              "      <td>4</td>\n",
              "      <td>I bought my Kindle about 2 months ago and the ...</td>\n",
              "    </tr>\n",
              "    <tr>\n",
              "      <th>8</th>\n",
              "      <td>5</td>\n",
              "      <td>amazon kindle is always the best ebook, upgrad...</td>\n",
              "    </tr>\n",
              "    <tr>\n",
              "      <th>9</th>\n",
              "      <td>5</td>\n",
              "      <td>It's beyond my expectation, and it can even sh...</td>\n",
              "    </tr>\n",
              "  </tbody>\n",
              "</table>\n",
              "</div>"
            ],
            "text/plain": [
              "   reviews.rating                                       reviews.text\n",
              "0               3  I thought it would be as big as small paper bu...\n",
              "1               5  This kindle is light and easy to use especiall...\n",
              "2               4  Didnt know how much i'd use a kindle so went f...\n",
              "3               5  I am 100 happy with my purchase. I caught it o...\n",
              "4               5  Solid entry level Kindle. Great for kids. Gift...\n",
              "5               5  This make an excellent ebook reader. Don't exp...\n",
              "6               5  I ordered this for my daughter, as I have the ...\n",
              "7               4  I bought my Kindle about 2 months ago and the ...\n",
              "8               5  amazon kindle is always the best ebook, upgrad...\n",
              "9               5  It's beyond my expectation, and it can even sh..."
            ]
          },
          "execution_count": 4,
          "metadata": {},
          "output_type": "execute_result"
        }
      ]
    },
    {
      "cell_type": "code",
      "metadata": {
        "colab": {
          "base_uri": "https://localhost:8080/",
          "height": 206
        },
        "id": "ELEEfaAojMA1",
        "outputId": "bdce091a-8ec5-4dc4-a54b-c7e57ee236e3"
      },
      "source": [
        "df.sample(5)"
      ],
      "execution_count": null,
      "outputs": [
        {
          "data": {
            "text/html": [
              "<div>\n",
              "<style scoped>\n",
              "    .dataframe tbody tr th:only-of-type {\n",
              "        vertical-align: middle;\n",
              "    }\n",
              "\n",
              "    .dataframe tbody tr th {\n",
              "        vertical-align: top;\n",
              "    }\n",
              "\n",
              "    .dataframe thead th {\n",
              "        text-align: right;\n",
              "    }\n",
              "</style>\n",
              "<table border=\"1\" class=\"dataframe\">\n",
              "  <thead>\n",
              "    <tr style=\"text-align: right;\">\n",
              "      <th></th>\n",
              "      <th>reviews.rating</th>\n",
              "      <th>reviews.text</th>\n",
              "    </tr>\n",
              "  </thead>\n",
              "  <tbody>\n",
              "    <tr>\n",
              "      <th>3801</th>\n",
              "      <td>5</td>\n",
              "      <td>Amazing product from Amazon within budget and ...</td>\n",
              "    </tr>\n",
              "    <tr>\n",
              "      <th>3777</th>\n",
              "      <td>5</td>\n",
              "      <td>Inexpensive tablet for him to use and learn on...</td>\n",
              "    </tr>\n",
              "    <tr>\n",
              "      <th>28</th>\n",
              "      <td>5</td>\n",
              "      <td>I have several Kindles so knew what to expect....</td>\n",
              "    </tr>\n",
              "    <tr>\n",
              "      <th>3011</th>\n",
              "      <td>5</td>\n",
              "      <td>Sound quality is amazing. I really like the ab...</td>\n",
              "    </tr>\n",
              "    <tr>\n",
              "      <th>932</th>\n",
              "      <td>5</td>\n",
              "      <td>This product will for sure come in handy. Very...</td>\n",
              "    </tr>\n",
              "  </tbody>\n",
              "</table>\n",
              "</div>"
            ],
            "text/plain": [
              "      reviews.rating                                       reviews.text\n",
              "3801               5  Amazing product from Amazon within budget and ...\n",
              "3777               5  Inexpensive tablet for him to use and learn on...\n",
              "28                 5  I have several Kindles so knew what to expect....\n",
              "3011               5  Sound quality is amazing. I really like the ab...\n",
              "932                5  This product will for sure come in handy. Very..."
            ]
          },
          "execution_count": 5,
          "metadata": {},
          "output_type": "execute_result"
        }
      ]
    },
    {
      "cell_type": "code",
      "metadata": {
        "colab": {
          "base_uri": "https://localhost:8080/"
        },
        "id": "t6G0Q0vsneF2",
        "outputId": "a843dc57-afd8-408e-d8fa-7b18cf781443"
      },
      "source": [
        "df['reviews.rating'].value_counts()"
      ],
      "execution_count": null,
      "outputs": [
        {
          "data": {
            "text/plain": [
              "5    3478\n",
              "4    1208\n",
              "3     197\n",
              "1      63\n",
              "2      54\n",
              "Name: reviews.rating, dtype: int64"
            ]
          },
          "execution_count": 6,
          "metadata": {},
          "output_type": "execute_result"
        }
      ]
    },
    {
      "cell_type": "code",
      "metadata": {
        "colab": {
          "base_uri": "https://localhost:8080/"
        },
        "id": "nSFUmRD1nuy9",
        "outputId": "81f19f23-eab5-42f6-b871-ac43454c9a67"
      },
      "source": [
        "! pip install git+https://github.com/laxmimerit/preprocess_kgptalkie.git --upgrade --force-reinstall"
      ],
      "execution_count": null,
      "outputs": [
        {
          "name": "stdout",
          "output_type": "stream",
          "text": [
            "Collecting git+https://github.com/laxmimerit/preprocess_kgptalkie.git\n",
            "  Cloning https://github.com/laxmimerit/preprocess_kgptalkie.git to /tmp/pip-req-build-coj33dup\n",
            "  Running command git clone -q https://github.com/laxmimerit/preprocess_kgptalkie.git /tmp/pip-req-build-coj33dup\n",
            "Building wheels for collected packages: preprocess-kgptalkie\n",
            "  Building wheel for preprocess-kgptalkie (setup.py) ... \u001b[?25l\u001b[?25hdone\n",
            "  Created wheel for preprocess-kgptalkie: filename=preprocess_kgptalkie-0.1.3-py3-none-any.whl size=11754 sha256=9006321885f85c0eb6fd082bdcd061fb3b1b11fe57c39b9dcdab84d5a523c929\n",
            "  Stored in directory: /tmp/pip-ephem-wheel-cache-7ctw3m0i/wheels/0d/b3/29/bfe3deffda68980088d17b81331be6667e837ffb4a071bae82\n",
            "Successfully built preprocess-kgptalkie\n",
            "Installing collected packages: preprocess-kgptalkie\n",
            "Successfully installed preprocess-kgptalkie-0.1.3\n"
          ]
        }
      ]
    },
    {
      "cell_type": "code",
      "metadata": {
        "id": "AW2teqfkqICf"
      },
      "source": [
        "import preprocess_kgptalkie as ps\n",
        "import re"
      ],
      "execution_count": null,
      "outputs": []
    },
    {
      "cell_type": "code",
      "metadata": {
        "id": "Q3dr8zMEqpFw"
      },
      "source": [
        "def get_clean(x):\n",
        "    x = str(x).lower().replace('\\\\', '').replace('_', ' ')\n",
        "    x = ps.cont_exp(x)\n",
        "    x = ps.remove_emails(x)\n",
        "    x = ps.remove_urls(x)\n",
        "    x = ps.remove_html_tags(x)\n",
        "    x = ps.remove_accented_chars(x)\n",
        "    x = ps.remove_special_chars(x)\n",
        "    x = re.sub(\"(.)\\\\1{2,}\", \"\\\\1\", x)\n",
        "    return x"
      ],
      "execution_count": null,
      "outputs": []
    },
    {
      "cell_type": "code",
      "metadata": {
        "id": "2-DzNOziqrS0"
      },
      "source": [
        "df['reviews.text'] = df['reviews.text'].apply(lambda x: get_clean(x))"
      ],
      "execution_count": null,
      "outputs": []
    },
    {
      "cell_type": "code",
      "metadata": {
        "colab": {
          "base_uri": "https://localhost:8080/",
          "height": 206
        },
        "id": "eq6s-8ZdrJlZ",
        "outputId": "da60fc9c-6962-4d3b-9ee2-3cee8a896b93"
      },
      "source": [
        " df.head()"
      ],
      "execution_count": null,
      "outputs": [
        {
          "data": {
            "text/html": [
              "<div>\n",
              "<style scoped>\n",
              "    .dataframe tbody tr th:only-of-type {\n",
              "        vertical-align: middle;\n",
              "    }\n",
              "\n",
              "    .dataframe tbody tr th {\n",
              "        vertical-align: top;\n",
              "    }\n",
              "\n",
              "    .dataframe thead th {\n",
              "        text-align: right;\n",
              "    }\n",
              "</style>\n",
              "<table border=\"1\" class=\"dataframe\">\n",
              "  <thead>\n",
              "    <tr style=\"text-align: right;\">\n",
              "      <th></th>\n",
              "      <th>reviews.rating</th>\n",
              "      <th>reviews.text</th>\n",
              "    </tr>\n",
              "  </thead>\n",
              "  <tbody>\n",
              "    <tr>\n",
              "      <th>0</th>\n",
              "      <td>3</td>\n",
              "      <td>i thought it would be as big as small paper bu...</td>\n",
              "    </tr>\n",
              "    <tr>\n",
              "      <th>1</th>\n",
              "      <td>5</td>\n",
              "      <td>this kindle is light and easy to use especiall...</td>\n",
              "    </tr>\n",
              "    <tr>\n",
              "      <th>2</th>\n",
              "      <td>4</td>\n",
              "      <td>didnt know how much i would use a kindle so we...</td>\n",
              "    </tr>\n",
              "    <tr>\n",
              "      <th>3</th>\n",
              "      <td>5</td>\n",
              "      <td>i am 100 happy with my purchase i caught it on...</td>\n",
              "    </tr>\n",
              "    <tr>\n",
              "      <th>4</th>\n",
              "      <td>5</td>\n",
              "      <td>solid entry level kindle great for kids gifted...</td>\n",
              "    </tr>\n",
              "  </tbody>\n",
              "</table>\n",
              "</div>"
            ],
            "text/plain": [
              "   reviews.rating                                       reviews.text\n",
              "0               3  i thought it would be as big as small paper bu...\n",
              "1               5  this kindle is light and easy to use especiall...\n",
              "2               4  didnt know how much i would use a kindle so we...\n",
              "3               5  i am 100 happy with my purchase i caught it on...\n",
              "4               5  solid entry level kindle great for kids gifted..."
            ]
          },
          "execution_count": 11,
          "metadata": {},
          "output_type": "execute_result"
        }
      ]
    },
    {
      "cell_type": "markdown",
      "metadata": {
        "id": "wkx6pZ0AZybr"
      },
      "source": [
        "**1. SVM**"
      ]
    },
    {
      "cell_type": "code",
      "metadata": {
        "id": "PxSN4sSorYkh"
      },
      "source": [
        "from sklearn.feature_extraction.text import TfidfVectorizer\n",
        "from sklearn.model_selection import train_test_split\n",
        "from sklearn.svm import LinearSVC\n",
        "from sklearn.metrics import classification_report"
      ],
      "execution_count": null,
      "outputs": []
    },
    {
      "cell_type": "code",
      "metadata": {
        "id": "ng20RmF26Mev"
      },
      "source": [
        "tfidf = TfidfVectorizer(max_features=40000, ngram_range=(1,5), analyzer='char')"
      ],
      "execution_count": null,
      "outputs": []
    },
    {
      "cell_type": "code",
      "metadata": {
        "id": "4oFgG0Q36oBO"
      },
      "source": [
        "y = tfidf.fit_transform(df['reviews.text'])\n",
        "z = df['reviews.rating']"
      ],
      "execution_count": null,
      "outputs": []
    },
    {
      "cell_type": "code",
      "metadata": {
        "colab": {
          "base_uri": "https://localhost:8080/"
        },
        "id": "Uele3U7V63ee",
        "outputId": "9bc2b023-fbb7-4a95-ded5-7f00c2479c10"
      },
      "source": [
        "y.shape, z.shape"
      ],
      "execution_count": null,
      "outputs": [
        {
          "data": {
            "text/plain": [
              "((5000, 40000), (5000,))"
            ]
          },
          "execution_count": 15,
          "metadata": {},
          "output_type": "execute_result"
        }
      ]
    },
    {
      "cell_type": "code",
      "metadata": {
        "id": "QZhvdNMn681O"
      },
      "source": [
        "y_train, y_test, z_train, z_test = train_test_split(y, z, test_size = 0.2, random_state = 0)"
      ],
      "execution_count": null,
      "outputs": []
    },
    {
      "cell_type": "code",
      "metadata": {
        "colab": {
          "base_uri": "https://localhost:8080/"
        },
        "id": "U6mPX1TC7xrQ",
        "outputId": "6645da6d-5694-41fc-ac18-2b73eb87bf1e"
      },
      "source": [
        "y_train.shape"
      ],
      "execution_count": null,
      "outputs": [
        {
          "data": {
            "text/plain": [
              "(4000, 40000)"
            ]
          },
          "execution_count": 17,
          "metadata": {},
          "output_type": "execute_result"
        }
      ]
    },
    {
      "cell_type": "code",
      "metadata": {
        "colab": {
          "base_uri": "https://localhost:8080/"
        },
        "id": "916QfsEN7zy3",
        "outputId": "cb6a508b-4542-49cd-cb64-c4d6c137c3f5"
      },
      "source": [
        "clf = LinearSVC(C=10, class_weight='balanced')\n",
        "clf.fit(y_train, z_train)"
      ],
      "execution_count": null,
      "outputs": [
        {
          "name": "stderr",
          "output_type": "stream",
          "text": [
            "/usr/local/lib/python3.7/dist-packages/sklearn/svm/_base.py:1208: ConvergenceWarning: Liblinear failed to converge, increase the number of iterations.\n",
            "  ConvergenceWarning,\n"
          ]
        },
        {
          "data": {
            "text/plain": [
              "LinearSVC(C=10, class_weight='balanced')"
            ]
          },
          "execution_count": 18,
          "metadata": {},
          "output_type": "execute_result"
        }
      ]
    },
    {
      "cell_type": "code",
      "metadata": {
        "id": "loUvqRHz8D_I"
      },
      "source": [
        "SVM_pred = clf.predict(y_test)"
      ],
      "execution_count": null,
      "outputs": []
    },
    {
      "cell_type": "code",
      "metadata": {
        "colab": {
          "base_uri": "https://localhost:8080/"
        },
        "id": "qkC4h8Zu8MgE",
        "outputId": "726db773-3f36-4022-e3a3-6782a87808e9"
      },
      "source": [
        "print(classification_report(z_test, SVM_pred))"
      ],
      "execution_count": null,
      "outputs": [
        {
          "name": "stdout",
          "output_type": "stream",
          "text": [
            "              precision    recall  f1-score   support\n",
            "\n",
            "           1       0.50      0.50      0.50         6\n",
            "           2       0.00      0.00      0.00        10\n",
            "           3       0.62      0.32      0.42        41\n",
            "           4       0.55      0.51      0.53       272\n",
            "           5       0.79      0.85      0.82       671\n",
            "\n",
            "    accuracy                           0.73      1000\n",
            "   macro avg       0.49      0.44      0.45      1000\n",
            "weighted avg       0.71      0.73      0.72      1000\n",
            "\n"
          ]
        }
      ]
    },
    {
      "cell_type": "code",
      "metadata": {
        "colab": {
          "base_uri": "https://localhost:8080/"
        },
        "id": "7lpQPzl08YJd",
        "outputId": "97720518-6ee4-44df-ea1b-1407b2fc4f19"
      },
      "source": [
        "x = 'this product is really bad. I do not like it'\n",
        "x = get_clean(x)\n",
        "vec = tfidf.transform([x])\n",
        "clf.predict(vec)"
      ],
      "execution_count": null,
      "outputs": [
        {
          "data": {
            "text/plain": [
              "array([1])"
            ]
          },
          "execution_count": 21,
          "metadata": {},
          "output_type": "execute_result"
        }
      ]
    },
    {
      "cell_type": "code",
      "metadata": {
        "colab": {
          "base_uri": "https://localhost:8080/"
        },
        "id": "n-ZNBnUTlPRD",
        "outputId": "47e43321-a515-4751-9fdc-e961f9c45531"
      },
      "source": [
        "x = 'this product is really good. I liked it so much'\n",
        "x = get_clean(x)\n",
        "vec = tfidf.transform([x])\n",
        "clf.predict(vec)"
      ],
      "execution_count": null,
      "outputs": [
        {
          "data": {
            "text/plain": [
              "array([5])"
            ]
          },
          "execution_count": 22,
          "metadata": {},
          "output_type": "execute_result"
        }
      ]
    },
    {
      "cell_type": "code",
      "metadata": {
        "colab": {
          "base_uri": "https://localhost:8080/",
          "height": 706
        },
        "id": "hYaK_qLORZKI",
        "outputId": "da8d9772-0677-424d-eed1-a87165b3d781"
      },
      "source": [
        "from sklearn.metrics import confusion_matrix\n",
        "import seaborn as sns\n",
        "from sklearn.metrics import classification_report\n",
        "Ypred = SVM_pred\n",
        "label=['1', '2','3','4', '5']\n",
        "Ytrue = z_test \n",
        "cm = confusion_matrix(Ytrue, Ypred)\n",
        "plt.figure(figsize=(12, 12))\n",
        "plt.title(\"Confusion Matrix for SVM\")\n",
        "ax = sns.heatmap(cm, cmap=\"mako\", fmt=\".01f\",annot_kws={'size':12}, annot=True, square=True, xticklabels=label, yticklabels=label)\n",
        "ax.set_ylabel('Actual', fontsize=20)\n",
        "ax.set_xlabel('Predicted', fontsize=20)"
      ],
      "execution_count": null,
      "outputs": [
        {
          "data": {
            "text/plain": [
              "Text(0.5, 145.31999999999996, 'Predicted')"
            ]
          },
          "execution_count": 23,
          "metadata": {},
          "output_type": "execute_result"
        },
        {
          "data": {
            "image/png": "[encoded data removed]",
            "text/plain": [
              "<Figure size 864x864 with 2 Axes>"
            ]
          },
          "metadata": {},
          "output_type": "display_data"
        }
      ]
    },
    {
      "cell_type": "code",
      "metadata": {
        "colab": {
          "base_uri": "https://localhost:8080/"
        },
        "id": "e4gm9rmLHmRh",
        "outputId": "d63991b3-0321-4db6-df0a-ea5d2f3bec59"
      },
      "source": [
        "cmat = confusion_matrix(z_test, SVM_pred)\n",
        "#print(cmat)\n",
        "print('TP - True Negative {}'.format(cmat[0,0]))\n",
        "print('FP - False Positive {}'.format(cmat[0,1]))\n",
        "print('FN - False Negative {}'.format(cmat[1,0]))\n",
        "print('TP - True Positive {}'.format(cmat[1,1]))\n",
        "print('Accuracy Rate: {}'.format(np.divide(np.sum([cmat[0,0],cmat[1,1]]),np.sum(cmat))))\n",
        "print('Misclassification Rate: {}'.format(np.divide(np.sum([cmat[0,1],cmat[1,0]]),np.sum(cmat))))"
      ],
      "execution_count": null,
      "outputs": [
        {
          "output_type": "stream",
          "name": "stdout",
          "text": [
            "TP - True Negative 3\n",
            "FP - False Positive 0\n",
            "FN - False Negative 1\n",
            "TP - True Positive 0\n",
            "Accuracy Rate: 0.003\n",
            "Misclassification Rate: 0.001\n"
          ]
        }
      ]
    },
    {
      "cell_type": "markdown",
      "metadata": {
        "id": "GSYSbfOvZ3Yt"
      },
      "source": [
        "**2. Decision Tree Classifier**"
      ]
    },
    {
      "cell_type": "code",
      "metadata": {
        "colab": {
          "base_uri": "https://localhost:8080/"
        },
        "id": "uVpiZtsIOBjS",
        "outputId": "dae4b213-2de3-40d8-9ab4-01a768dba4e5"
      },
      "source": [
        "from sklearn.tree import DecisionTreeClassifier\n",
        "from sklearn.model_selection import train_test_split\n",
        "from sklearn.metrics import accuracy_score\n",
        "dt = DecisionTreeClassifier(max_depth=6, random_state=1)\n",
        "# Predict test set labels\n",
        "dt.fit(y_train, z_train)\n",
        "DT_pred = dt.predict(y_test)\n",
        "\n",
        "# Compute test set accuracy\n",
        "acc = accuracy_score(z_test, DT_pred)\n",
        "print(\"Test set accuracy: {:.2f}\".format(acc))"
      ],
      "execution_count": null,
      "outputs": [
        {
          "name": "stdout",
          "output_type": "stream",
          "text": [
            "Test set accuracy: 0.69\n"
          ]
        }
      ]
    },
    {
      "cell_type": "code",
      "metadata": {
        "colab": {
          "base_uri": "https://localhost:8080/",
          "height": 706
        },
        "id": "OV8wsfi0RqNT",
        "outputId": "ef558cfd-36b7-4ce3-e9ce-e93740e43bf3"
      },
      "source": [
        "from sklearn.metrics import confusion_matrix\n",
        "import seaborn as sns\n",
        "from sklearn.metrics import classification_report\n",
        "Ypred = DT_pred\n",
        "label=['1', '2','3','4', '5']\n",
        "Ytrue = z_test \n",
        "cm = confusion_matrix(Ytrue, Ypred)\n",
        "plt.figure(figsize=(12, 12))\n",
        "plt.title(\"Confusion Matrix for Decision Tree\")\n",
        "ax = sns.heatmap(cm, cmap=\"mako\", fmt=\".01f\",annot_kws={'size':12}, annot=True, square=True, xticklabels=label, yticklabels=label)\n",
        "ax.set_ylabel('Actual', fontsize=20)\n",
        "ax.set_xlabel('Predicted', fontsize=20)"
      ],
      "execution_count": null,
      "outputs": [
        {
          "data": {
            "text/plain": [
              "Text(0.5, 145.31999999999996, 'Predicted')"
            ]
          },
          "execution_count": 27,
          "metadata": {},
          "output_type": "execute_result"
        },
        {
          "data": {
            "image/png": "[encoded data removed]",
            "text/plain": [
              "<Figure size 864x864 with 2 Axes>"
            ]
          },
          "metadata": {},
          "output_type": "display_data"
        }
      ]
    },
    {
      "cell_type": "markdown",
      "metadata": {
        "id": "4K0QJMg9Z8fA"
      },
      "source": [
        "**3. Naive Bayes**"
      ]
    },
    {
      "cell_type": "code",
      "metadata": {
        "colab": {
          "base_uri": "https://localhost:8080/"
        },
        "id": "R0TFdIhHOB_J",
        "outputId": "f0d5620b-4f2a-4103-ae33-495042278348"
      },
      "source": [
        "from sklearn.naive_bayes import MultinomialNB\n",
        "clf_NB = MultinomialNB()\n",
        "clf_NB.fit(y_train, z_train)"
      ],
      "execution_count": null,
      "outputs": [
        {
          "data": {
            "text/plain": [
              "MultinomialNB()"
            ]
          },
          "execution_count": 28,
          "metadata": {},
          "output_type": "execute_result"
        }
      ]
    },
    {
      "cell_type": "code",
      "metadata": {
        "id": "oveY6hzPPEhv"
      },
      "source": [
        "NB_pred = clf_NB.predict(y_test)"
      ],
      "execution_count": null,
      "outputs": []
    },
    {
      "cell_type": "code",
      "metadata": {
        "colab": {
          "base_uri": "https://localhost:8080/"
        },
        "id": "Gnc0n1NLPHIM",
        "outputId": "8448bff3-530a-4e95-e9df-0c8ec8386bea"
      },
      "source": [
        "from sklearn.metrics import classification_report\n",
        "print(classification_report(z_test, NB_pred))"
      ],
      "execution_count": null,
      "outputs": [
        {
          "name": "stdout",
          "output_type": "stream",
          "text": [
            "              precision    recall  f1-score   support\n",
            "\n",
            "           1       0.00      0.00      0.00         6\n",
            "           2       0.00      0.00      0.00        10\n",
            "           3       0.00      0.00      0.00        41\n",
            "           4       0.00      0.00      0.00       272\n",
            "           5       0.67      1.00      0.80       671\n",
            "\n",
            "    accuracy                           0.67      1000\n",
            "   macro avg       0.13      0.20      0.16      1000\n",
            "weighted avg       0.45      0.67      0.54      1000\n",
            "\n"
          ]
        },
        {
          "name": "stderr",
          "output_type": "stream",
          "text": [
            "/usr/local/lib/python3.7/dist-packages/sklearn/metrics/_classification.py:1308: UndefinedMetricWarning: Precision and F-score are ill-defined and being set to 0.0 in labels with no predicted samples. Use `zero_division` parameter to control this behavior.\n",
            "  _warn_prf(average, modifier, msg_start, len(result))\n",
            "/usr/local/lib/python3.7/dist-packages/sklearn/metrics/_classification.py:1308: UndefinedMetricWarning: Precision and F-score are ill-defined and being set to 0.0 in labels with no predicted samples. Use `zero_division` parameter to control this behavior.\n",
            "  _warn_prf(average, modifier, msg_start, len(result))\n",
            "/usr/local/lib/python3.7/dist-packages/sklearn/metrics/_classification.py:1308: UndefinedMetricWarning: Precision and F-score are ill-defined and being set to 0.0 in labels with no predicted samples. Use `zero_division` parameter to control this behavior.\n",
            "  _warn_prf(average, modifier, msg_start, len(result))\n"
          ]
        }
      ]
    },
    {
      "cell_type": "code",
      "metadata": {
        "colab": {
          "base_uri": "https://localhost:8080/"
        },
        "id": "AaIITIrHPhut",
        "outputId": "b0aa6d1b-8573-4aa8-858e-0e7c1b14e778"
      },
      "source": [
        "from sklearn.metrics import classification_report, confusion_matrix\n",
        "print(confusion_matrix(z_test, NB_pred))\n",
        "print(classification_report(z_test, NB_pred))"
      ],
      "execution_count": null,
      "outputs": [
        {
          "name": "stdout",
          "output_type": "stream",
          "text": [
            "[[  0   0   0   0   6]\n",
            " [  0   0   0   0  10]\n",
            " [  0   0   0   0  41]\n",
            " [  0   0   0   0 272]\n",
            " [  0   0   0   0 671]]\n",
            "              precision    recall  f1-score   support\n",
            "\n",
            "           1       0.00      0.00      0.00         6\n",
            "           2       0.00      0.00      0.00        10\n",
            "           3       0.00      0.00      0.00        41\n",
            "           4       0.00      0.00      0.00       272\n",
            "           5       0.67      1.00      0.80       671\n",
            "\n",
            "    accuracy                           0.67      1000\n",
            "   macro avg       0.13      0.20      0.16      1000\n",
            "weighted avg       0.45      0.67      0.54      1000\n",
            "\n"
          ]
        },
        {
          "name": "stderr",
          "output_type": "stream",
          "text": [
            "/usr/local/lib/python3.7/dist-packages/sklearn/metrics/_classification.py:1308: UndefinedMetricWarning: Precision and F-score are ill-defined and being set to 0.0 in labels with no predicted samples. Use `zero_division` parameter to control this behavior.\n",
            "  _warn_prf(average, modifier, msg_start, len(result))\n",
            "/usr/local/lib/python3.7/dist-packages/sklearn/metrics/_classification.py:1308: UndefinedMetricWarning: Precision and F-score are ill-defined and being set to 0.0 in labels with no predicted samples. Use `zero_division` parameter to control this behavior.\n",
            "  _warn_prf(average, modifier, msg_start, len(result))\n",
            "/usr/local/lib/python3.7/dist-packages/sklearn/metrics/_classification.py:1308: UndefinedMetricWarning: Precision and F-score are ill-defined and being set to 0.0 in labels with no predicted samples. Use `zero_division` parameter to control this behavior.\n",
            "  _warn_prf(average, modifier, msg_start, len(result))\n"
          ]
        }
      ]
    },
    {
      "cell_type": "code",
      "metadata": {
        "colab": {
          "base_uri": "https://localhost:8080/",
          "height": 706
        },
        "id": "QcTGS1cESO3Q",
        "outputId": "31c02678-f623-437e-e684-5dae542783e8"
      },
      "source": [
        "from sklearn.metrics import confusion_matrix\n",
        "import seaborn as sns\n",
        "from sklearn.metrics import classification_report\n",
        "Ypred = NB_pred\n",
        "label=['1', '2','3','4', '5']\n",
        "Ytrue = z_test \n",
        "cm = confusion_matrix(Ytrue, Ypred)\n",
        "plt.figure(figsize=(12, 12))\n",
        "plt.title(\"Confusion Matrix for Naive Bayes\")\n",
        "ax = sns.heatmap(cm, cmap=\"mako\", fmt=\".01f\",annot_kws={'size':12}, annot=True, square=True, xticklabels=label, yticklabels=label)\n",
        "ax.set_ylabel('Actual', fontsize=20)\n",
        "ax.set_xlabel('Predicted', fontsize=20)"
      ],
      "execution_count": null,
      "outputs": [
        {
          "data": {
            "text/plain": [
              "Text(0.5, 145.31999999999996, 'Predicted')"
            ]
          },
          "execution_count": 32,
          "metadata": {},
          "output_type": "execute_result"
        },
        {
          "data": {
            "image/png": "[encoded data removed]",
            "text/plain": [
              "<Figure size 864x864 with 2 Axes>"
            ]
          },
          "metadata": {},
          "output_type": "display_data"
        }
      ]
    },
    {
      "cell_type": "markdown",
      "metadata": {
        "id": "vqGlYG26v_Om"
      },
      "source": [
        "**4. K-Nearest Neighbour**"
      ]
    },
    {
      "cell_type": "code",
      "metadata": {
        "colab": {
          "base_uri": "https://localhost:8080/"
        },
        "id": "vg8l5CuoPjv8",
        "outputId": "46c8285e-201f-4bdd-cebb-26c3bd9a69cf"
      },
      "source": [
        "from sklearn.neighbors import KNeighborsClassifier\n",
        "classifier = KNeighborsClassifier(n_neighbors=5)\n",
        "classifier.fit(y_train, z_train)\n"
      ],
      "execution_count": null,
      "outputs": [
        {
          "data": {
            "text/plain": [
              "KNeighborsClassifier()"
            ]
          },
          "execution_count": 33,
          "metadata": {},
          "output_type": "execute_result"
        }
      ]
    },
    {
      "cell_type": "code",
      "metadata": {
        "id": "t64miHTCbxJA"
      },
      "source": [
        "KNN_pred = classifier.predict(y_test)"
      ],
      "execution_count": null,
      "outputs": []
    },
    {
      "cell_type": "code",
      "metadata": {
        "colab": {
          "base_uri": "https://localhost:8080/"
        },
        "id": "oZq1wAGgb6zr",
        "outputId": "4d1384f2-6327-45fb-8956-47f7c849d7c5"
      },
      "source": [
        "from sklearn.metrics import classification_report, confusion_matrix\n",
        "print(confusion_matrix(z_test, KNN_pred))\n",
        "print(classification_report(z_test, KNN_pred))"
      ],
      "execution_count": null,
      "outputs": [
        {
          "name": "stdout",
          "output_type": "stream",
          "text": [
            "[[  2   0   0   0   4]\n",
            " [  0   0   0   2   8]\n",
            " [  1   0   3   8  29]\n",
            " [  1   0   1  60 210]\n",
            " [  0   0   3  65 603]]\n",
            "              precision    recall  f1-score   support\n",
            "\n",
            "           1       0.50      0.33      0.40         6\n",
            "           2       0.00      0.00      0.00        10\n",
            "           3       0.43      0.07      0.12        41\n",
            "           4       0.44      0.22      0.29       272\n",
            "           5       0.71      0.90      0.79       671\n",
            "\n",
            "    accuracy                           0.67      1000\n",
            "   macro avg       0.42      0.31      0.32      1000\n",
            "weighted avg       0.62      0.67      0.62      1000\n",
            "\n"
          ]
        },
        {
          "name": "stderr",
          "output_type": "stream",
          "text": [
            "/usr/local/lib/python3.7/dist-packages/sklearn/metrics/_classification.py:1308: UndefinedMetricWarning: Precision and F-score are ill-defined and being set to 0.0 in labels with no predicted samples. Use `zero_division` parameter to control this behavior.\n",
            "  _warn_prf(average, modifier, msg_start, len(result))\n",
            "/usr/local/lib/python3.7/dist-packages/sklearn/metrics/_classification.py:1308: UndefinedMetricWarning: Precision and F-score are ill-defined and being set to 0.0 in labels with no predicted samples. Use `zero_division` parameter to control this behavior.\n",
            "  _warn_prf(average, modifier, msg_start, len(result))\n",
            "/usr/local/lib/python3.7/dist-packages/sklearn/metrics/_classification.py:1308: UndefinedMetricWarning: Precision and F-score are ill-defined and being set to 0.0 in labels with no predicted samples. Use `zero_division` parameter to control this behavior.\n",
            "  _warn_prf(average, modifier, msg_start, len(result))\n"
          ]
        }
      ]
    },
    {
      "cell_type": "code",
      "metadata": {
        "colab": {
          "base_uri": "https://localhost:8080/",
          "height": 707
        },
        "id": "zHaMozKFcBhu",
        "outputId": "52f8f963-2cff-465e-b5ab-95219311f61d"
      },
      "source": [
        "from sklearn.metrics import confusion_matrix\n",
        "import seaborn as sns\n",
        "from sklearn.metrics import classification_report\n",
        "Ypred = KNN_pred\n",
        "label=['1', '2','3','4', '5']\n",
        "Ytrue = z_test \n",
        "cm = confusion_matrix(Ytrue, Ypred)\n",
        "plt.figure(figsize=(12, 12))\n",
        "plt.title(\"Confusion Matrix for K-Nearest Neighbour\")\n",
        "ax = sns.heatmap(cm, cmap=\"mako\", fmt=\".01f\",annot_kws={'size':12}, annot=True, square=True, xticklabels=label, yticklabels=label)\n",
        "ax.set_ylabel('Actual', fontsize=20)\n",
        "ax.set_xlabel('Predicted', fontsize=20)"
      ],
      "execution_count": null,
      "outputs": [
        {
          "data": {
            "text/plain": [
              "Text(0.5, 145.31999999999996, 'Predicted')"
            ]
          },
          "execution_count": 36,
          "metadata": {},
          "output_type": "execute_result"
        },
        {
          "data": {
            "image/png": "[encoded data removed]",
            "text/plain": [
              "<Figure size 864x864 with 2 Axes>"
            ]
          },
          "metadata": {},
          "output_type": "display_data"
        }
      ]
    },
    {
      "cell_type": "code",
      "metadata": {
        "colab": {
          "base_uri": "https://localhost:8080/"
        },
        "id": "kIfWTbcnHPEB",
        "outputId": "d16f1252-d648-4293-d71e-ff4b9bb8a66c"
      },
      "source": [
        "cmat = confusion_matrix(z_test, KNN_pred)\n",
        "#print(cmat)\n",
        "print('TP - True Negative {}'.format(cmat[0,0]))\n",
        "print('FP - False Positive {}'.format(cmat[0,1]))\n",
        "print('FN - False Negative {}'.format(cmat[1,0]))\n",
        "print('TP - True Positive {}'.format(cmat[1,1]))\n",
        "print('Accuracy Rate: {}'.format(np.divide(np.sum([cmat[0,0],cmat[1,1]]),np.sum(cmat))))\n",
        "print('Misclassification Rate: {}'.format(np.divide(np.sum([cmat[0,1],cmat[1,0]]),np.sum(cmat))))"
      ],
      "execution_count": null,
      "outputs": [
        {
          "output_type": "stream",
          "name": "stdout",
          "text": [
            "TP - True Negative 2\n",
            "FP - False Positive 0\n",
            "FN - False Negative 0\n",
            "TP - True Positive 0\n",
            "Accuracy Rate: 0.002\n",
            "Misclassification Rate: 0.0\n"
          ]
        }
      ]
    },
    {
      "cell_type": "code",
      "metadata": {
        "id": "MBQl2Q-LHxZP"
      },
      "source": [
        "error_rate = []\n",
        "for i in range(1,40):\n",
        "    \n",
        "    knn = KNeighborsClassifier(n_neighbors=i)\n",
        "    knn.fit(y_train, z_train)\n",
        "    pred_i = knn.predict(y_test)\n",
        "    error_rate.append(np.mean(pred_i != y_test))"
      ],
      "execution_count": null,
      "outputs": []
    },
    {
      "cell_type": "code",
      "metadata": {
        "colab": {
          "base_uri": "https://localhost:8080/"
        },
        "id": "X7vD1ZraIEWI",
        "outputId": "f57bffa8-2553-4b42-c5ba-ea0e9756159a"
      },
      "source": [
        "print(error_rate)"
      ],
      "execution_count": null,
      "outputs": [
        {
          "output_type": "stream",
          "name": "stdout",
          "text": [
            "[1.0, 1.0, 1.0, 1.0, 1.0, 1.0, 1.0, 1.0, 1.0, 1.0, 1.0, 1.0, 1.0, 1.0, 1.0, 1.0, 1.0, 1.0, 1.0, 1.0, 1.0, 1.0, 1.0, 1.0, 1.0, 1.0, 1.0, 1.0, 1.0, 1.0, 1.0, 1.0, 1.0, 1.0, 1.0, 1.0, 1.0, 1.0, 1.0]\n"
          ]
        }
      ]
    },
    {
      "cell_type": "code",
      "metadata": {
        "colab": {
          "base_uri": "https://localhost:8080/",
          "height": 312
        },
        "id": "bXr-NRuWINHf",
        "outputId": "3a3c257a-8e9a-4f47-9d9b-154997ec4087"
      },
      "source": [
        "plt.figure(figsize=(10,4))\n",
        "plt.plot(range(1,40), error_rate, color='blue', linestyle='dashed', marker='o', markerfacecolor='red', markersize=10)\n",
        "plt.title('Error Rate vs. K-Values')\n",
        "plt.xlabel('K-Values')\n",
        "plt.ylabel('Error Rate')"
      ],
      "execution_count": null,
      "outputs": [
        {
          "output_type": "execute_result",
          "data": {
            "text/plain": [
              "Text(0, 0.5, 'Error Rate')"
            ]
          },
          "metadata": {},
          "execution_count": 89
        },
        {
          "output_type": "display_data",
          "data": {
            "image/png": "[encoded data removed]",
            "text/plain": [
              "<Figure size 720x288 with 1 Axes>"
            ]
          },
          "metadata": {
            "needs_background": "light"
          }
        }
      ]
    },
    {
      "cell_type": "code",
      "metadata": {
        "colab": {
          "base_uri": "https://localhost:8080/"
        },
        "id": "pNllwa2HITao",
        "outputId": "38a853d4-0948-4932-fec2-768d9842eee6"
      },
      "source": [
        "knn = KNeighborsClassifier(n_neighbors=15)\n",
        "knn.fit(y_train, z_train)\n",
        "pred = knn.predict(y_test)\n",
        "# Print out classification report and confusion matrix\n",
        "print(classification_report(z_test, pred))"
      ],
      "execution_count": null,
      "outputs": [
        {
          "output_type": "stream",
          "name": "stdout",
          "text": [
            "              precision    recall  f1-score   support\n",
            "\n",
            "           1       0.00      0.00      0.00         6\n",
            "           2       0.00      0.00      0.00        10\n",
            "           3       0.00      0.00      0.00        41\n",
            "           4       0.46      0.04      0.08       272\n",
            "           5       0.68      0.99      0.80       671\n",
            "\n",
            "    accuracy                           0.67      1000\n",
            "   macro avg       0.23      0.21      0.18      1000\n",
            "weighted avg       0.58      0.67      0.56      1000\n",
            "\n"
          ]
        },
        {
          "output_type": "stream",
          "name": "stderr",
          "text": [
            "/usr/local/lib/python3.7/dist-packages/sklearn/metrics/_classification.py:1308: UndefinedMetricWarning: Precision and F-score are ill-defined and being set to 0.0 in labels with no predicted samples. Use `zero_division` parameter to control this behavior.\n",
            "  _warn_prf(average, modifier, msg_start, len(result))\n",
            "/usr/local/lib/python3.7/dist-packages/sklearn/metrics/_classification.py:1308: UndefinedMetricWarning: Precision and F-score are ill-defined and being set to 0.0 in labels with no predicted samples. Use `zero_division` parameter to control this behavior.\n",
            "  _warn_prf(average, modifier, msg_start, len(result))\n",
            "/usr/local/lib/python3.7/dist-packages/sklearn/metrics/_classification.py:1308: UndefinedMetricWarning: Precision and F-score are ill-defined and being set to 0.0 in labels with no predicted samples. Use `zero_division` parameter to control this behavior.\n",
            "  _warn_prf(average, modifier, msg_start, len(result))\n"
          ]
        }
      ]
    },
    {
      "cell_type": "code",
      "metadata": {
        "colab": {
          "base_uri": "https://localhost:8080/"
        },
        "id": "ZxGT3c0LIbvn",
        "outputId": "636c9b90-f730-473b-b939-a636630cde20"
      },
      "source": [
        "cmat = confusion_matrix(z_test, pred)\n",
        "#print(cmat)\n",
        "print('TP - True Negative {}'.format(cmat[0,0]))\n",
        "print('FP - False Positive {}'.format(cmat[0,1]))\n",
        "print('FN - False Negative {}'.format(cmat[1,0]))\n",
        "print('TP - True Positive {}'.format(cmat[1,1]))\n",
        "print('Accuracy Rate: {}'.format(np.divide(np.sum([cmat[0,0],cmat[1,1]]),np.sum(cmat))))\n",
        "print('Misclassification Rate: {}'.format(np.divide(np.sum([cmat[0,1],cmat[1,0]]),np.sum(cmat))))"
      ],
      "execution_count": null,
      "outputs": [
        {
          "output_type": "stream",
          "name": "stdout",
          "text": [
            "TP - True Negative 0\n",
            "FP - False Positive 0\n",
            "FN - False Negative 0\n",
            "TP - True Positive 0\n",
            "Accuracy Rate: 0.0\n",
            "Misclassification Rate: 0.0\n"
          ]
        }
      ]
    },
    {
      "cell_type": "markdown",
      "metadata": {
        "id": "mQLDoYvlY7DP"
      },
      "source": [
        "**5. XG BOOST**"
      ]
    },
    {
      "cell_type": "code",
      "metadata": {
        "id": "yprE23fHY6i4"
      },
      "source": [
        "import xgboost as xgb\n",
        "xgbd = xgb.XGBClassifier(max_depth=10, n_estimators=5000 , learning_rate=.5, n_jobs=-1)"
      ],
      "execution_count": null,
      "outputs": []
    },
    {
      "cell_type": "code",
      "metadata": {
        "colab": {
          "background_save": true
        },
        "id": "70i3xXrIZC_p",
        "outputId": "39c6e760-9692-4659-ac58-6c703099b067"
      },
      "source": [
        "xgbd.fit(y_train, z_train)\n",
        "xgb_pred = xgbd.predict(y_test)\n",
        "xgb_acc=accuracy_score(z_test, xgb_pred)\n",
        "print(xgb_acc)"
      ],
      "execution_count": null,
      "outputs": [
        {
          "name": "stdout",
          "output_type": "stream",
          "text": [
            "0.741\n"
          ]
        }
      ]
    },
    {
      "cell_type": "code",
      "metadata": {
        "colab": {
          "base_uri": "https://localhost:8080/"
        },
        "id": "GevGFLasZDy3",
        "outputId": "b470044b-5a77-47e4-87d0-192b9b1029c7"
      },
      "source": [
        "print(classification_report(z_test, xgb_pred))"
      ],
      "execution_count": null,
      "outputs": [
        {
          "output_type": "stream",
          "name": "stdout",
          "text": [
            "              precision    recall  f1-score   support\n",
            "\n",
            "           1       1.00      0.50      0.67         6\n",
            "           2       0.00      0.00      0.00        10\n",
            "           3       0.64      0.22      0.33        41\n",
            "           4       0.67      0.33      0.44       272\n",
            "           5       0.75      0.95      0.84       671\n",
            "\n",
            "    accuracy                           0.74      1000\n",
            "   macro avg       0.61      0.40      0.46      1000\n",
            "weighted avg       0.72      0.74      0.70      1000\n",
            "\n"
          ]
        }
      ]
    },
    {
      "cell_type": "code",
      "metadata": {
        "colab": {
          "base_uri": "https://localhost:8080/",
          "height": 706
        },
        "id": "ZhvqmNJtZWNb",
        "outputId": "837b046d-ad3c-4312-f9e6-2189db395c62"
      },
      "source": [
        "from sklearn.metrics import confusion_matrix\n",
        "import seaborn as sns\n",
        "from sklearn.metrics import classification_report\n",
        "Ypred = xgb_pred\n",
        "label=['1', '2','3','4', '5']\n",
        "Ytrue = z_test \n",
        "cm = confusion_matrix(Ytrue, Ypred)\n",
        "plt.figure(figsize=(12, 12))\n",
        "plt.title(\"Confusion Matrix for XGBoost\")\n",
        "ax = sns.heatmap(cm, cmap=\"mako\", fmt=\".01f\",annot_kws={'size':16}, annot=True, square=True, xticklabels=label, yticklabels=label)\n",
        "ax.set_ylabel('Actual', fontsize=20)\n",
        "ax.set_xlabel('Predicted', fontsize=20)"
      ],
      "execution_count": null,
      "outputs": [
        {
          "output_type": "execute_result",
          "data": {
            "text/plain": [
              "Text(0.5, 145.31999999999996, 'Predicted')"
            ]
          },
          "metadata": {},
          "execution_count": 54
        },
        {
          "output_type": "display_data",
          "data": {
            "image/png": "[encoded data removed]",
            "text/plain": [
              "<Figure size 864x864 with 2 Axes>"
            ]
          },
          "metadata": {
            "needs_background": "light"
          }
        }
      ]
    },
    {
      "cell_type": "markdown",
      "metadata": {
        "id": "z0nfh0WgZdoB"
      },
      "source": [
        "**6. Neural Network**"
      ]
    },
    {
      "cell_type": "code",
      "metadata": {
        "colab": {
          "base_uri": "https://localhost:8080/"
        },
        "id": "695gXl_OZblo",
        "outputId": "569fbc2f-8c7f-44f2-b9dc-6366c85dcb04"
      },
      "source": [
        "from sklearn.neural_network import MLPClassifier\n",
        "nnc = MLPClassifier(hidden_layer_sizes=(9),activation=\"relu\",max_iter=1000)\n",
        "nnc.fit(y_train, z_train)\n",
        "nnc_predictions =nnc.predict(y_test)\n",
        "nnc_acc=accuracy_score(z_test, nnc_predictions)\n",
        "print(nnc_acc)"
      ],
      "execution_count": null,
      "outputs": [
        {
          "name": "stdout",
          "output_type": "stream",
          "text": [
            "0.721\n"
          ]
        }
      ]
    },
    {
      "cell_type": "code",
      "metadata": {
        "colab": {
          "base_uri": "https://localhost:8080/"
        },
        "id": "-VRa4x5dZoN_",
        "outputId": "1e4238a1-75dd-41da-a602-189e486a689f"
      },
      "source": [
        "print(classification_report(z_test, nnc_predictions))"
      ],
      "execution_count": null,
      "outputs": [
        {
          "name": "stdout",
          "output_type": "stream",
          "text": [
            "              precision    recall  f1-score   support\n",
            "\n",
            "           1       0.75      0.50      0.60         6\n",
            "           2       0.00      0.00      0.00        10\n",
            "           3       0.56      0.24      0.34        41\n",
            "           4       0.54      0.47      0.50       272\n",
            "           5       0.78      0.86      0.82       671\n",
            "\n",
            "    accuracy                           0.72      1000\n",
            "   macro avg       0.53      0.42      0.45      1000\n",
            "weighted avg       0.70      0.72      0.71      1000\n",
            "\n"
          ]
        },
        {
          "name": "stderr",
          "output_type": "stream",
          "text": [
            "/usr/local/lib/python3.7/dist-packages/sklearn/metrics/_classification.py:1308: UndefinedMetricWarning: Precision and F-score are ill-defined and being set to 0.0 in labels with no predicted samples. Use `zero_division` parameter to control this behavior.\n",
            "  _warn_prf(average, modifier, msg_start, len(result))\n",
            "/usr/local/lib/python3.7/dist-packages/sklearn/metrics/_classification.py:1308: UndefinedMetricWarning: Precision and F-score are ill-defined and being set to 0.0 in labels with no predicted samples. Use `zero_division` parameter to control this behavior.\n",
            "  _warn_prf(average, modifier, msg_start, len(result))\n",
            "/usr/local/lib/python3.7/dist-packages/sklearn/metrics/_classification.py:1308: UndefinedMetricWarning: Precision and F-score are ill-defined and being set to 0.0 in labels with no predicted samples. Use `zero_division` parameter to control this behavior.\n",
            "  _warn_prf(average, modifier, msg_start, len(result))\n"
          ]
        }
      ]
    },
    {
      "cell_type": "code",
      "metadata": {
        "colab": {
          "base_uri": "https://localhost:8080/",
          "height": 706
        },
        "id": "BikQWSLZZosv",
        "outputId": "1cf51794-7b4e-4234-dcc1-e7ada5f647d6"
      },
      "source": [
        "from sklearn.metrics import confusion_matrix\n",
        "import seaborn as sns\n",
        "from sklearn.metrics import classification_report\n",
        "Ypred = nnc_predictions\n",
        "label=['1', '2','3','4', '5']\n",
        "Ytrue = z_test\n",
        "cm = confusion_matrix(Ytrue, Ypred)\n",
        "plt.figure(figsize=(12, 12))\n",
        "plt.title(\"Confusion Matrix for Neural Network\")\n",
        "ax = sns.heatmap(cm, cmap=\"rocket_r\", fmt=\".01f\",annot_kws={'size':16}, annot=True, square=True, xticklabels=label, yticklabels=label)\n",
        "ax.set_ylabel('Actual', fontsize=20)\n",
        "ax.set_xlabel('Predicted', fontsize=20)"
      ],
      "execution_count": null,
      "outputs": [
        {
          "data": {
            "text/plain": [
              "Text(0.5, 145.31999999999996, 'Predicted')"
            ]
          },
          "execution_count": 43,
          "metadata": {},
          "output_type": "execute_result"
        },
        {
          "data": {
            "image/png": "[encoded data removed]",
            "text/plain": [
              "<Figure size 864x864 with 2 Axes>"
            ]
          },
          "metadata": {},
          "output_type": "display_data"
        }
      ]
    },
    {
      "cell_type": "markdown",
      "metadata": {
        "id": "gK32zbG8mDHN"
      },
      "source": [
        "**7. AdaBoost Classifier**"
      ]
    },
    {
      "cell_type": "code",
      "metadata": {
        "colab": {
          "base_uri": "https://localhost:8080/"
        },
        "id": "lR3Sj7zDJLOd",
        "outputId": "3dfaa6fb-2d32-47cd-f409-099c88ed8aae"
      },
      "source": [
        "from sklearn.ensemble import RandomForestClassifier\n",
        "from sklearn.tree import DecisionTreeClassifier\n",
        "randomf = RandomForestClassifier(n_jobs=-1)\n",
        "dtree = DecisionTreeClassifier( criterion='entropy')\n",
        "from sklearn.ensemble import AdaBoostClassifier\n",
        "ab = AdaBoostClassifier(randomf, n_estimators=500000, learning_rate=.5)\n",
        "ab.fit(y_train, z_train)\n",
        "ab_pred = ab.predict(y_test)\n",
        "ab_acc=accuracy_score(z_test, ab_pred)\n",
        "print(ab_acc)"
      ],
      "execution_count": null,
      "outputs": [
        {
          "name": "stdout",
          "output_type": "stream",
          "text": [
            "0.738\n"
          ]
        }
      ]
    },
    {
      "cell_type": "code",
      "metadata": {
        "colab": {
          "base_uri": "https://localhost:8080/",
          "height": 706
        },
        "id": "rFwdkIBLVwnK",
        "outputId": "2aaf125f-5e81-4a25-d91a-a8efbc02294d"
      },
      "source": [
        "from sklearn.metrics import confusion_matrix\n",
        "import seaborn as sns\n",
        "from sklearn.metrics import classification_report\n",
        "Ypred = ab_pred\n",
        "label=['1', '2','3','4', '5']\n",
        "Ytrue = z_test\n",
        "cm = confusion_matrix(Ytrue, Ypred)\n",
        "plt.figure(figsize=(12, 12))\n",
        "plt.title(\"Confusion Matrix for Adaboost Classifier\")\n",
        "ax = sns.heatmap(cm, cmap=\"rocket_r\", fmt=\".01f\",annot_kws={'size':16}, annot=True, square=True, xticklabels=label, yticklabels=label)\n",
        "ax.set_ylabel('Actual', fontsize=20)\n",
        "ax.set_xlabel('Predicted', fontsize=20)"
      ],
      "execution_count": null,
      "outputs": [
        {
          "data": {
            "text/plain": [
              "Text(0.5, 145.31999999999996, 'Predicted')"
            ]
          },
          "execution_count": 48,
          "metadata": {},
          "output_type": "execute_result"
        },
        {
          "data": {
            "image/png": "[encoded data removed]",
            "text/plain": [
              "<Figure size 864x864 with 2 Axes>"
            ]
          },
          "metadata": {},
          "output_type": "display_data"
        }
      ]
    },
    {
      "cell_type": "markdown",
      "metadata": {
        "id": "Krz-NtBQl72X"
      },
      "source": [
        "**8. Random Forest**"
      ]
    },
    {
      "cell_type": "code",
      "metadata": {
        "colab": {
          "base_uri": "https://localhost:8080/"
        },
        "id": "fPErBRAlXCKt",
        "outputId": "4171a3f4-7ef6-474c-b856-65b6218b34c6"
      },
      "source": [
        "from sklearn.ensemble import RandomForestClassifier\n",
        "randomf = RandomForestClassifier(n_estimators=100)\n",
        "randomf.fit(y_train, z_train)\n",
        "rf_pred = randomf.predict(y_test)\n",
        "rf_acc=accuracy_score(z_test, rf_pred)\n",
        "print(rf_acc)"
      ],
      "execution_count": null,
      "outputs": [
        {
          "name": "stdout",
          "output_type": "stream",
          "text": [
            "0.733\n"
          ]
        }
      ]
    },
    {
      "cell_type": "code",
      "metadata": {
        "colab": {
          "base_uri": "https://localhost:8080/",
          "height": 706
        },
        "id": "X3yjuSNkYZ27",
        "outputId": "e1b2372c-521c-44ea-bb00-ab2bef5eba35"
      },
      "source": [
        "from sklearn.metrics import confusion_matrix\n",
        "import seaborn as sns\n",
        "from sklearn.metrics import classification_report\n",
        "Ypred = rf_pred\n",
        "label=['1', '2','3','4', '5']\n",
        "Ytrue = z_test\n",
        "cm = confusion_matrix(Ytrue, Ypred)\n",
        "plt.figure(figsize=(12, 12))\n",
        "plt.title(\"Confusion Matrix for Random Forest Classifier\")\n",
        "ax = sns.heatmap(cm, cmap=\"rocket_r\", fmt=\".01f\",annot_kws={'size':16}, annot=True, square=True, xticklabels=label, yticklabels=label)\n",
        "ax.set_ylabel('Actual', fontsize=20)\n",
        "ax.set_xlabel('Predicted', fontsize=20)"
      ],
      "execution_count": null,
      "outputs": [
        {
          "data": {
            "text/plain": [
              "Text(0.5, 145.31999999999996, 'Predicted')"
            ]
          },
          "execution_count": 46,
          "metadata": {},
          "output_type": "execute_result"
        },
        {
          "data": {
            "image/png": "[encoded data removed]",
            "text/plain": [
              "<Figure size 864x864 with 2 Axes>"
            ]
          },
          "metadata": {},
          "output_type": "display_data"
        }
      ]
    },
    {
      "cell_type": "markdown",
      "metadata": {
        "id": "Fc6g3uspI3pY"
      },
      "source": [
        "**SVM_SVC 2**"
      ]
    },
    {
      "cell_type": "code",
      "metadata": {
        "colab": {
          "base_uri": "https://localhost:8080/"
        },
        "id": "hQLlJ_BFxaeO",
        "outputId": "24d3cb58-d20c-440a-ce7e-5e3e224359f2"
      },
      "source": [
        "from sklearn.svm import SVC\n",
        "classifier = SVC(kernel = 'linear', random_state = 0)\n",
        "classifier.fit(y_train,z_train)"
      ],
      "execution_count": null,
      "outputs": [
        {
          "output_type": "execute_result",
          "data": {
            "text/plain": [
              "SVC(kernel='linear', random_state=0)"
            ]
          },
          "metadata": {},
          "execution_count": 57
        }
      ]
    },
    {
      "cell_type": "code",
      "metadata": {
        "id": "18cVmjqs-hlH"
      },
      "source": [
        "svm_acc = classifier.predict(y_test)"
      ],
      "execution_count": null,
      "outputs": []
    },
    {
      "cell_type": "code",
      "metadata": {
        "colab": {
          "base_uri": "https://localhost:8080/"
        },
        "id": "zDOMCJeP_8N-",
        "outputId": "2ca9f9aa-a9db-4c72-cfae-ceb696232c7a"
      },
      "source": [
        "print(svm_acc)"
      ],
      "execution_count": null,
      "outputs": [
        {
          "output_type": "stream",
          "name": "stdout",
          "text": [
            "[4 5 5 5 5 5 5 5 5 5 5 5 5 5 5 4 5 5 5 5 5 5 5 5 5 4 5 5 5 5 5 5 5 5 5 5 5\n",
            " 5 5 5 5 5 5 5 5 5 5 5 5 5 5 5 5 5 5 5 5 5 4 5 5 5 5 5 5 5 5 5 5 5 5 5 5 5\n",
            " 5 5 5 5 5 5 4 5 5 5 5 4 5 5 5 4 5 5 5 5 5 5 5 5 5 5 5 5 5 5 5 5 5 5 5 5 5\n",
            " 5 5 4 5 5 5 5 5 5 5 5 5 4 5 5 5 5 5 5 5 5 5 5 5 4 4 5 5 5 5 5 5 5 5 5 5 5\n",
            " 5 5 5 5 5 5 5 5 5 5 4 5 5 5 5 5 5 5 5 5 4 5 5 5 5 5 5 5 5 5 5 5 5 5 5 5 5\n",
            " 5 5 4 5 5 5 5 4 5 5 5 5 5 5 5 5 5 5 5 4 5 5 5 5 5 5 5 5 5 5 4 5 5 5 5 5 5\n",
            " 5 5 5 5 4 4 5 5 5 5 5 5 5 5 4 5 5 4 5 4 1 5 5 4 5 5 5 5 4 5 5 5 5 5 5 5 5\n",
            " 5 5 5 5 5 5 5 5 4 5 5 5 5 5 5 4 4 5 5 5 5 5 4 4 5 5 5 5 5 5 5 5 5 5 5 5 5\n",
            " 5 5 5 5 5 5 5 5 5 5 5 4 5 5 5 5 5 5 5 5 5 5 5 5 5 5 5 5 5 5 5 5 5 5 4 5 5\n",
            " 5 5 5 4 5 5 5 5 5 4 5 5 5 5 5 5 5 5 5 5 5 5 5 5 5 5 5 5 5 5 5 4 5 5 5 5 5\n",
            " 4 5 5 5 5 5 5 5 5 5 5 5 5 4 5 5 5 4 5 5 5 5 5 5 5 5 5 5 5 5 5 5 5 5 5 4 5\n",
            " 5 5 5 5 5 5 5 4 5 5 5 5 5 4 5 5 5 5 5 5 5 5 5 5 5 5 5 5 5 4 5 5 5 5 5 5 5\n",
            " 5 5 5 5 5 5 5 5 5 5 4 5 5 5 5 5 5 5 5 5 5 5 5 5 5 5 5 4 5 5 5 5 5 5 5 5 5\n",
            " 5 5 5 5 4 5 5 5 5 5 5 5 5 5 5 5 5 5 5 5 5 5 5 5 5 4 5 5 5 5 5 5 5 5 5 5 5\n",
            " 5 5 5 5 5 4 5 5 5 5 5 5 5 5 5 4 5 5 5 5 5 4 5 5 5 5 5 5 5 5 5 5 5 4 5 5 5\n",
            " 5 5 5 5 5 5 5 5 5 5 5 5 5 5 5 5 5 5 5 5 5 5 5 5 5 5 5 4 5 5 5 5 5 5 5 5 5\n",
            " 5 5 5 5 5 5 5 4 4 5 5 5 5 5 5 5 5 5 5 5 5 5 5 5 5 5 5 5 5 5 5 5 5 5 5 5 4\n",
            " 5 1 5 5 5 5 5 5 5 5 5 4 5 5 5 5 5 5 5 5 5 5 5 5 5 5 5 5 5 4 5 5 5 5 5 5 5\n",
            " 5 5 5 5 4 5 5 5 5 5 5 5 5 5 5 4 4 5 5 5 5 5 5 5 5 5 5 5 5 5 5 5 5 5 5 5 5\n",
            " 5 5 5 4 5 4 5 5 5 5 5 5 5 5 5 5 5 5 5 5 5 5 5 5 5 5 5 5 5 5 5 5 5 4 5 5 5\n",
            " 5 5 5 5 5 5 5 5 5 5 4 5 4 5 5 5 5 5 5 5 5 5 5 5 5 5 5 5 5 5 5 5 4 5 5 5 5\n",
            " 5 5 5 5 5 5 5 5 5 5 5 5 5 5 5 5 5 5 5 5 5 5 5 5 5 5 4 5 5 4 5 5 5 5 5 4 5\n",
            " 5 5 5 5 5 5 5 5 5 5 5 5 5 5 4 5 5 5 5 5 5 5 5 4 5 5 5 4 5 5 4 5 5 5 5 5 5\n",
            " 5 5 5 5 5 5 5 5 3 5 5 4 5 5 5 5 5 5 5 5 5 5 5 5 5 5 4 5 5 5 5 5 5 5 5 5 5\n",
            " 5 5 5 5 5 5 5 4 5 5 5 5 5 5 5 5 4 4 5 4 5 5 5 4 5 5 5 5 5 5 5 4 5 5 5 5 5\n",
            " 5 5 5 4 4 5 5 5 5 5 5 5 5 5 5 5 5 5 5 5 5 5 5 5 5 4 5 5 5 5 5 5 5 5 4 5 5\n",
            " 5 5 5 5 5 5 5 4 5 5 5 5 5 5 5 5 4 5 5 5 5 5 5 5 5 5 5 5 5 5 4 5 5 5 5 5 5\n",
            " 4]\n"
          ]
        }
      ]
    },
    {
      "cell_type": "code",
      "metadata": {
        "colab": {
          "base_uri": "https://localhost:8080/"
        },
        "id": "VkdhxHhVAChX",
        "outputId": "1ccd58c1-69b6-4ed5-91e9-43cd9ca21765"
      },
      "source": [
        "print(classification_report(z_test, svm_acc))"
      ],
      "execution_count": null,
      "outputs": [
        {
          "output_type": "stream",
          "name": "stdout",
          "text": [
            "              precision    recall  f1-score   support\n",
            "\n",
            "           1       1.00      0.33      0.50         6\n",
            "           2       0.00      0.00      0.00        10\n",
            "           3       1.00      0.02      0.05        41\n",
            "           4       0.62      0.20      0.30       272\n",
            "           5       0.71      0.97      0.82       671\n",
            "\n",
            "    accuracy                           0.71      1000\n",
            "   macro avg       0.67      0.30      0.33      1000\n",
            "weighted avg       0.70      0.71      0.64      1000\n",
            "\n"
          ]
        },
        {
          "output_type": "stream",
          "name": "stderr",
          "text": [
            "/usr/local/lib/python3.7/dist-packages/sklearn/metrics/_classification.py:1308: UndefinedMetricWarning: Precision and F-score are ill-defined and being set to 0.0 in labels with no predicted samples. Use `zero_division` parameter to control this behavior.\n",
            "  _warn_prf(average, modifier, msg_start, len(result))\n",
            "/usr/local/lib/python3.7/dist-packages/sklearn/metrics/_classification.py:1308: UndefinedMetricWarning: Precision and F-score are ill-defined and being set to 0.0 in labels with no predicted samples. Use `zero_division` parameter to control this behavior.\n",
            "  _warn_prf(average, modifier, msg_start, len(result))\n",
            "/usr/local/lib/python3.7/dist-packages/sklearn/metrics/_classification.py:1308: UndefinedMetricWarning: Precision and F-score are ill-defined and being set to 0.0 in labels with no predicted samples. Use `zero_division` parameter to control this behavior.\n",
            "  _warn_prf(average, modifier, msg_start, len(result))\n"
          ]
        }
      ]
    },
    {
      "cell_type": "code",
      "metadata": {
        "colab": {
          "base_uri": "https://localhost:8080/",
          "height": 706
        },
        "id": "j1Pm7ugHATmh",
        "outputId": "a1611a23-fe20-4486-b785-9ce2263062d5"
      },
      "source": [
        "from sklearn.metrics import confusion_matrix\n",
        "import seaborn as sns\n",
        "from sklearn.metrics import classification_report\n",
        "Ypred = svm_acc\n",
        "label=['1', '2','3','4', '5']\n",
        "Ytrue = z_test\n",
        "cm = confusion_matrix(Ytrue, Ypred)\n",
        "plt.figure(figsize=(12, 12))\n",
        "plt.title(\"Confusion Matrix for Random Forest Classifier\")\n",
        "ax = sns.heatmap(cm, cmap=\"rocket_r\", fmt=\".01f\",annot_kws={'size':16}, annot=True, square=True, xticklabels=label, yticklabels=label)\n",
        "ax.set_ylabel('Actual', fontsize=20)\n",
        "ax.set_xlabel('Predicted', fontsize=20)"
      ],
      "execution_count": null,
      "outputs": [
        {
          "output_type": "execute_result",
          "data": {
            "text/plain": [
              "Text(0.5, 145.31999999999996, 'Predicted')"
            ]
          },
          "metadata": {},
          "execution_count": 65
        },
        {
          "output_type": "display_data",
          "data": {
            "image/png": "[encoded data removed]",
            "text/plain": [
              "<Figure size 864x864 with 2 Axes>"
            ]
          },
          "metadata": {
            "needs_background": "light"
          }
        }
      ]
    },
    {
      "cell_type": "markdown",
      "metadata": {
        "id": "cTjppkOkIy8x"
      },
      "source": [
        "**Apriori**"
      ]
    },
    {
      "cell_type": "code",
      "metadata": {
        "id": "SAwXaye7Akr4"
      },
      "source": [
        "dataset = pd.read_csv('/content/drive/MyDrive/Sentiment analysis/Datafiniti_Amazon_Consumer_Reviews_of_Amazon_Products.csv',  header = None)"
      ],
      "execution_count": null,
      "outputs": []
    },
    {
      "cell_type": "code",
      "metadata": {
        "id": "WxKCmWdABDUv"
      },
      "source": [
        "transactions = []"
      ],
      "execution_count": null,
      "outputs": []
    },
    {
      "cell_type": "code",
      "metadata": {
        "id": "-CvCt84CBMd7"
      },
      "source": [
        "for i in range(0,5001):\n",
        "  transactions.append([str(dataset.values[i,j]) for j in range (0,20)])"
      ],
      "execution_count": null,
      "outputs": []
    },
    {
      "cell_type": "code",
      "metadata": {
        "colab": {
          "base_uri": "https://localhost:8080/"
        },
        "id": "97cPsJlXCIkk",
        "outputId": "23cea0a7-eb5e-4129-fb19-266091d9ca93"
      },
      "source": [
        "!pip install apyori"
      ],
      "execution_count": null,
      "outputs": [
        {
          "output_type": "stream",
          "name": "stdout",
          "text": [
            "Collecting apyori\n",
            "  Downloading apyori-1.1.2.tar.gz (8.6 kB)\n",
            "Building wheels for collected packages: apyori\n",
            "  Building wheel for apyori (setup.py) ... \u001b[?25l\u001b[?25hdone\n",
            "  Created wheel for apyori: filename=apyori-1.1.2-py3-none-any.whl size=5974 sha256=b5b8cd292e423840b472460747e2ea487000b5655c5f83dc045d4b28582528eb\n",
            "  Stored in directory: /root/.cache/pip/wheels/cb/f6/e1/57973c631d27efd1a2f375bd6a83b2a616c4021f24aab84080\n",
            "Successfully built apyori\n",
            "Installing collected packages: apyori\n",
            "Successfully installed apyori-1.1.2\n"
          ]
        }
      ]
    },
    {
      "cell_type": "code",
      "metadata": {
        "id": "nFUFpAHIBe3V"
      },
      "source": [
        "from apyori import apriori\n",
        "rules = apriori(transactions, min_support = 0.003, min_confidence = 0.2, min_lift = 3, min_length = 2)"
      ],
      "execution_count": null,
      "outputs": []
    },
    {
      "cell_type": "code",
      "metadata": {
        "id": "4R8b0KtfB-gn"
      },
      "source": [
        "results = list(rules)"
      ],
      "execution_count": null,
      "outputs": []
    },
    {
      "cell_type": "code",
      "metadata": {
        "colab": {
          "base_uri": "https://localhost:8080/"
        },
        "id": "Jusl1DpfIqTb",
        "outputId": "8393bc22-cc3b-4fcf-dd8d-06657fbc192f"
      },
      "source": [
        "print(len(results))"
      ],
      "execution_count": null,
      "outputs": [
        {
          "output_type": "stream",
          "name": "stdout",
          "text": [
            "0\n"
          ]
        }
      ]
    },
    {
      "cell_type": "markdown",
      "metadata": {
        "id": "y5FycWV9O1Ky"
      },
      "source": [
        "**RNN**"
      ]
    },
    {
      "cell_type": "code",
      "metadata": {
        "id": "D0fh7L8VO0XC"
      },
      "source": [
        "import tensorflow as tf\n",
        "import keras"
      ],
      "execution_count": null,
      "outputs": []
    },
    {
      "cell_type": "code",
      "metadata": {
        "id": "Q3sSdwg2QGiS"
      },
      "source": [
        "ds = pd.read_csv('/content/drive/MyDrive/Sentiment analysis/Datafiniti_Amazon_Consumer_Reviews_of_Amazon_Products.csv', usecols = ['reviews.rating', 'reviews.text'])"
      ],
      "execution_count": null,
      "outputs": []
    },
    {
      "cell_type": "code",
      "metadata": {
        "id": "1-tWN4qkPAZL"
      },
      "source": [
        "tokenizer = keras.preprocessing.text.Tokenizer(char_level = True)\n",
        "tokenizer.fit_on_texts(ds['reviews.text'])"
      ],
      "execution_count": null,
      "outputs": []
    },
    {
      "cell_type": "code",
      "metadata": {
        "colab": {
          "base_uri": "https://localhost:8080/"
        },
        "id": "Gf0-GmW3PYM5",
        "outputId": "1783c27a-9f7c-4679-c98a-220214b9fdc7"
      },
      "source": [
        "tokenizer.texts_to_sequences(['First'])"
      ],
      "execution_count": null,
      "outputs": [
        {
          "output_type": "execute_result",
          "data": {
            "text/plain": [
              "[[18, 6, 9, 7, 3]]"
            ]
          },
          "metadata": {},
          "execution_count": 127
        }
      ]
    },
    {
      "cell_type": "code",
      "metadata": {
        "colab": {
          "base_uri": "https://localhost:8080/"
        },
        "id": "GRMNUfB4Pe8b",
        "outputId": "a9a4e97c-65c3-46ff-8ced-f1902c68e5bf"
      },
      "source": [
        "tokenizer.sequences_to_texts([[18, 6, 9, 7, 3]])"
      ],
      "execution_count": null,
      "outputs": [
        {
          "output_type": "execute_result",
          "data": {
            "text/plain": [
              "['f i r s t']"
            ]
          },
          "metadata": {},
          "execution_count": 128
        }
      ]
    },
    {
      "cell_type": "code",
      "metadata": {
        "id": "hlqIG9yGPng5"
      },
      "source": [
        "max_id = len(tokenizer.word_index)"
      ],
      "execution_count": null,
      "outputs": []
    },
    {
      "cell_type": "code",
      "metadata": {
        "id": "25Lt75uHPvJB"
      },
      "source": [
        "dataset_size = tokenizer.document_count"
      ],
      "execution_count": null,
      "outputs": []
    },
    {
      "cell_type": "code",
      "metadata": {
        "id": "kk_Gaq2TP3FI"
      },
      "source": [
        "train_size = dataset_size *90//100"
      ],
      "execution_count": null,
      "outputs": []
    },
    {
      "cell_type": "code",
      "metadata": {
        "id": "4DQHTImYQCuH"
      },
      "source": [
        "#dataset1 = tf.data.Dataset.from_tensor_slices(encoded [:train_size])"
      ],
      "execution_count": null,
      "outputs": []
    },
    {
      "cell_type": "code",
      "metadata": {
        "id": "e-W1hOqNQfqs"
      },
      "source": [],
      "execution_count": null,
      "outputs": []
    }
  ]
}