{
  "nbformat": 4,
  "nbformat_minor": 0,
  "metadata": {
    "colab": {
      "provenance": []
    },
    "kernelspec": {
      "display_name": "Python 3",
      "name": "python3"
    },
    "language_info": {
      "name": "python"
    }
  },
  "cells": [
    {
      "cell_type": "code",
      "metadata": {
        "id": "bP4T6AtVJIgZ"
      },
      "source": [
        "import pandas as pd\n",
        "import numpy as np  \n",
        "import matplotlib.pyplot as plt\n",
        "import seaborn as sns\n",
        "from sklearn.metrics import classification_report"
      ],
      "execution_count": null,
      "outputs": []
    },
    {
      "cell_type": "code",
      "metadata": {
        "colab": {
          "base_uri": "https://localhost:8080/"
        },
        "id": "7Qpy_vbHJTLZ",
        "outputId": "b9aa6947-e44a-43c2-febf-1d8fb477b922"
      },
      "source": [
        "from google.colab import drive\n",
        "drive.mount('/content/drive/') "
      ],
      "execution_count": null,
      "outputs": [
        {
          "name": "stdout",
          "output_type": "stream",
          "text": [
            "Drive already mounted at /content/drive/; to attempt to forcibly remount, call drive.mount(\"/content/drive/\", force_remount=True).\n"
          ]
        }
      ]
    },
    {
      "cell_type": "code",
      "metadata": {
        "id": "ewNCDj68JXOK"
      },
      "source": [
        "dataset = pd.read_csv('/content/drive/MyDrive/Drug review/drugsComTrain_raw.csv')"
      ],
      "execution_count": null,
      "outputs": []
    },
    {
      "cell_type": "code",
      "metadata": {
        "colab": {
          "base_uri": "https://localhost:8080/"
        },
        "id": "LxW82H33JlYh",
        "outputId": "f06c3082-0148-48a8-9006-5dcc5f54afbf"
      },
      "source": [
        "! pip install git+https://github.com/laxmimerit/preprocess_kgptalkie.git --upgrade --force-reinstall"
      ],
      "execution_count": null,
      "outputs": [
        {
          "name": "stdout",
          "output_type": "stream",
          "text": [
            "Collecting git+https://github.com/laxmimerit/preprocess_kgptalkie.git\n",
            "  Cloning https://github.com/laxmimerit/preprocess_kgptalkie.git to /tmp/pip-req-build-rvvjv9ri\n",
            "  Running command git clone -q https://github.com/laxmimerit/preprocess_kgptalkie.git /tmp/pip-req-build-rvvjv9ri\n",
            "Building wheels for collected packages: preprocess-kgptalkie\n",
            "  Building wheel for preprocess-kgptalkie (setup.py) ... \u001b[?25l\u001b[?25hdone\n",
            "  Created wheel for preprocess-kgptalkie: filename=preprocess_kgptalkie-0.1.3-py3-none-any.whl size=11754 sha256=7d24583b39d09c195177c6d49ba96682ba5de8bfee4bcf8b352dbf764d3023fb\n",
            "  Stored in directory: /tmp/pip-ephem-wheel-cache-kia8t5a6/wheels/0d/b3/29/bfe3deffda68980088d17b81331be6667e837ffb4a071bae82\n",
            "Successfully built preprocess-kgptalkie\n",
            "Installing collected packages: preprocess-kgptalkie\n",
            "  Attempting uninstall: preprocess-kgptalkie\n",
            "    Found existing installation: preprocess-kgptalkie 0.1.3\n",
            "    Uninstalling preprocess-kgptalkie-0.1.3:\n",
            "      Successfully uninstalled preprocess-kgptalkie-0.1.3\n",
            "Successfully installed preprocess-kgptalkie-0.1.3\n"
          ]
        }
      ]
    },
    {
      "cell_type": "code",
      "metadata": {
        "id": "fVCHLUoEJl7g"
      },
      "source": [
        "import preprocess_kgptalkie as ps\n",
        "import re"
      ],
      "execution_count": null,
      "outputs": []
    },
    {
      "cell_type": "code",
      "metadata": {
        "id": "4DHLAsCsJoDL"
      },
      "source": [
        "def get_clean(x):\n",
        "    x = str(x).lower().replace('\\\\', '').replace('_', ' ')\n",
        "    x = ps.cont_exp(x)\n",
        "    x = ps.remove_emails(x)\n",
        "    x = ps.remove_urls(x)\n",
        "    x = ps.remove_html_tags(x)\n",
        "    x = ps.remove_accented_chars(x)\n",
        "    x = ps.remove_special_chars(x)\n",
        "    x = re.sub(\"(.)\\\\1{2,}\", \"\\\\1\", x)\n",
        "    return x"
      ],
      "execution_count": null,
      "outputs": []
    },
    {
      "cell_type": "code",
      "metadata": {
        "id": "KInGvqA2Jpt5"
      },
      "source": [
        "dataset['review'] = dataset['review'].apply(lambda x: get_clean(x))"
      ],
      "execution_count": null,
      "outputs": []
    },
    {
      "cell_type": "code",
      "metadata": {
        "id": "bA1KAJ8qJsE5"
      },
      "source": [
        "from sklearn.feature_extraction.text import TfidfVectorizer"
      ],
      "execution_count": null,
      "outputs": []
    },
    {
      "cell_type": "code",
      "metadata": {
        "id": "i6dwV6PXJt1A"
      },
      "source": [
        "tfidf = TfidfVectorizer(max_features=40000, ngram_range=(1,5), analyzer='char')"
      ],
      "execution_count": null,
      "outputs": []
    },
    {
      "cell_type": "code",
      "metadata": {
        "id": "r3a1PS_kJv0w"
      },
      "source": [
        "X = tfidf.fit_transform(dataset['review'])\n",
        "Y = dataset['rating']"
      ],
      "execution_count": null,
      "outputs": []
    },
    {
      "cell_type": "code",
      "metadata": {
        "id": "F_tSVX8sJxT5"
      },
      "source": [
        "from sklearn.model_selection import train_test_split\n",
        "X_train, X_test, y_train, y_test = train_test_split(X, Y, test_size = 0.2, random_state = 0)"
      ],
      "execution_count": null,
      "outputs": []
    },
    {
      "cell_type": "code",
      "metadata": {
        "colab": {
          "background_save": true
        },
        "id": "Egj_uLAAQLKZ",
        "outputId": "8ea64d7e-397c-46bd-eb63-27c8174b04ef"
      },
      "source": [
        "from sklearn.ensemble import RandomForestClassifier\n",
        "from sklearn.metrics import accuracy_score\n",
        "randomf = RandomForestClassifier(n_estimators=100)\n",
        "randomf.fit(X_train, y_train)\n",
        "rf_pred = randomf.predict(X_test)\n",
        "rf_acc=accuracy_score(y_test, rf_pred)\n",
        "print(rf_acc)"
      ],
      "execution_count": null,
      "outputs": [
        {
          "name": "stdout",
          "output_type": "stream",
          "text": [
            "0.6776503409795412\n"
          ]
        }
      ]
    },
    {
      "cell_type": "code",
      "metadata": {
        "id": "Z3dqPtqEQOAA"
      },
      "source": [
        "from sklearn.neural_network import MLPClassifier\n",
        "from sklearn.metrics import accuracy_score\n",
        "nnc = MLPClassifier(hidden_layer_sizes=(9),activation=\"relu\",max_iter=1000)\n",
        "nnc.fit(X_train, y_train)\n",
        "nnc_predictions =nnc.predict(X_test)\n",
        "nnc_acc=accuracy_score(y_test, nnc_predictions)\n",
        "print(nnc_acc)"
      ],
      "execution_count": null,
      "outputs": []
    },
    {
      "cell_type": "code",
      "metadata": {
        "id": "ES8LEclSQ2F4"
      },
      "source": [
        "from sklearn.neighbors import KNeighborsClassifier\n",
        "classifier = KNeighborsClassifier(n_neighbors=5)\n",
        "classifier.fit(X_train, y_train)"
      ],
      "execution_count": null,
      "outputs": []
    },
    {
      "cell_type": "code",
      "metadata": {
        "id": "y26ePdhGQ4SZ"
      },
      "source": [
        "KNN_pred = classifier.predict(X_test)"
      ],
      "execution_count": null,
      "outputs": []
    },
    {
      "cell_type": "code",
      "metadata": {
        "id": "FbLrnVGEJ6xR"
      },
      "source": [
        "#StackingClassifier final_estimator=randomforest\n",
        "from sklearn.model_selection import GridSearchCV\n",
        "estimators = [('rf', randomf),('neural', nnc),\n",
        "        ('knn',knn)\n",
        "        ]\n",
        "from sklearn.ensemble import StackingClassifier\n",
        "final_estimator = {'final_estimator':[randomf,nnc,knn,None]}"
      ],
      "execution_count": null,
      "outputs": []
    },
    {
      "cell_type": "code",
      "metadata": {
        "id": "dHm27kEmJ-8Z"
      },
      "source": [
        "from sklearn.metrics import confusion_matrix\n",
        "from sklearn.preprocessing import LabelBinarizer\n",
        "from sklearn.model_selection import train_test_split"
      ],
      "execution_count": null,
      "outputs": []
    },
    {
      "cell_type": "code",
      "metadata": {
        "id": "ALkM2Q-kKCBw"
      },
      "source": [
        "newgsearchrandom =  StackingClassifier(estimators=estimators, n_jobs=-1,final_estimator=randomf)"
      ],
      "execution_count": null,
      "outputs": []
    },
    {
      "cell_type": "code",
      "metadata": {
        "id": "DxY9czk0KKHp"
      },
      "source": [
        "newgsearchrandom.fit(X_train, y_train)"
      ],
      "execution_count": null,
      "outputs": []
    },
    {
      "cell_type": "code",
      "metadata": {
        "id": "OB9j0LgtKMQ5"
      },
      "source": [
        "newgsearchrandom_pred = newgsearchrandom.predict(X_test)\n",
        "newgsearchrandom_acc=accuracy_score(y_test, newgsearchrandom_pred)\n",
        "print(newgsearchrandom_acc)"
      ],
      "execution_count": null,
      "outputs": []
    },
    {
      "cell_type": "code",
      "metadata": {
        "id": "k3ATCfkhKOnJ"
      },
      "source": [
        "print(classification_report(y_test, newgsearchrandom_pred))"
      ],
      "execution_count": null,
      "outputs": []
    },
    {
      "cell_type": "code",
      "metadata": {
        "id": "pVLP8fycKR9k"
      },
      "source": [
        "from sklearn.metrics import confusion_matrix\n",
        "import seaborn as sns\n",
        "from sklearn.metrics import classification_report\n",
        "Ypred = newgsearchrandom_pred\n",
        "label=['1', '2','3','4', '5','6','7','8']\n",
        "Ytrue = y_test\n",
        "cm = confusion_matrix(Ytrue, Ypred)\n",
        "plt.figure(figsize=(12, 12))\n",
        "plt.title(\"Confusion Matrix for Random Forest as Final Estimator\")\n",
        "ax = sns.heatmap(cm, cmap=\"rocket_r\", fmt=\".01f\",annot_kws={'size':16}, annot=True, square=True, xticklabels=label, yticklabels=label)\n",
        "ax.set_ylabel('Actual', fontsize=20)\n",
        "ax.set_xlabel('Predicted', fontsize=20)"
      ],
      "execution_count": null,
      "outputs": []
    }
  ]
}